{
  "cells": [
    {
      "cell_type": "markdown",
      "metadata": {
        "id": "view-in-github",
        "colab_type": "text"
      },
      "source": [
        "<a href=\"https://colab.research.google.com/github/lorquez/real_estate_price_predictor/blob/main/Data_Cleansing_real_estate_price.ipynb\" target=\"_parent\"><img src=\"https://colab.research.google.com/assets/colab-badge.svg\" alt=\"Open In Colab\"/></a>"
      ]
    },
    {
      "cell_type": "markdown",
      "source": [
        "These are the modules we will need for this project"
      ],
      "metadata": {
        "id": "NIn8R_tE8gxy"
      }
    },
    {
      "cell_type": "code",
      "source": [
        "from google.colab import drive\n",
        "drive.mount('/content/drive')"
      ],
      "metadata": {
        "colab": {
          "base_uri": "https://localhost:8080/"
        },
        "id": "ADZ44PBKsZF1",
        "outputId": "8fb4240a-9400-44af-a1b2-71659dbd4025"
      },
      "execution_count": 2,
      "outputs": [
        {
          "output_type": "stream",
          "name": "stdout",
          "text": [
            "Mounted at /content/drive\n"
          ]
        }
      ]
    },
    {
      "cell_type": "code",
      "source": [
        "from bs4 import BeautifulSoup\n",
        "import pandas as pd\n",
        "import numpy as np\n",
        "import requests\n",
        "import time\n",
        "import json\n",
        "import math\n",
        "import os"
      ],
      "metadata": {
        "id": "0aU76C2MTesz"
      },
      "execution_count": 3,
      "outputs": []
    },
    {
      "cell_type": "markdown",
      "source": [
        "Let's import the database and check it out"
      ],
      "metadata": {
        "id": "lT4eYQ3j8oRz"
      }
    },
    {
      "cell_type": "code",
      "source": [
        "datasets_folder = '/content/drive/MyDrive/Kschool_TFM/datasets/'"
      ],
      "metadata": {
        "id": "2qfAlOTajXLo"
      },
      "execution_count": 4,
      "outputs": []
    },
    {
      "cell_type": "code",
      "source": [
        "idealista_df = pd.read_csv(f'{datasets_folder}idealista_dataset.csv')\n",
        "idealista_df.sample(10)"
      ],
      "metadata": {
        "id": "iYoKytZXTcuC",
        "colab": {
          "base_uri": "https://localhost:8080/",
          "height": 392
        },
        "outputId": "c545019e-d55a-4d58-c45b-610519c9648e"
      },
      "execution_count": 5,
      "outputs": [
        {
          "output_type": "execute_result",
          "data": {
            "text/plain": [
              "             id propertyType  \\\n",
              "8514   95252195       chalet   \n",
              "9668   98093241         piso   \n",
              "10107  91159199         piso   \n",
              "8966   97788973         piso   \n",
              "11387  97461211         piso   \n",
              "11212  97997614         piso   \n",
              "5246   97491583         piso   \n",
              "12312  97694152         piso   \n",
              "7106   98362207         piso   \n",
              "1879   96810291         piso   \n",
              "\n",
              "                                                   title  \\\n",
              "8514   chalet adosado en venta en carretera rafael villa   \n",
              "9668   piso en venta en calle alto del esparragal & j...   \n",
              "10107             dúplex en venta en calle del barco, 45   \n",
              "8966   piso en venta en calle collado de cerro malejo, 6   \n",
              "11387                             ático en venta en goya   \n",
              "11212           piso en venta en calle de santa virgilia   \n",
              "5246                              piso en venta en lista   \n",
              "12312           piso en venta en calle mariano fernández   \n",
              "7106                 piso en venta en calle de preciados   \n",
              "1879     piso en venta en calle de carlos martín álvarez   \n",
              "\n",
              "                     locationId    price   size  hasParking  roomNumber  \\\n",
              "8514   0-EU-ES-28-07-001-079-09   990000  430.0           1           4   \n",
              "9668   0-EU-ES-28-07-001-079-19   359900  119.0           1           3   \n",
              "10107  0-EU-ES-28-07-001-079-01   250000   60.0           0           1   \n",
              "8966   0-EU-ES-28-07-001-079-08   560000  115.0           0           3   \n",
              "11387  0-EU-ES-28-07-001-079-04  1750000  200.0           0           4   \n",
              "11212  0-EU-ES-28-07-001-079-16   380000  115.0           0           3   \n",
              "5246   0-EU-ES-28-07-001-079-04   860000  154.0           0           4   \n",
              "12312  0-EU-ES-28-07-001-079-06   220000   60.0           0           2   \n",
              "7106   0-EU-ES-28-07-001-079-01   955000  168.0           0           5   \n",
              "1879   0-EU-ES-28-07-001-079-13   185000  100.0           0           4   \n",
              "\n",
              "       bathNumber  hasSwimmingPool  ...  hasGarden  hasLift  isGoodCondition  \\\n",
              "8514            5                1  ...          1        0                1   \n",
              "9668            2                0  ...          0        1                0   \n",
              "10107           1                0  ...          0        1                1   \n",
              "8966            2                1  ...          1        1                1   \n",
              "11387           3                0  ...          0        1                1   \n",
              "11212           2                0  ...          0        1                1   \n",
              "5246            3                0  ...          0        1                0   \n",
              "12312           1                0  ...          0        0                1   \n",
              "7106            1                0  ...          0        1                0   \n",
              "1879            1                0  ...          0        1                1   \n",
              "\n",
              "       isNeedsRenovating  isNewDevelopment      featureTags  \\\n",
              "8514                   0                 0         ['Lujo']   \n",
              "9668                   0                 1               []   \n",
              "10107                  0                 0               []   \n",
              "8966                   0                 0               []   \n",
              "11387                  0                 0         ['Lujo']   \n",
              "11212                  0                 0               []   \n",
              "5246                   1                 0               []   \n",
              "12312                  0                 0  ['Apartamento']   \n",
              "7106                   1                 0               []   \n",
              "1879                   0                 0               []   \n",
              "\n",
              "                               heatingType interiorExterior           floor  \\\n",
              "8514        Calefacción individual: Gasoil   does not apply  does not apply   \n",
              "9668                               no info         exterior       planta 5ª   \n",
              "10107                              no info         exterior            bajo   \n",
              "8966   Calefacción individual: Gas natural         interior       planta 1ª   \n",
              "11387             Calefacción central: Gas         exterior       planta 6ª   \n",
              "11212             Calefacción central: Gas         exterior       planta 1ª   \n",
              "5246                   Calefacción central         exterior       planta 2ª   \n",
              "12312    Calefacción individual: Eléctrica         interior       planta 3ª   \n",
              "7106                               no info         exterior       planta 2ª   \n",
              "1879   Calefacción individual: Gas natural         exterior       planta 1ª   \n",
              "\n",
              "                 area_name  \n",
              "8514               Moncloa  \n",
              "9668             Vicálvaro  \n",
              "10107               Centro  \n",
              "8966            Fuencarral  \n",
              "11387  Barrio de Salamanca  \n",
              "11212            Hortaleza  \n",
              "5246   Barrio de Salamanca  \n",
              "12312               Tetuán  \n",
              "7106                Centro  \n",
              "1879    Puente de Vallecas  \n",
              "\n",
              "[10 rows x 21 columns]"
            ],
            "text/html": [
              "\n",
              "  <div id=\"df-cf648006-cb02-4db4-a113-9ec12d0a1305\">\n",
              "    <div class=\"colab-df-container\">\n",
              "      <div>\n",
              "<style scoped>\n",
              "    .dataframe tbody tr th:only-of-type {\n",
              "        vertical-align: middle;\n",
              "    }\n",
              "\n",
              "    .dataframe tbody tr th {\n",
              "        vertical-align: top;\n",
              "    }\n",
              "\n",
              "    .dataframe thead th {\n",
              "        text-align: right;\n",
              "    }\n",
              "</style>\n",
              "<table border=\"1\" class=\"dataframe\">\n",
              "  <thead>\n",
              "    <tr style=\"text-align: right;\">\n",
              "      <th></th>\n",
              "      <th>id</th>\n",
              "      <th>propertyType</th>\n",
              "      <th>title</th>\n",
              "      <th>locationId</th>\n",
              "      <th>price</th>\n",
              "      <th>size</th>\n",
              "      <th>hasParking</th>\n",
              "      <th>roomNumber</th>\n",
              "      <th>bathNumber</th>\n",
              "      <th>hasSwimmingPool</th>\n",
              "      <th>...</th>\n",
              "      <th>hasGarden</th>\n",
              "      <th>hasLift</th>\n",
              "      <th>isGoodCondition</th>\n",
              "      <th>isNeedsRenovating</th>\n",
              "      <th>isNewDevelopment</th>\n",
              "      <th>featureTags</th>\n",
              "      <th>heatingType</th>\n",
              "      <th>interiorExterior</th>\n",
              "      <th>floor</th>\n",
              "      <th>area_name</th>\n",
              "    </tr>\n",
              "  </thead>\n",
              "  <tbody>\n",
              "    <tr>\n",
              "      <th>8514</th>\n",
              "      <td>95252195</td>\n",
              "      <td>chalet</td>\n",
              "      <td>chalet adosado en venta en carretera rafael villa</td>\n",
              "      <td>0-EU-ES-28-07-001-079-09</td>\n",
              "      <td>990000</td>\n",
              "      <td>430.0</td>\n",
              "      <td>1</td>\n",
              "      <td>4</td>\n",
              "      <td>5</td>\n",
              "      <td>1</td>\n",
              "      <td>...</td>\n",
              "      <td>1</td>\n",
              "      <td>0</td>\n",
              "      <td>1</td>\n",
              "      <td>0</td>\n",
              "      <td>0</td>\n",
              "      <td>['Lujo']</td>\n",
              "      <td>Calefacción individual: Gasoil</td>\n",
              "      <td>does not apply</td>\n",
              "      <td>does not apply</td>\n",
              "      <td>Moncloa</td>\n",
              "    </tr>\n",
              "    <tr>\n",
              "      <th>9668</th>\n",
              "      <td>98093241</td>\n",
              "      <td>piso</td>\n",
              "      <td>piso en venta en calle alto del esparragal &amp; j...</td>\n",
              "      <td>0-EU-ES-28-07-001-079-19</td>\n",
              "      <td>359900</td>\n",
              "      <td>119.0</td>\n",
              "      <td>1</td>\n",
              "      <td>3</td>\n",
              "      <td>2</td>\n",
              "      <td>0</td>\n",
              "      <td>...</td>\n",
              "      <td>0</td>\n",
              "      <td>1</td>\n",
              "      <td>0</td>\n",
              "      <td>0</td>\n",
              "      <td>1</td>\n",
              "      <td>[]</td>\n",
              "      <td>no info</td>\n",
              "      <td>exterior</td>\n",
              "      <td>planta 5ª</td>\n",
              "      <td>Vicálvaro</td>\n",
              "    </tr>\n",
              "    <tr>\n",
              "      <th>10107</th>\n",
              "      <td>91159199</td>\n",
              "      <td>piso</td>\n",
              "      <td>dúplex en venta en calle del barco, 45</td>\n",
              "      <td>0-EU-ES-28-07-001-079-01</td>\n",
              "      <td>250000</td>\n",
              "      <td>60.0</td>\n",
              "      <td>0</td>\n",
              "      <td>1</td>\n",
              "      <td>1</td>\n",
              "      <td>0</td>\n",
              "      <td>...</td>\n",
              "      <td>0</td>\n",
              "      <td>1</td>\n",
              "      <td>1</td>\n",
              "      <td>0</td>\n",
              "      <td>0</td>\n",
              "      <td>[]</td>\n",
              "      <td>no info</td>\n",
              "      <td>exterior</td>\n",
              "      <td>bajo</td>\n",
              "      <td>Centro</td>\n",
              "    </tr>\n",
              "    <tr>\n",
              "      <th>8966</th>\n",
              "      <td>97788973</td>\n",
              "      <td>piso</td>\n",
              "      <td>piso en venta en calle collado de cerro malejo, 6</td>\n",
              "      <td>0-EU-ES-28-07-001-079-08</td>\n",
              "      <td>560000</td>\n",
              "      <td>115.0</td>\n",
              "      <td>0</td>\n",
              "      <td>3</td>\n",
              "      <td>2</td>\n",
              "      <td>1</td>\n",
              "      <td>...</td>\n",
              "      <td>1</td>\n",
              "      <td>1</td>\n",
              "      <td>1</td>\n",
              "      <td>0</td>\n",
              "      <td>0</td>\n",
              "      <td>[]</td>\n",
              "      <td>Calefacción individual: Gas natural</td>\n",
              "      <td>interior</td>\n",
              "      <td>planta 1ª</td>\n",
              "      <td>Fuencarral</td>\n",
              "    </tr>\n",
              "    <tr>\n",
              "      <th>11387</th>\n",
              "      <td>97461211</td>\n",
              "      <td>piso</td>\n",
              "      <td>ático en venta en goya</td>\n",
              "      <td>0-EU-ES-28-07-001-079-04</td>\n",
              "      <td>1750000</td>\n",
              "      <td>200.0</td>\n",
              "      <td>0</td>\n",
              "      <td>4</td>\n",
              "      <td>3</td>\n",
              "      <td>0</td>\n",
              "      <td>...</td>\n",
              "      <td>0</td>\n",
              "      <td>1</td>\n",
              "      <td>1</td>\n",
              "      <td>0</td>\n",
              "      <td>0</td>\n",
              "      <td>['Lujo']</td>\n",
              "      <td>Calefacción central: Gas</td>\n",
              "      <td>exterior</td>\n",
              "      <td>planta 6ª</td>\n",
              "      <td>Barrio de Salamanca</td>\n",
              "    </tr>\n",
              "    <tr>\n",
              "      <th>11212</th>\n",
              "      <td>97997614</td>\n",
              "      <td>piso</td>\n",
              "      <td>piso en venta en calle de santa virgilia</td>\n",
              "      <td>0-EU-ES-28-07-001-079-16</td>\n",
              "      <td>380000</td>\n",
              "      <td>115.0</td>\n",
              "      <td>0</td>\n",
              "      <td>3</td>\n",
              "      <td>2</td>\n",
              "      <td>0</td>\n",
              "      <td>...</td>\n",
              "      <td>0</td>\n",
              "      <td>1</td>\n",
              "      <td>1</td>\n",
              "      <td>0</td>\n",
              "      <td>0</td>\n",
              "      <td>[]</td>\n",
              "      <td>Calefacción central: Gas</td>\n",
              "      <td>exterior</td>\n",
              "      <td>planta 1ª</td>\n",
              "      <td>Hortaleza</td>\n",
              "    </tr>\n",
              "    <tr>\n",
              "      <th>5246</th>\n",
              "      <td>97491583</td>\n",
              "      <td>piso</td>\n",
              "      <td>piso en venta en lista</td>\n",
              "      <td>0-EU-ES-28-07-001-079-04</td>\n",
              "      <td>860000</td>\n",
              "      <td>154.0</td>\n",
              "      <td>0</td>\n",
              "      <td>4</td>\n",
              "      <td>3</td>\n",
              "      <td>0</td>\n",
              "      <td>...</td>\n",
              "      <td>0</td>\n",
              "      <td>1</td>\n",
              "      <td>0</td>\n",
              "      <td>1</td>\n",
              "      <td>0</td>\n",
              "      <td>[]</td>\n",
              "      <td>Calefacción central</td>\n",
              "      <td>exterior</td>\n",
              "      <td>planta 2ª</td>\n",
              "      <td>Barrio de Salamanca</td>\n",
              "    </tr>\n",
              "    <tr>\n",
              "      <th>12312</th>\n",
              "      <td>97694152</td>\n",
              "      <td>piso</td>\n",
              "      <td>piso en venta en calle mariano fernández</td>\n",
              "      <td>0-EU-ES-28-07-001-079-06</td>\n",
              "      <td>220000</td>\n",
              "      <td>60.0</td>\n",
              "      <td>0</td>\n",
              "      <td>2</td>\n",
              "      <td>1</td>\n",
              "      <td>0</td>\n",
              "      <td>...</td>\n",
              "      <td>0</td>\n",
              "      <td>0</td>\n",
              "      <td>1</td>\n",
              "      <td>0</td>\n",
              "      <td>0</td>\n",
              "      <td>['Apartamento']</td>\n",
              "      <td>Calefacción individual: Eléctrica</td>\n",
              "      <td>interior</td>\n",
              "      <td>planta 3ª</td>\n",
              "      <td>Tetuán</td>\n",
              "    </tr>\n",
              "    <tr>\n",
              "      <th>7106</th>\n",
              "      <td>98362207</td>\n",
              "      <td>piso</td>\n",
              "      <td>piso en venta en calle de preciados</td>\n",
              "      <td>0-EU-ES-28-07-001-079-01</td>\n",
              "      <td>955000</td>\n",
              "      <td>168.0</td>\n",
              "      <td>0</td>\n",
              "      <td>5</td>\n",
              "      <td>1</td>\n",
              "      <td>0</td>\n",
              "      <td>...</td>\n",
              "      <td>0</td>\n",
              "      <td>1</td>\n",
              "      <td>0</td>\n",
              "      <td>1</td>\n",
              "      <td>0</td>\n",
              "      <td>[]</td>\n",
              "      <td>no info</td>\n",
              "      <td>exterior</td>\n",
              "      <td>planta 2ª</td>\n",
              "      <td>Centro</td>\n",
              "    </tr>\n",
              "    <tr>\n",
              "      <th>1879</th>\n",
              "      <td>96810291</td>\n",
              "      <td>piso</td>\n",
              "      <td>piso en venta en calle de carlos martín álvarez</td>\n",
              "      <td>0-EU-ES-28-07-001-079-13</td>\n",
              "      <td>185000</td>\n",
              "      <td>100.0</td>\n",
              "      <td>0</td>\n",
              "      <td>4</td>\n",
              "      <td>1</td>\n",
              "      <td>0</td>\n",
              "      <td>...</td>\n",
              "      <td>0</td>\n",
              "      <td>1</td>\n",
              "      <td>1</td>\n",
              "      <td>0</td>\n",
              "      <td>0</td>\n",
              "      <td>[]</td>\n",
              "      <td>Calefacción individual: Gas natural</td>\n",
              "      <td>exterior</td>\n",
              "      <td>planta 1ª</td>\n",
              "      <td>Puente de Vallecas</td>\n",
              "    </tr>\n",
              "  </tbody>\n",
              "</table>\n",
              "<p>10 rows × 21 columns</p>\n",
              "</div>\n",
              "      <button class=\"colab-df-convert\" onclick=\"convertToInteractive('df-cf648006-cb02-4db4-a113-9ec12d0a1305')\"\n",
              "              title=\"Convert this dataframe to an interactive table.\"\n",
              "              style=\"display:none;\">\n",
              "        \n",
              "  <svg xmlns=\"http://www.w3.org/2000/svg\" height=\"24px\"viewBox=\"0 0 24 24\"\n",
              "       width=\"24px\">\n",
              "    <path d=\"M0 0h24v24H0V0z\" fill=\"none\"/>\n",
              "    <path d=\"M18.56 5.44l.94 2.06.94-2.06 2.06-.94-2.06-.94-.94-2.06-.94 2.06-2.06.94zm-11 1L8.5 8.5l.94-2.06 2.06-.94-2.06-.94L8.5 2.5l-.94 2.06-2.06.94zm10 10l.94 2.06.94-2.06 2.06-.94-2.06-.94-.94-2.06-.94 2.06-2.06.94z\"/><path d=\"M17.41 7.96l-1.37-1.37c-.4-.4-.92-.59-1.43-.59-.52 0-1.04.2-1.43.59L10.3 9.45l-7.72 7.72c-.78.78-.78 2.05 0 2.83L4 21.41c.39.39.9.59 1.41.59.51 0 1.02-.2 1.41-.59l7.78-7.78 2.81-2.81c.8-.78.8-2.07 0-2.86zM5.41 20L4 18.59l7.72-7.72 1.47 1.35L5.41 20z\"/>\n",
              "  </svg>\n",
              "      </button>\n",
              "      \n",
              "  <style>\n",
              "    .colab-df-container {\n",
              "      display:flex;\n",
              "      flex-wrap:wrap;\n",
              "      gap: 12px;\n",
              "    }\n",
              "\n",
              "    .colab-df-convert {\n",
              "      background-color: #E8F0FE;\n",
              "      border: none;\n",
              "      border-radius: 50%;\n",
              "      cursor: pointer;\n",
              "      display: none;\n",
              "      fill: #1967D2;\n",
              "      height: 32px;\n",
              "      padding: 0 0 0 0;\n",
              "      width: 32px;\n",
              "    }\n",
              "\n",
              "    .colab-df-convert:hover {\n",
              "      background-color: #E2EBFA;\n",
              "      box-shadow: 0px 1px 2px rgba(60, 64, 67, 0.3), 0px 1px 3px 1px rgba(60, 64, 67, 0.15);\n",
              "      fill: #174EA6;\n",
              "    }\n",
              "\n",
              "    [theme=dark] .colab-df-convert {\n",
              "      background-color: #3B4455;\n",
              "      fill: #D2E3FC;\n",
              "    }\n",
              "\n",
              "    [theme=dark] .colab-df-convert:hover {\n",
              "      background-color: #434B5C;\n",
              "      box-shadow: 0px 1px 3px 1px rgba(0, 0, 0, 0.15);\n",
              "      filter: drop-shadow(0px 1px 2px rgba(0, 0, 0, 0.3));\n",
              "      fill: #FFFFFF;\n",
              "    }\n",
              "  </style>\n",
              "\n",
              "      <script>\n",
              "        const buttonEl =\n",
              "          document.querySelector('#df-cf648006-cb02-4db4-a113-9ec12d0a1305 button.colab-df-convert');\n",
              "        buttonEl.style.display =\n",
              "          google.colab.kernel.accessAllowed ? 'block' : 'none';\n",
              "\n",
              "        async function convertToInteractive(key) {\n",
              "          const element = document.querySelector('#df-cf648006-cb02-4db4-a113-9ec12d0a1305');\n",
              "          const dataTable =\n",
              "            await google.colab.kernel.invokeFunction('convertToInteractive',\n",
              "                                                     [key], {});\n",
              "          if (!dataTable) return;\n",
              "\n",
              "          const docLinkHtml = 'Like what you see? Visit the ' +\n",
              "            '<a target=\"_blank\" href=https://colab.research.google.com/notebooks/data_table.ipynb>data table notebook</a>'\n",
              "            + ' to learn more about interactive tables.';\n",
              "          element.innerHTML = '';\n",
              "          dataTable['output_type'] = 'display_data';\n",
              "          await google.colab.output.renderOutput(dataTable, element);\n",
              "          const docLink = document.createElement('div');\n",
              "          docLink.innerHTML = docLinkHtml;\n",
              "          element.appendChild(docLink);\n",
              "        }\n",
              "      </script>\n",
              "    </div>\n",
              "  </div>\n",
              "  "
            ]
          },
          "metadata": {},
          "execution_count": 5
        }
      ]
    },
    {
      "cell_type": "code",
      "source": [
        "idealista_df.isna().any()"
      ],
      "metadata": {
        "colab": {
          "base_uri": "https://localhost:8080/"
        },
        "id": "PuhOrJx7r6LR",
        "outputId": "8a4bb134-532f-437c-e0ed-9f88c8f15efe"
      },
      "execution_count": 6,
      "outputs": [
        {
          "output_type": "execute_result",
          "data": {
            "text/plain": [
              "id                   False\n",
              "propertyType         False\n",
              "title                False\n",
              "locationId           False\n",
              "price                False\n",
              "size                 False\n",
              "hasParking           False\n",
              "roomNumber           False\n",
              "bathNumber           False\n",
              "hasSwimmingPool      False\n",
              "hasTerrace           False\n",
              "hasGarden            False\n",
              "hasLift              False\n",
              "isGoodCondition      False\n",
              "isNeedsRenovating    False\n",
              "isNewDevelopment     False\n",
              "featureTags          False\n",
              "heatingType          False\n",
              "interiorExterior     False\n",
              "floor                False\n",
              "area_name            False\n",
              "dtype: bool"
            ]
          },
          "metadata": {},
          "execution_count": 6
        }
      ]
    },
    {
      "cell_type": "markdown",
      "source": [
        "Looks like idealista dataset has no NaN value."
      ],
      "metadata": {
        "id": "ftpoL39lr_d5"
      }
    },
    {
      "cell_type": "code",
      "source": [
        "idealista_df.dtypes"
      ],
      "metadata": {
        "colab": {
          "base_uri": "https://localhost:8080/"
        },
        "id": "UoAxOCzz_ksS",
        "outputId": "60d933c2-4800-48db-bbee-3f054b8217a2"
      },
      "execution_count": 7,
      "outputs": [
        {
          "output_type": "execute_result",
          "data": {
            "text/plain": [
              "id                     int64\n",
              "propertyType          object\n",
              "title                 object\n",
              "locationId            object\n",
              "price                  int64\n",
              "size                 float64\n",
              "hasParking             int64\n",
              "roomNumber             int64\n",
              "bathNumber             int64\n",
              "hasSwimmingPool        int64\n",
              "hasTerrace             int64\n",
              "hasGarden              int64\n",
              "hasLift                int64\n",
              "isGoodCondition        int64\n",
              "isNeedsRenovating      int64\n",
              "isNewDevelopment       int64\n",
              "featureTags           object\n",
              "heatingType           object\n",
              "interiorExterior      object\n",
              "floor                 object\n",
              "area_name             object\n",
              "dtype: object"
            ]
          },
          "metadata": {},
          "execution_count": 7
        }
      ]
    },
    {
      "cell_type": "markdown",
      "source": [
        "**Fotocasa Data Cleansing**"
      ],
      "metadata": {
        "id": "lkvXMsb1uDKC"
      }
    },
    {
      "cell_type": "code",
      "source": [
        "fotocasa_df = pd.read_csv(f'{datasets_folder}fotocasa_dataset.csv')\n",
        "fotocasa_df.sample(10)"
      ],
      "metadata": {
        "colab": {
          "base_uri": "https://localhost:8080/",
          "height": 392
        },
        "id": "h7DTSrH29Nec",
        "outputId": "bb41e062-cd7b-405b-ebd2-207653d02893"
      },
      "execution_count": 8,
      "outputs": [
        {
          "output_type": "execute_result",
          "data": {
            "text/plain": [
              "         origin  page                                              title  \\\n",
              "24782  fotocasa   426    Ático en venta en Calle de José Ortega y Gasset   \n",
              "11846  fotocasa   339                  Piso en venta en Calle del Hierro   \n",
              "17251  fotocasa   549             Piso en venta en Calle de Arturo Soria   \n",
              "2645   fotocasa   383    Piso en venta en Calle del Collado del Hornillo   \n",
              "28124  fotocasa   137  Casa o chalet en venta en Carretera de Colmena...   \n",
              "21466  fotocasa   209              Piso en venta en Calle de Palencia, 1   \n",
              "14449  fotocasa   706        Piso en venta en Paseo de la Reina Cristina   \n",
              "16258  fotocasa   147                            Piso en venta en Berlin   \n",
              "27775  fotocasa   591    Piso en venta en Calle de la Reina Mercedes, 13   \n",
              "24566  fotocasa   677                 Piso en venta en Calle Pío XII, 16   \n",
              "\n",
              "                                                    link  \\\n",
              "24782  https://www.fotocasa.es/es/comprar/vivienda/ma...   \n",
              "11846  https://www.fotocasa.es/es/comprar/vivienda/ma...   \n",
              "17251  https://www.fotocasa.es/es/comprar/vivienda/ma...   \n",
              "2645   https://www.fotocasa.es/es/comprar/vivienda/ma...   \n",
              "28124  https://www.fotocasa.es/es/comprar/vivienda/ga...   \n",
              "21466  https://www.fotocasa.es/es/comprar/vivienda/to...   \n",
              "14449  https://www.fotocasa.es/es/comprar/vivienda/ma...   \n",
              "16258  https://www.fotocasa.es/es/comprar/vivienda/co...   \n",
              "27775  https://www.fotocasa.es/es/comprar/vivienda/ma...   \n",
              "24566  https://www.fotocasa.es/es/comprar/vivienda/co...   \n",
              "\n",
              "                                               image_url country  \\\n",
              "24782  https://static.inmofactory.com/images/inmofact...  España   \n",
              "11846  https://static.fotocasa.es/images/anuncio/2022...  España   \n",
              "17251  https://static.fotocasa.es/images/anuncio/2022...  España   \n",
              "2645   https://static.fotocasa.es/images/anuncio/2022...  España   \n",
              "28124  https://static.inmofactory.com/images/inmofact...  España   \n",
              "21466  https://static.inmofactory.com/images/inmofact...  España   \n",
              "14449  https://static.inmofactory.com/images/inmofact...  España   \n",
              "16258  https://static.inmofactory.com/images/inmofact...  España   \n",
              "27775  https://static.fotocasa.es/images/anuncio/2022...  España   \n",
              "24566  https://static.fotocasa.es/images/anuncio/0001...  España   \n",
              "\n",
              "                    district           neighborhood  \\\n",
              "24782    Barrio de Salamanca                  Lista   \n",
              "11846             Arganzuela                Legazpi   \n",
              "17251          Ciudad Lineal            Costillares   \n",
              "2645   Fuencarral - El Pardo      Arroyo del Fresno   \n",
              "28124            La Canaleja                    NaN   \n",
              "21466                 Centro                    NaN   \n",
              "14449                 Retiro               Pacífico   \n",
              "16258              Ciudad 70                    NaN   \n",
              "27775                 Tetuán  Cuatro Caminos - Azca   \n",
              "24566      Villalba Estación                    NaN   \n",
              "\n",
              "                               street zipCode  ... surface energyCertificate  \\\n",
              "24782   Calle de José Ortega y Gasset   28006  ...      91                 G   \n",
              "11846                Calle del Hierro   28045  ...     118                 G   \n",
              "17251           Calle de Arturo Soria   28033  ...     168                 E   \n",
              "2645   Calle del Collado del Hornillo   28035  ...     142                 D   \n",
              "28124    Carretera de Colmenarejo, 45   28260  ...     450                 G   \n",
              "21466            Calle de Palencia, 1   28850  ...      86                 G   \n",
              "14449      Paseo de la Reina Cristina   28014  ...     147                 G   \n",
              "16258                          Berlin   28822  ...      75                 G   \n",
              "27775  Calle de la Reina Mercedes, 13   28020  ...     140                 G   \n",
              "24566               Calle Pío XII, 16   28400  ...      90                 G   \n",
              "\n",
              "          hotWater heating conservationState     antiquity floor surfaceLand  \\\n",
              "24782  Gas Natural     NaN          Muy bien           NaN    12           0   \n",
              "11846          NaN     NaN              Bien  10 a 20 años     0           0   \n",
              "17251          NaN     NaN              Bien  30 a 50 años     0           0   \n",
              "2645           NaN     NaN          Muy bien  20 a 30 años     0           0   \n",
              "28124          NaN     NaN        A reformar  30 a 50 años     5           0   \n",
              "21466          NaN     NaN          Muy bien           NaN     9           0   \n",
              "14449          NaN     NaN              Bien           NaN     9           0   \n",
              "16258          NaN     NaN               NaN           NaN     8           0   \n",
              "27775          NaN     NaN          Muy bien  50 a 70 años     0           0   \n",
              "24566          NaN     NaN              Bien  30 a 50 años     0           0   \n",
              "\n",
              "                                           otherFeatures   price  \n",
              "24782  {'1': 'Aire acondicionado', '2': 'Armarios', '...  575000  \n",
              "11846  {'1': 'Aire acondicionado', '2': 'Armarios', '...  429999  \n",
              "17251  {'1': 'Aire acondicionado', '2': 'Armarios', '...  775000  \n",
              "2645   {'2': 'Armarios', '3': 'Calefacción', '9': 'Pa...  587000  \n",
              "28124           {'7': 'Jardín Privado', '17': 'Piscina'}  600000  \n",
              "21466  {'2': 'Armarios', '3': 'Calefacción', '6': 'Gr...  119500  \n",
              "14449  {'1': 'Aire acondicionado', '3': 'Calefacción'...  569000  \n",
              "16258  {'1': 'Aire acondicionado', '3': 'Calefacción'...  146000  \n",
              "27775  {'2': 'Armarios', '3': 'Calefacción', '9': 'Pa...  720000  \n",
              "24566                  {'10': 'Terraza', '32': 'Balcón'}  180000  \n",
              "\n",
              "[10 rows x 31 columns]"
            ],
            "text/html": [
              "\n",
              "  <div id=\"df-3db3ea79-91d3-4bfe-be75-458c0ceedcc3\">\n",
              "    <div class=\"colab-df-container\">\n",
              "      <div>\n",
              "<style scoped>\n",
              "    .dataframe tbody tr th:only-of-type {\n",
              "        vertical-align: middle;\n",
              "    }\n",
              "\n",
              "    .dataframe tbody tr th {\n",
              "        vertical-align: top;\n",
              "    }\n",
              "\n",
              "    .dataframe thead th {\n",
              "        text-align: right;\n",
              "    }\n",
              "</style>\n",
              "<table border=\"1\" class=\"dataframe\">\n",
              "  <thead>\n",
              "    <tr style=\"text-align: right;\">\n",
              "      <th></th>\n",
              "      <th>origin</th>\n",
              "      <th>page</th>\n",
              "      <th>title</th>\n",
              "      <th>link</th>\n",
              "      <th>image_url</th>\n",
              "      <th>country</th>\n",
              "      <th>district</th>\n",
              "      <th>neighborhood</th>\n",
              "      <th>street</th>\n",
              "      <th>zipCode</th>\n",
              "      <th>...</th>\n",
              "      <th>surface</th>\n",
              "      <th>energyCertificate</th>\n",
              "      <th>hotWater</th>\n",
              "      <th>heating</th>\n",
              "      <th>conservationState</th>\n",
              "      <th>antiquity</th>\n",
              "      <th>floor</th>\n",
              "      <th>surfaceLand</th>\n",
              "      <th>otherFeatures</th>\n",
              "      <th>price</th>\n",
              "    </tr>\n",
              "  </thead>\n",
              "  <tbody>\n",
              "    <tr>\n",
              "      <th>24782</th>\n",
              "      <td>fotocasa</td>\n",
              "      <td>426</td>\n",
              "      <td>Ático en venta en Calle de José Ortega y Gasset</td>\n",
              "      <td>https://www.fotocasa.es/es/comprar/vivienda/ma...</td>\n",
              "      <td>https://static.inmofactory.com/images/inmofact...</td>\n",
              "      <td>España</td>\n",
              "      <td>Barrio de Salamanca</td>\n",
              "      <td>Lista</td>\n",
              "      <td>Calle de José Ortega y Gasset</td>\n",
              "      <td>28006</td>\n",
              "      <td>...</td>\n",
              "      <td>91</td>\n",
              "      <td>G</td>\n",
              "      <td>Gas Natural</td>\n",
              "      <td>NaN</td>\n",
              "      <td>Muy bien</td>\n",
              "      <td>NaN</td>\n",
              "      <td>12</td>\n",
              "      <td>0</td>\n",
              "      <td>{'1': 'Aire acondicionado', '2': 'Armarios', '...</td>\n",
              "      <td>575000</td>\n",
              "    </tr>\n",
              "    <tr>\n",
              "      <th>11846</th>\n",
              "      <td>fotocasa</td>\n",
              "      <td>339</td>\n",
              "      <td>Piso en venta en Calle del Hierro</td>\n",
              "      <td>https://www.fotocasa.es/es/comprar/vivienda/ma...</td>\n",
              "      <td>https://static.fotocasa.es/images/anuncio/2022...</td>\n",
              "      <td>España</td>\n",
              "      <td>Arganzuela</td>\n",
              "      <td>Legazpi</td>\n",
              "      <td>Calle del Hierro</td>\n",
              "      <td>28045</td>\n",
              "      <td>...</td>\n",
              "      <td>118</td>\n",
              "      <td>G</td>\n",
              "      <td>NaN</td>\n",
              "      <td>NaN</td>\n",
              "      <td>Bien</td>\n",
              "      <td>10 a 20 años</td>\n",
              "      <td>0</td>\n",
              "      <td>0</td>\n",
              "      <td>{'1': 'Aire acondicionado', '2': 'Armarios', '...</td>\n",
              "      <td>429999</td>\n",
              "    </tr>\n",
              "    <tr>\n",
              "      <th>17251</th>\n",
              "      <td>fotocasa</td>\n",
              "      <td>549</td>\n",
              "      <td>Piso en venta en Calle de Arturo Soria</td>\n",
              "      <td>https://www.fotocasa.es/es/comprar/vivienda/ma...</td>\n",
              "      <td>https://static.fotocasa.es/images/anuncio/2022...</td>\n",
              "      <td>España</td>\n",
              "      <td>Ciudad Lineal</td>\n",
              "      <td>Costillares</td>\n",
              "      <td>Calle de Arturo Soria</td>\n",
              "      <td>28033</td>\n",
              "      <td>...</td>\n",
              "      <td>168</td>\n",
              "      <td>E</td>\n",
              "      <td>NaN</td>\n",
              "      <td>NaN</td>\n",
              "      <td>Bien</td>\n",
              "      <td>30 a 50 años</td>\n",
              "      <td>0</td>\n",
              "      <td>0</td>\n",
              "      <td>{'1': 'Aire acondicionado', '2': 'Armarios', '...</td>\n",
              "      <td>775000</td>\n",
              "    </tr>\n",
              "    <tr>\n",
              "      <th>2645</th>\n",
              "      <td>fotocasa</td>\n",
              "      <td>383</td>\n",
              "      <td>Piso en venta en Calle del Collado del Hornillo</td>\n",
              "      <td>https://www.fotocasa.es/es/comprar/vivienda/ma...</td>\n",
              "      <td>https://static.fotocasa.es/images/anuncio/2022...</td>\n",
              "      <td>España</td>\n",
              "      <td>Fuencarral - El Pardo</td>\n",
              "      <td>Arroyo del Fresno</td>\n",
              "      <td>Calle del Collado del Hornillo</td>\n",
              "      <td>28035</td>\n",
              "      <td>...</td>\n",
              "      <td>142</td>\n",
              "      <td>D</td>\n",
              "      <td>NaN</td>\n",
              "      <td>NaN</td>\n",
              "      <td>Muy bien</td>\n",
              "      <td>20 a 30 años</td>\n",
              "      <td>0</td>\n",
              "      <td>0</td>\n",
              "      <td>{'2': 'Armarios', '3': 'Calefacción', '9': 'Pa...</td>\n",
              "      <td>587000</td>\n",
              "    </tr>\n",
              "    <tr>\n",
              "      <th>28124</th>\n",
              "      <td>fotocasa</td>\n",
              "      <td>137</td>\n",
              "      <td>Casa o chalet en venta en Carretera de Colmena...</td>\n",
              "      <td>https://www.fotocasa.es/es/comprar/vivienda/ga...</td>\n",
              "      <td>https://static.inmofactory.com/images/inmofact...</td>\n",
              "      <td>España</td>\n",
              "      <td>La Canaleja</td>\n",
              "      <td>NaN</td>\n",
              "      <td>Carretera de Colmenarejo, 45</td>\n",
              "      <td>28260</td>\n",
              "      <td>...</td>\n",
              "      <td>450</td>\n",
              "      <td>G</td>\n",
              "      <td>NaN</td>\n",
              "      <td>NaN</td>\n",
              "      <td>A reformar</td>\n",
              "      <td>30 a 50 años</td>\n",
              "      <td>5</td>\n",
              "      <td>0</td>\n",
              "      <td>{'7': 'Jardín Privado', '17': 'Piscina'}</td>\n",
              "      <td>600000</td>\n",
              "    </tr>\n",
              "    <tr>\n",
              "      <th>21466</th>\n",
              "      <td>fotocasa</td>\n",
              "      <td>209</td>\n",
              "      <td>Piso en venta en Calle de Palencia, 1</td>\n",
              "      <td>https://www.fotocasa.es/es/comprar/vivienda/to...</td>\n",
              "      <td>https://static.inmofactory.com/images/inmofact...</td>\n",
              "      <td>España</td>\n",
              "      <td>Centro</td>\n",
              "      <td>NaN</td>\n",
              "      <td>Calle de Palencia, 1</td>\n",
              "      <td>28850</td>\n",
              "      <td>...</td>\n",
              "      <td>86</td>\n",
              "      <td>G</td>\n",
              "      <td>NaN</td>\n",
              "      <td>NaN</td>\n",
              "      <td>Muy bien</td>\n",
              "      <td>NaN</td>\n",
              "      <td>9</td>\n",
              "      <td>0</td>\n",
              "      <td>{'2': 'Armarios', '3': 'Calefacción', '6': 'Gr...</td>\n",
              "      <td>119500</td>\n",
              "    </tr>\n",
              "    <tr>\n",
              "      <th>14449</th>\n",
              "      <td>fotocasa</td>\n",
              "      <td>706</td>\n",
              "      <td>Piso en venta en Paseo de la Reina Cristina</td>\n",
              "      <td>https://www.fotocasa.es/es/comprar/vivienda/ma...</td>\n",
              "      <td>https://static.inmofactory.com/images/inmofact...</td>\n",
              "      <td>España</td>\n",
              "      <td>Retiro</td>\n",
              "      <td>Pacífico</td>\n",
              "      <td>Paseo de la Reina Cristina</td>\n",
              "      <td>28014</td>\n",
              "      <td>...</td>\n",
              "      <td>147</td>\n",
              "      <td>G</td>\n",
              "      <td>NaN</td>\n",
              "      <td>NaN</td>\n",
              "      <td>Bien</td>\n",
              "      <td>NaN</td>\n",
              "      <td>9</td>\n",
              "      <td>0</td>\n",
              "      <td>{'1': 'Aire acondicionado', '3': 'Calefacción'...</td>\n",
              "      <td>569000</td>\n",
              "    </tr>\n",
              "    <tr>\n",
              "      <th>16258</th>\n",
              "      <td>fotocasa</td>\n",
              "      <td>147</td>\n",
              "      <td>Piso en venta en Berlin</td>\n",
              "      <td>https://www.fotocasa.es/es/comprar/vivienda/co...</td>\n",
              "      <td>https://static.inmofactory.com/images/inmofact...</td>\n",
              "      <td>España</td>\n",
              "      <td>Ciudad 70</td>\n",
              "      <td>NaN</td>\n",
              "      <td>Berlin</td>\n",
              "      <td>28822</td>\n",
              "      <td>...</td>\n",
              "      <td>75</td>\n",
              "      <td>G</td>\n",
              "      <td>NaN</td>\n",
              "      <td>NaN</td>\n",
              "      <td>NaN</td>\n",
              "      <td>NaN</td>\n",
              "      <td>8</td>\n",
              "      <td>0</td>\n",
              "      <td>{'1': 'Aire acondicionado', '3': 'Calefacción'...</td>\n",
              "      <td>146000</td>\n",
              "    </tr>\n",
              "    <tr>\n",
              "      <th>27775</th>\n",
              "      <td>fotocasa</td>\n",
              "      <td>591</td>\n",
              "      <td>Piso en venta en Calle de la Reina Mercedes, 13</td>\n",
              "      <td>https://www.fotocasa.es/es/comprar/vivienda/ma...</td>\n",
              "      <td>https://static.fotocasa.es/images/anuncio/2022...</td>\n",
              "      <td>España</td>\n",
              "      <td>Tetuán</td>\n",
              "      <td>Cuatro Caminos - Azca</td>\n",
              "      <td>Calle de la Reina Mercedes, 13</td>\n",
              "      <td>28020</td>\n",
              "      <td>...</td>\n",
              "      <td>140</td>\n",
              "      <td>G</td>\n",
              "      <td>NaN</td>\n",
              "      <td>NaN</td>\n",
              "      <td>Muy bien</td>\n",
              "      <td>50 a 70 años</td>\n",
              "      <td>0</td>\n",
              "      <td>0</td>\n",
              "      <td>{'2': 'Armarios', '3': 'Calefacción', '9': 'Pa...</td>\n",
              "      <td>720000</td>\n",
              "    </tr>\n",
              "    <tr>\n",
              "      <th>24566</th>\n",
              "      <td>fotocasa</td>\n",
              "      <td>677</td>\n",
              "      <td>Piso en venta en Calle Pío XII, 16</td>\n",
              "      <td>https://www.fotocasa.es/es/comprar/vivienda/co...</td>\n",
              "      <td>https://static.fotocasa.es/images/anuncio/0001...</td>\n",
              "      <td>España</td>\n",
              "      <td>Villalba Estación</td>\n",
              "      <td>NaN</td>\n",
              "      <td>Calle Pío XII, 16</td>\n",
              "      <td>28400</td>\n",
              "      <td>...</td>\n",
              "      <td>90</td>\n",
              "      <td>G</td>\n",
              "      <td>NaN</td>\n",
              "      <td>NaN</td>\n",
              "      <td>Bien</td>\n",
              "      <td>30 a 50 años</td>\n",
              "      <td>0</td>\n",
              "      <td>0</td>\n",
              "      <td>{'10': 'Terraza', '32': 'Balcón'}</td>\n",
              "      <td>180000</td>\n",
              "    </tr>\n",
              "  </tbody>\n",
              "</table>\n",
              "<p>10 rows × 31 columns</p>\n",
              "</div>\n",
              "      <button class=\"colab-df-convert\" onclick=\"convertToInteractive('df-3db3ea79-91d3-4bfe-be75-458c0ceedcc3')\"\n",
              "              title=\"Convert this dataframe to an interactive table.\"\n",
              "              style=\"display:none;\">\n",
              "        \n",
              "  <svg xmlns=\"http://www.w3.org/2000/svg\" height=\"24px\"viewBox=\"0 0 24 24\"\n",
              "       width=\"24px\">\n",
              "    <path d=\"M0 0h24v24H0V0z\" fill=\"none\"/>\n",
              "    <path d=\"M18.56 5.44l.94 2.06.94-2.06 2.06-.94-2.06-.94-.94-2.06-.94 2.06-2.06.94zm-11 1L8.5 8.5l.94-2.06 2.06-.94-2.06-.94L8.5 2.5l-.94 2.06-2.06.94zm10 10l.94 2.06.94-2.06 2.06-.94-2.06-.94-.94-2.06-.94 2.06-2.06.94z\"/><path d=\"M17.41 7.96l-1.37-1.37c-.4-.4-.92-.59-1.43-.59-.52 0-1.04.2-1.43.59L10.3 9.45l-7.72 7.72c-.78.78-.78 2.05 0 2.83L4 21.41c.39.39.9.59 1.41.59.51 0 1.02-.2 1.41-.59l7.78-7.78 2.81-2.81c.8-.78.8-2.07 0-2.86zM5.41 20L4 18.59l7.72-7.72 1.47 1.35L5.41 20z\"/>\n",
              "  </svg>\n",
              "      </button>\n",
              "      \n",
              "  <style>\n",
              "    .colab-df-container {\n",
              "      display:flex;\n",
              "      flex-wrap:wrap;\n",
              "      gap: 12px;\n",
              "    }\n",
              "\n",
              "    .colab-df-convert {\n",
              "      background-color: #E8F0FE;\n",
              "      border: none;\n",
              "      border-radius: 50%;\n",
              "      cursor: pointer;\n",
              "      display: none;\n",
              "      fill: #1967D2;\n",
              "      height: 32px;\n",
              "      padding: 0 0 0 0;\n",
              "      width: 32px;\n",
              "    }\n",
              "\n",
              "    .colab-df-convert:hover {\n",
              "      background-color: #E2EBFA;\n",
              "      box-shadow: 0px 1px 2px rgba(60, 64, 67, 0.3), 0px 1px 3px 1px rgba(60, 64, 67, 0.15);\n",
              "      fill: #174EA6;\n",
              "    }\n",
              "\n",
              "    [theme=dark] .colab-df-convert {\n",
              "      background-color: #3B4455;\n",
              "      fill: #D2E3FC;\n",
              "    }\n",
              "\n",
              "    [theme=dark] .colab-df-convert:hover {\n",
              "      background-color: #434B5C;\n",
              "      box-shadow: 0px 1px 3px 1px rgba(0, 0, 0, 0.15);\n",
              "      filter: drop-shadow(0px 1px 2px rgba(0, 0, 0, 0.3));\n",
              "      fill: #FFFFFF;\n",
              "    }\n",
              "  </style>\n",
              "\n",
              "      <script>\n",
              "        const buttonEl =\n",
              "          document.querySelector('#df-3db3ea79-91d3-4bfe-be75-458c0ceedcc3 button.colab-df-convert');\n",
              "        buttonEl.style.display =\n",
              "          google.colab.kernel.accessAllowed ? 'block' : 'none';\n",
              "\n",
              "        async function convertToInteractive(key) {\n",
              "          const element = document.querySelector('#df-3db3ea79-91d3-4bfe-be75-458c0ceedcc3');\n",
              "          const dataTable =\n",
              "            await google.colab.kernel.invokeFunction('convertToInteractive',\n",
              "                                                     [key], {});\n",
              "          if (!dataTable) return;\n",
              "\n",
              "          const docLinkHtml = 'Like what you see? Visit the ' +\n",
              "            '<a target=\"_blank\" href=https://colab.research.google.com/notebooks/data_table.ipynb>data table notebook</a>'\n",
              "            + ' to learn more about interactive tables.';\n",
              "          element.innerHTML = '';\n",
              "          dataTable['output_type'] = 'display_data';\n",
              "          await google.colab.output.renderOutput(dataTable, element);\n",
              "          const docLink = document.createElement('div');\n",
              "          docLink.innerHTML = docLinkHtml;\n",
              "          element.appendChild(docLink);\n",
              "        }\n",
              "      </script>\n",
              "    </div>\n",
              "  </div>\n",
              "  "
            ]
          },
          "metadata": {},
          "execution_count": 8
        }
      ]
    },
    {
      "cell_type": "code",
      "source": [
        "fotocasa_df.isna().any()"
      ],
      "metadata": {
        "colab": {
          "base_uri": "https://localhost:8080/"
        },
        "id": "GMEs8kvXs1Xs",
        "outputId": "2848bb1e-1818-453a-ef66-cdc29fd304a3"
      },
      "execution_count": 9,
      "outputs": [
        {
          "output_type": "execute_result",
          "data": {
            "text/plain": [
              "origin               False\n",
              "page                 False\n",
              "title                False\n",
              "link                 False\n",
              "image_url            False\n",
              "country              False\n",
              "district              True\n",
              "neighborhood          True\n",
              "street                True\n",
              "zipCode               True\n",
              "province             False\n",
              "buildingType         False\n",
              "clientAlias           True\n",
              "latitude             False\n",
              "longitude            False\n",
              "isNewConstruction    False\n",
              "rooms                False\n",
              "bathrooms            False\n",
              "parking               True\n",
              "elevator              True\n",
              "furnished             True\n",
              "surface              False\n",
              "energyCertificate    False\n",
              "hotWater              True\n",
              "heating               True\n",
              "conservationState     True\n",
              "antiquity             True\n",
              "floor                False\n",
              "surfaceLand          False\n",
              "otherFeatures        False\n",
              "price                False\n",
              "dtype: bool"
            ]
          },
          "metadata": {},
          "execution_count": 9
        }
      ]
    },
    {
      "cell_type": "markdown",
      "source": [
        "Looks like fotocasa dataset has some NaN values that need to be cleaned out, so let's drop rows with all NaN values:"
      ],
      "metadata": {
        "id": "3LaArL8htD8z"
      }
    },
    {
      "cell_type": "code",
      "source": [
        "fotocasa_df = fotocasa_df.dropna(how=\"all\")"
      ],
      "metadata": {
        "id": "2DCEJEQ6vkMD"
      },
      "execution_count": 10,
      "outputs": []
    },
    {
      "cell_type": "code",
      "source": [
        "fotocasa_df.isna().any()"
      ],
      "metadata": {
        "colab": {
          "base_uri": "https://localhost:8080/"
        },
        "id": "80zKHjtxwHt-",
        "outputId": "21cd5ac3-eff6-4e54-8f45-e0c61dc4422e"
      },
      "execution_count": 11,
      "outputs": [
        {
          "output_type": "execute_result",
          "data": {
            "text/plain": [
              "origin               False\n",
              "page                 False\n",
              "title                False\n",
              "link                 False\n",
              "image_url            False\n",
              "country              False\n",
              "district              True\n",
              "neighborhood          True\n",
              "street                True\n",
              "zipCode               True\n",
              "province             False\n",
              "buildingType         False\n",
              "clientAlias           True\n",
              "latitude             False\n",
              "longitude            False\n",
              "isNewConstruction    False\n",
              "rooms                False\n",
              "bathrooms            False\n",
              "parking               True\n",
              "elevator              True\n",
              "furnished             True\n",
              "surface              False\n",
              "energyCertificate    False\n",
              "hotWater              True\n",
              "heating               True\n",
              "conservationState     True\n",
              "antiquity             True\n",
              "floor                False\n",
              "surfaceLand          False\n",
              "otherFeatures        False\n",
              "price                False\n",
              "dtype: bool"
            ]
          },
          "metadata": {},
          "execution_count": 11
        }
      ]
    },
    {
      "cell_type": "markdown",
      "source": [
        "There are still some NaN values that can be checked later."
      ],
      "metadata": {
        "id": "PVSlJsldwS_X"
      }
    },
    {
      "cell_type": "code",
      "source": [
        "fotocasa_df.dtypes"
      ],
      "metadata": {
        "colab": {
          "base_uri": "https://localhost:8080/"
        },
        "id": "VWnkCpQZ_hub",
        "outputId": "b2d97a6f-c737-4267-a24c-ce30e86cee76"
      },
      "execution_count": 12,
      "outputs": [
        {
          "output_type": "execute_result",
          "data": {
            "text/plain": [
              "origin               object\n",
              "page                  int64\n",
              "title                object\n",
              "link                 object\n",
              "image_url            object\n",
              "country              object\n",
              "district             object\n",
              "neighborhood         object\n",
              "street               object\n",
              "zipCode              object\n",
              "province             object\n",
              "buildingType         object\n",
              "clientAlias          object\n",
              "latitude             object\n",
              "longitude            object\n",
              "isNewConstruction    object\n",
              "rooms                object\n",
              "bathrooms            object\n",
              "parking              object\n",
              "elevator             object\n",
              "furnished            object\n",
              "surface              object\n",
              "energyCertificate    object\n",
              "hotWater             object\n",
              "heating              object\n",
              "conservationState    object\n",
              "antiquity            object\n",
              "floor                object\n",
              "surfaceLand          object\n",
              "otherFeatures        object\n",
              "price                 int64\n",
              "dtype: object"
            ]
          },
          "metadata": {},
          "execution_count": 12
        }
      ]
    },
    {
      "cell_type": "markdown",
      "source": [
        "Let's compare the two dataset's features"
      ],
      "metadata": {
        "id": "xS0ISPLL_wct"
      }
    },
    {
      "cell_type": "markdown",
      "source": [
        "| # | idealista | fotocasa | comment |\n",
        "| --- | --- | --- | --- |\n",
        "| 00 | / | origin | transform idealista |\n",
        "| 01 | / | page | drop |\n",
        "| 02 | title | title | drop |\n",
        "| 03 | id | link | transform fotocasa |\n",
        "| 04 | locationId | / | drop |\n",
        "| 05 | / | image_url | drop |\n",
        "| 06 | / | country | drop |\n",
        "| 07 | area_name | district | **KEEP** |\n",
        "| 08 | / | neighborhood | drop |\n",
        "| 09 | / | street | drop |\n",
        "| 10 | / | zipCode | drop |\n",
        "| 11 | / | province | drop |\n",
        "| 12 | propertyType | buildingType | **KEEP** |\n",
        "| 13 | / | clientAlias | drop |\n",
        "| 14 | none | latitude | drop |\n",
        "| 15 | none | longitude | drop |\n",
        "| 16 | isNewDevelopment | isNewConstruction | **KEEP** |\n",
        "| 17 | roomNumber | rooms | **KEEP** |\n",
        "| 18 | bathNumber | bathrooms | **KEEP** |\n",
        "| 19 | hasParking | parking | **KEEP** |\n",
        "| 20 | hasLift | elevator | **KEEP** |\n",
        "| 21 | hasGarden | / | drop |\n",
        "| 22 | hasSwimmingPool | / | no info for fotocasa |\n",
        "| 23 | hasTerrace | / | no info for fotocasa |\n",
        "| 24 | interiorExterior | / | drop |\n",
        "| 25 | / | furnished | drop |\n",
        "| 26 | size | surface | **KEEP** |\n",
        "| 27 | / | energyCertificate | drop |\n",
        "| 28 | / | hotWater | drop |\n",
        "| 29 | heatingType | heating | **KEEP** |\n",
        "| 30 | isGoodCondition | conservationState | transform fotocasa |\n",
        "| 31 | isNeedsRenovating | / | transform fotocasa |\n",
        "| 32 | / | antiquity | drop |\n",
        "| 33 | floor | floor | **KEEP** |\n",
        "| 34 | / | surfaceLand | drop |\n",
        "| 35 | featureTags | otherFeatures | *dig deeper into this* |\n",
        "| 36 | price | price | **KEEP** |"
      ],
      "metadata": {
        "id": "7UlfVmTmADs8"
      }
    },
    {
      "cell_type": "markdown",
      "source": [
        "\n",
        "There are some hidden features in the \"otherFeatures\" column of the fotocasa dataset. Let's check them out.\n",
        "\n"
      ],
      "metadata": {
        "id": "VNSbCqd0JujK"
      }
    },
    {
      "cell_type": "code",
      "source": [
        "fotocasa_df['otherFeatures'].unique()"
      ],
      "metadata": {
        "colab": {
          "base_uri": "https://localhost:8080/"
        },
        "id": "NzIoLlshJtyv",
        "outputId": "9ae831cf-0f25-4e8d-d14a-a7983746ee1a"
      },
      "execution_count": 13,
      "outputs": [
        {
          "output_type": "execute_result",
          "data": {
            "text/plain": [
              "array([\"{'2': 'Armarios', '3': 'Calefacción', '10': 'Terraza'}\",\n",
              "       \"{'2': 'Armarios', '3': 'Calefacción', '9': 'Parquet', '11': 'Trastero', '12': 'Z. Comunitaria', '109': 'Lavadero'}\",\n",
              "       \"{'1': 'Aire acondicionado', '2': 'Armarios', '9': 'Parquet', '10': 'Terraza', '12': 'Z. Comunitaria', '18': 'Suite - con baño', '22': 'Horno', '52': 'Internet', '84': 'Puerta Blindada', '109': 'Lavadero', '131': 'Cocina Equipada'}\",\n",
              "       ...,\n",
              "       \"{'1': 'Aire acondicionado', '2': 'Armarios', '3': 'Calefacción', '11': 'Trastero', '17': 'Piscina', '84': 'Puerta Blindada', '94': 'Piscina comunitaria', '131': 'Cocina Equipada'}\",\n",
              "       \"{'6': 'Gres Cerámica', '10': 'Terraza', '84': 'Puerta Blindada', '109': 'Lavadero', '131': 'Cocina Equipada'}\",\n",
              "       \"{'2': 'Armarios', '3': 'Calefacción', '10': 'Terraza', '11': 'Trastero', '12': 'Z. Comunitaria', '15': 'Cocina Office', '18': 'Suite - con baño', '22': 'Horno', '84': 'Puerta Blindada', '94': 'Piscina comunitaria', '131': 'Cocina Equipada'}\"],\n",
              "      dtype=object)"
            ]
          },
          "metadata": {},
          "execution_count": 13
        }
      ]
    },
    {
      "cell_type": "markdown",
      "source": [
        "It is necessary to extract all the features and see if there is any that can be of use"
      ],
      "metadata": {
        "id": "yDGpFOOqQm2b"
      }
    },
    {
      "cell_type": "code",
      "source": [
        "new_features = []\n",
        "new_features_vector = fotocasa_df['otherFeatures'].str.replace(r\"{|}|'[0-9][0-9]?[0-9]?': |'\",'', regex=True).str.split(', ')\n",
        "new_features_vector.apply(lambda x: [new_features.append(features) for features in x if features not in new_features and features != ''])\n",
        "new_features"
      ],
      "metadata": {
        "colab": {
          "base_uri": "https://localhost:8080/"
        },
        "id": "2FblPiwvvtnE",
        "outputId": "ce666db0-578b-49ca-bc5c-1f111b99e85e"
      },
      "execution_count": 78,
      "outputs": [
        {
          "output_type": "execute_result",
          "data": {
            "text/plain": [
              "['Armarios',\n",
              " 'Calefacción',\n",
              " 'Terraza',\n",
              " 'Parquet',\n",
              " 'Trastero',\n",
              " 'Z. Comunitaria',\n",
              " 'Lavadero',\n",
              " 'Aire acondicionado',\n",
              " 'Suite - con baño',\n",
              " 'Horno',\n",
              " 'Internet',\n",
              " 'Puerta Blindada',\n",
              " 'Cocina Equipada',\n",
              " 'Serv. portería',\n",
              " 'Jardín Privado',\n",
              " 'Videoportero',\n",
              " 'Zona Infantil',\n",
              " 'Piscina',\n",
              " 'Balcón',\n",
              " 'Zona Deportiva',\n",
              " 'Patio',\n",
              " 'Gres Cerámica',\n",
              " 'Electrodomésticos',\n",
              " 'Lavadora',\n",
              " 'Microondas',\n",
              " 'Nevera',\n",
              " 'Piscina comunitaria',\n",
              " 'Cocina Office',\n",
              " 'TV',\n",
              " 'Domótica',\n",
              " 'Ascensor interior',\n",
              " 'Cuarto para el servicio',\n",
              " 'Energía Solar',\n",
              " 'Pista de Tenis',\n",
              " 'Cuarto lavado plancha',\n",
              " 'Jacuzzi',\n",
              " 'Alarma',\n",
              " 'Gimnasio',\n",
              " 'Baño de huéspedes',\n",
              " 'Porche cubierto',\n",
              " 'Bodega',\n",
              " 'Muebles de diseño',\n",
              " 'Música ambiental',\n",
              " 'Sauna',\n",
              " 'Casa de invitados',\n",
              " 'Sala de cine']"
            ]
          },
          "metadata": {},
          "execution_count": 78
        }
      ]
    },
    {
      "cell_type": "markdown",
      "source": [
        "There is a weird ^ character that is used as a wildcard during scraping. It must be removed."
      ],
      "metadata": {
        "id": "FDetY-6ywf1X"
      }
    },
    {
      "cell_type": "code",
      "source": [
        "fotocasa_df[fotocasa_df['otherFeatures'].str.contains(\"\\^\")]"
      ],
      "metadata": {
        "colab": {
          "base_uri": "https://localhost:8080/",
          "height": 423
        },
        "id": "kdcEfg-6wsS3",
        "outputId": "bad459f0-a6ff-4e0d-cf4f-002fac899d28"
      },
      "execution_count": 15,
      "outputs": [
        {
          "output_type": "execute_result",
          "data": {
            "text/plain": [
              "         origin  page title link image_url country district neighborhood  \\\n",
              "64     fotocasa   188     ^    ^         ^       ^        ^            ^   \n",
              "67     fotocasa   188     ^    ^         ^       ^        ^            ^   \n",
              "70     fotocasa   188     ^    ^         ^       ^        ^            ^   \n",
              "82     fotocasa   188     ^    ^         ^       ^        ^            ^   \n",
              "84     fotocasa   188     ^    ^         ^       ^        ^            ^   \n",
              "...         ...   ...   ...  ...       ...     ...      ...          ...   \n",
              "29162  fotocasa   191     ^    ^         ^       ^        ^            ^   \n",
              "29165  fotocasa   191     ^    ^         ^       ^        ^            ^   \n",
              "29309  fotocasa   165     ^    ^         ^       ^        ^            ^   \n",
              "29311  fotocasa   165     ^    ^         ^       ^        ^            ^   \n",
              "29329  fotocasa   165     ^    ^         ^       ^        ^            ^   \n",
              "\n",
              "      street zipCode  ... surface energyCertificate hotWater heating  \\\n",
              "64         ^       ^  ...       ^                 ^        ^       ^   \n",
              "67         ^       ^  ...       ^                 ^        ^       ^   \n",
              "70         ^       ^  ...       ^                 ^        ^       ^   \n",
              "82         ^       ^  ...       ^                 ^        ^       ^   \n",
              "84         ^       ^  ...       ^                 ^        ^       ^   \n",
              "...      ...     ...  ...     ...               ...      ...     ...   \n",
              "29162      ^       ^  ...       ^                 ^        ^       ^   \n",
              "29165      ^       ^  ...       ^                 ^        ^       ^   \n",
              "29309      ^       ^  ...       ^                 ^        ^       ^   \n",
              "29311      ^       ^  ...       ^                 ^        ^       ^   \n",
              "29329      ^       ^  ...       ^                 ^        ^       ^   \n",
              "\n",
              "      conservationState antiquity floor surfaceLand otherFeatures price  \n",
              "64                    ^         ^     ^           ^             ^     0  \n",
              "67                    ^         ^     ^           ^             ^     0  \n",
              "70                    ^         ^     ^           ^             ^     0  \n",
              "82                    ^         ^     ^           ^             ^     0  \n",
              "84                    ^         ^     ^           ^             ^     0  \n",
              "...                 ...       ...   ...         ...           ...   ...  \n",
              "29162                 ^         ^     ^           ^             ^     0  \n",
              "29165                 ^         ^     ^           ^             ^     0  \n",
              "29309                 ^         ^     ^           ^             ^     0  \n",
              "29311                 ^         ^     ^           ^             ^     0  \n",
              "29329                 ^         ^     ^           ^             ^     0  \n",
              "\n",
              "[386 rows x 31 columns]"
            ],
            "text/html": [
              "\n",
              "  <div id=\"df-a6b3a8e2-de37-4479-9999-aa4ec98dd41f\">\n",
              "    <div class=\"colab-df-container\">\n",
              "      <div>\n",
              "<style scoped>\n",
              "    .dataframe tbody tr th:only-of-type {\n",
              "        vertical-align: middle;\n",
              "    }\n",
              "\n",
              "    .dataframe tbody tr th {\n",
              "        vertical-align: top;\n",
              "    }\n",
              "\n",
              "    .dataframe thead th {\n",
              "        text-align: right;\n",
              "    }\n",
              "</style>\n",
              "<table border=\"1\" class=\"dataframe\">\n",
              "  <thead>\n",
              "    <tr style=\"text-align: right;\">\n",
              "      <th></th>\n",
              "      <th>origin</th>\n",
              "      <th>page</th>\n",
              "      <th>title</th>\n",
              "      <th>link</th>\n",
              "      <th>image_url</th>\n",
              "      <th>country</th>\n",
              "      <th>district</th>\n",
              "      <th>neighborhood</th>\n",
              "      <th>street</th>\n",
              "      <th>zipCode</th>\n",
              "      <th>...</th>\n",
              "      <th>surface</th>\n",
              "      <th>energyCertificate</th>\n",
              "      <th>hotWater</th>\n",
              "      <th>heating</th>\n",
              "      <th>conservationState</th>\n",
              "      <th>antiquity</th>\n",
              "      <th>floor</th>\n",
              "      <th>surfaceLand</th>\n",
              "      <th>otherFeatures</th>\n",
              "      <th>price</th>\n",
              "    </tr>\n",
              "  </thead>\n",
              "  <tbody>\n",
              "    <tr>\n",
              "      <th>64</th>\n",
              "      <td>fotocasa</td>\n",
              "      <td>188</td>\n",
              "      <td>^</td>\n",
              "      <td>^</td>\n",
              "      <td>^</td>\n",
              "      <td>^</td>\n",
              "      <td>^</td>\n",
              "      <td>^</td>\n",
              "      <td>^</td>\n",
              "      <td>^</td>\n",
              "      <td>...</td>\n",
              "      <td>^</td>\n",
              "      <td>^</td>\n",
              "      <td>^</td>\n",
              "      <td>^</td>\n",
              "      <td>^</td>\n",
              "      <td>^</td>\n",
              "      <td>^</td>\n",
              "      <td>^</td>\n",
              "      <td>^</td>\n",
              "      <td>0</td>\n",
              "    </tr>\n",
              "    <tr>\n",
              "      <th>67</th>\n",
              "      <td>fotocasa</td>\n",
              "      <td>188</td>\n",
              "      <td>^</td>\n",
              "      <td>^</td>\n",
              "      <td>^</td>\n",
              "      <td>^</td>\n",
              "      <td>^</td>\n",
              "      <td>^</td>\n",
              "      <td>^</td>\n",
              "      <td>^</td>\n",
              "      <td>...</td>\n",
              "      <td>^</td>\n",
              "      <td>^</td>\n",
              "      <td>^</td>\n",
              "      <td>^</td>\n",
              "      <td>^</td>\n",
              "      <td>^</td>\n",
              "      <td>^</td>\n",
              "      <td>^</td>\n",
              "      <td>^</td>\n",
              "      <td>0</td>\n",
              "    </tr>\n",
              "    <tr>\n",
              "      <th>70</th>\n",
              "      <td>fotocasa</td>\n",
              "      <td>188</td>\n",
              "      <td>^</td>\n",
              "      <td>^</td>\n",
              "      <td>^</td>\n",
              "      <td>^</td>\n",
              "      <td>^</td>\n",
              "      <td>^</td>\n",
              "      <td>^</td>\n",
              "      <td>^</td>\n",
              "      <td>...</td>\n",
              "      <td>^</td>\n",
              "      <td>^</td>\n",
              "      <td>^</td>\n",
              "      <td>^</td>\n",
              "      <td>^</td>\n",
              "      <td>^</td>\n",
              "      <td>^</td>\n",
              "      <td>^</td>\n",
              "      <td>^</td>\n",
              "      <td>0</td>\n",
              "    </tr>\n",
              "    <tr>\n",
              "      <th>82</th>\n",
              "      <td>fotocasa</td>\n",
              "      <td>188</td>\n",
              "      <td>^</td>\n",
              "      <td>^</td>\n",
              "      <td>^</td>\n",
              "      <td>^</td>\n",
              "      <td>^</td>\n",
              "      <td>^</td>\n",
              "      <td>^</td>\n",
              "      <td>^</td>\n",
              "      <td>...</td>\n",
              "      <td>^</td>\n",
              "      <td>^</td>\n",
              "      <td>^</td>\n",
              "      <td>^</td>\n",
              "      <td>^</td>\n",
              "      <td>^</td>\n",
              "      <td>^</td>\n",
              "      <td>^</td>\n",
              "      <td>^</td>\n",
              "      <td>0</td>\n",
              "    </tr>\n",
              "    <tr>\n",
              "      <th>84</th>\n",
              "      <td>fotocasa</td>\n",
              "      <td>188</td>\n",
              "      <td>^</td>\n",
              "      <td>^</td>\n",
              "      <td>^</td>\n",
              "      <td>^</td>\n",
              "      <td>^</td>\n",
              "      <td>^</td>\n",
              "      <td>^</td>\n",
              "      <td>^</td>\n",
              "      <td>...</td>\n",
              "      <td>^</td>\n",
              "      <td>^</td>\n",
              "      <td>^</td>\n",
              "      <td>^</td>\n",
              "      <td>^</td>\n",
              "      <td>^</td>\n",
              "      <td>^</td>\n",
              "      <td>^</td>\n",
              "      <td>^</td>\n",
              "      <td>0</td>\n",
              "    </tr>\n",
              "    <tr>\n",
              "      <th>...</th>\n",
              "      <td>...</td>\n",
              "      <td>...</td>\n",
              "      <td>...</td>\n",
              "      <td>...</td>\n",
              "      <td>...</td>\n",
              "      <td>...</td>\n",
              "      <td>...</td>\n",
              "      <td>...</td>\n",
              "      <td>...</td>\n",
              "      <td>...</td>\n",
              "      <td>...</td>\n",
              "      <td>...</td>\n",
              "      <td>...</td>\n",
              "      <td>...</td>\n",
              "      <td>...</td>\n",
              "      <td>...</td>\n",
              "      <td>...</td>\n",
              "      <td>...</td>\n",
              "      <td>...</td>\n",
              "      <td>...</td>\n",
              "      <td>...</td>\n",
              "    </tr>\n",
              "    <tr>\n",
              "      <th>29162</th>\n",
              "      <td>fotocasa</td>\n",
              "      <td>191</td>\n",
              "      <td>^</td>\n",
              "      <td>^</td>\n",
              "      <td>^</td>\n",
              "      <td>^</td>\n",
              "      <td>^</td>\n",
              "      <td>^</td>\n",
              "      <td>^</td>\n",
              "      <td>^</td>\n",
              "      <td>...</td>\n",
              "      <td>^</td>\n",
              "      <td>^</td>\n",
              "      <td>^</td>\n",
              "      <td>^</td>\n",
              "      <td>^</td>\n",
              "      <td>^</td>\n",
              "      <td>^</td>\n",
              "      <td>^</td>\n",
              "      <td>^</td>\n",
              "      <td>0</td>\n",
              "    </tr>\n",
              "    <tr>\n",
              "      <th>29165</th>\n",
              "      <td>fotocasa</td>\n",
              "      <td>191</td>\n",
              "      <td>^</td>\n",
              "      <td>^</td>\n",
              "      <td>^</td>\n",
              "      <td>^</td>\n",
              "      <td>^</td>\n",
              "      <td>^</td>\n",
              "      <td>^</td>\n",
              "      <td>^</td>\n",
              "      <td>...</td>\n",
              "      <td>^</td>\n",
              "      <td>^</td>\n",
              "      <td>^</td>\n",
              "      <td>^</td>\n",
              "      <td>^</td>\n",
              "      <td>^</td>\n",
              "      <td>^</td>\n",
              "      <td>^</td>\n",
              "      <td>^</td>\n",
              "      <td>0</td>\n",
              "    </tr>\n",
              "    <tr>\n",
              "      <th>29309</th>\n",
              "      <td>fotocasa</td>\n",
              "      <td>165</td>\n",
              "      <td>^</td>\n",
              "      <td>^</td>\n",
              "      <td>^</td>\n",
              "      <td>^</td>\n",
              "      <td>^</td>\n",
              "      <td>^</td>\n",
              "      <td>^</td>\n",
              "      <td>^</td>\n",
              "      <td>...</td>\n",
              "      <td>^</td>\n",
              "      <td>^</td>\n",
              "      <td>^</td>\n",
              "      <td>^</td>\n",
              "      <td>^</td>\n",
              "      <td>^</td>\n",
              "      <td>^</td>\n",
              "      <td>^</td>\n",
              "      <td>^</td>\n",
              "      <td>0</td>\n",
              "    </tr>\n",
              "    <tr>\n",
              "      <th>29311</th>\n",
              "      <td>fotocasa</td>\n",
              "      <td>165</td>\n",
              "      <td>^</td>\n",
              "      <td>^</td>\n",
              "      <td>^</td>\n",
              "      <td>^</td>\n",
              "      <td>^</td>\n",
              "      <td>^</td>\n",
              "      <td>^</td>\n",
              "      <td>^</td>\n",
              "      <td>...</td>\n",
              "      <td>^</td>\n",
              "      <td>^</td>\n",
              "      <td>^</td>\n",
              "      <td>^</td>\n",
              "      <td>^</td>\n",
              "      <td>^</td>\n",
              "      <td>^</td>\n",
              "      <td>^</td>\n",
              "      <td>^</td>\n",
              "      <td>0</td>\n",
              "    </tr>\n",
              "    <tr>\n",
              "      <th>29329</th>\n",
              "      <td>fotocasa</td>\n",
              "      <td>165</td>\n",
              "      <td>^</td>\n",
              "      <td>^</td>\n",
              "      <td>^</td>\n",
              "      <td>^</td>\n",
              "      <td>^</td>\n",
              "      <td>^</td>\n",
              "      <td>^</td>\n",
              "      <td>^</td>\n",
              "      <td>...</td>\n",
              "      <td>^</td>\n",
              "      <td>^</td>\n",
              "      <td>^</td>\n",
              "      <td>^</td>\n",
              "      <td>^</td>\n",
              "      <td>^</td>\n",
              "      <td>^</td>\n",
              "      <td>^</td>\n",
              "      <td>^</td>\n",
              "      <td>0</td>\n",
              "    </tr>\n",
              "  </tbody>\n",
              "</table>\n",
              "<p>386 rows × 31 columns</p>\n",
              "</div>\n",
              "      <button class=\"colab-df-convert\" onclick=\"convertToInteractive('df-a6b3a8e2-de37-4479-9999-aa4ec98dd41f')\"\n",
              "              title=\"Convert this dataframe to an interactive table.\"\n",
              "              style=\"display:none;\">\n",
              "        \n",
              "  <svg xmlns=\"http://www.w3.org/2000/svg\" height=\"24px\"viewBox=\"0 0 24 24\"\n",
              "       width=\"24px\">\n",
              "    <path d=\"M0 0h24v24H0V0z\" fill=\"none\"/>\n",
              "    <path d=\"M18.56 5.44l.94 2.06.94-2.06 2.06-.94-2.06-.94-.94-2.06-.94 2.06-2.06.94zm-11 1L8.5 8.5l.94-2.06 2.06-.94-2.06-.94L8.5 2.5l-.94 2.06-2.06.94zm10 10l.94 2.06.94-2.06 2.06-.94-2.06-.94-.94-2.06-.94 2.06-2.06.94z\"/><path d=\"M17.41 7.96l-1.37-1.37c-.4-.4-.92-.59-1.43-.59-.52 0-1.04.2-1.43.59L10.3 9.45l-7.72 7.72c-.78.78-.78 2.05 0 2.83L4 21.41c.39.39.9.59 1.41.59.51 0 1.02-.2 1.41-.59l7.78-7.78 2.81-2.81c.8-.78.8-2.07 0-2.86zM5.41 20L4 18.59l7.72-7.72 1.47 1.35L5.41 20z\"/>\n",
              "  </svg>\n",
              "      </button>\n",
              "      \n",
              "  <style>\n",
              "    .colab-df-container {\n",
              "      display:flex;\n",
              "      flex-wrap:wrap;\n",
              "      gap: 12px;\n",
              "    }\n",
              "\n",
              "    .colab-df-convert {\n",
              "      background-color: #E8F0FE;\n",
              "      border: none;\n",
              "      border-radius: 50%;\n",
              "      cursor: pointer;\n",
              "      display: none;\n",
              "      fill: #1967D2;\n",
              "      height: 32px;\n",
              "      padding: 0 0 0 0;\n",
              "      width: 32px;\n",
              "    }\n",
              "\n",
              "    .colab-df-convert:hover {\n",
              "      background-color: #E2EBFA;\n",
              "      box-shadow: 0px 1px 2px rgba(60, 64, 67, 0.3), 0px 1px 3px 1px rgba(60, 64, 67, 0.15);\n",
              "      fill: #174EA6;\n",
              "    }\n",
              "\n",
              "    [theme=dark] .colab-df-convert {\n",
              "      background-color: #3B4455;\n",
              "      fill: #D2E3FC;\n",
              "    }\n",
              "\n",
              "    [theme=dark] .colab-df-convert:hover {\n",
              "      background-color: #434B5C;\n",
              "      box-shadow: 0px 1px 3px 1px rgba(0, 0, 0, 0.15);\n",
              "      filter: drop-shadow(0px 1px 2px rgba(0, 0, 0, 0.3));\n",
              "      fill: #FFFFFF;\n",
              "    }\n",
              "  </style>\n",
              "\n",
              "      <script>\n",
              "        const buttonEl =\n",
              "          document.querySelector('#df-a6b3a8e2-de37-4479-9999-aa4ec98dd41f button.colab-df-convert');\n",
              "        buttonEl.style.display =\n",
              "          google.colab.kernel.accessAllowed ? 'block' : 'none';\n",
              "\n",
              "        async function convertToInteractive(key) {\n",
              "          const element = document.querySelector('#df-a6b3a8e2-de37-4479-9999-aa4ec98dd41f');\n",
              "          const dataTable =\n",
              "            await google.colab.kernel.invokeFunction('convertToInteractive',\n",
              "                                                     [key], {});\n",
              "          if (!dataTable) return;\n",
              "\n",
              "          const docLinkHtml = 'Like what you see? Visit the ' +\n",
              "            '<a target=\"_blank\" href=https://colab.research.google.com/notebooks/data_table.ipynb>data table notebook</a>'\n",
              "            + ' to learn more about interactive tables.';\n",
              "          element.innerHTML = '';\n",
              "          dataTable['output_type'] = 'display_data';\n",
              "          await google.colab.output.renderOutput(dataTable, element);\n",
              "          const docLink = document.createElement('div');\n",
              "          docLink.innerHTML = docLinkHtml;\n",
              "          element.appendChild(docLink);\n",
              "        }\n",
              "      </script>\n",
              "    </div>\n",
              "  </div>\n",
              "  "
            ]
          },
          "metadata": {},
          "execution_count": 15
        }
      ]
    },
    {
      "cell_type": "code",
      "source": [
        "to_drop = fotocasa_df[fotocasa_df['otherFeatures'].str.contains(\"\\^\")].index\n",
        "fotocasa_df = fotocasa_df.drop(to_drop)\n",
        "del to_drop"
      ],
      "metadata": {
        "id": "Vh5Y41SQxYAP"
      },
      "execution_count": 16,
      "outputs": []
    },
    {
      "cell_type": "markdown",
      "source": [
        "There are some features that can be useful, such as \"piscina/piscina comunitaria\", \"patio/jardin privado\", \"Terraza\", which are present in Idealista as well"
      ],
      "metadata": {
        "id": "PcDjHhH3Pd9g"
      }
    },
    {
      "cell_type": "code",
      "source": [
        "fotocasa_df['otherFeatures']"
      ],
      "metadata": {
        "colab": {
          "base_uri": "https://localhost:8080/"
        },
        "id": "n7knq2ga2nPp",
        "outputId": "4ef3cdb8-4f7c-4f9b-a2e0-ff6272cbaee8"
      },
      "execution_count": 17,
      "outputs": [
        {
          "output_type": "execute_result",
          "data": {
            "text/plain": [
              "0        {'2': 'Armarios', '3': 'Calefacción', '10': 'T...\n",
              "1        {'2': 'Armarios', '3': 'Calefacción', '9': 'Pa...\n",
              "2        {'1': 'Aire acondicionado', '2': 'Armarios', '...\n",
              "3                {'10': 'Terraza', '28': 'Serv. portería'}\n",
              "4        {'1': 'Aire acondicionado', '2': 'Armarios', '...\n",
              "                               ...                        \n",
              "30318    {'1': 'Aire acondicionado', '2': 'Armarios', '...\n",
              "30319    {'1': 'Aire acondicionado', '10': 'Terraza', '...\n",
              "30320    {'1': 'Aire acondicionado', '2': 'Armarios', '...\n",
              "30321    {'1': 'Aire acondicionado', '2': 'Armarios', '...\n",
              "30322    {'1': 'Aire acondicionado', '2': 'Armarios', '...\n",
              "Name: otherFeatures, Length: 29937, dtype: object"
            ]
          },
          "metadata": {},
          "execution_count": 17
        }
      ]
    },
    {
      "cell_type": "code",
      "source": [
        "useful_features = {\n",
        "    'hasSwimmingPool':['Piscina','Piscina comunitaria'],\n",
        "    'hasGarden': ['Patio','Jardín Privado'],\n",
        "    'hasTerrace':['Terraza']\n",
        "    }\n",
        "\n",
        "for key,value in useful_features.items():\n",
        "  fotocasa_df[key] = fotocasa_df['otherFeatures'].str.contains('|'.join(value)).astype(int)"
      ],
      "metadata": {
        "id": "qTaMPyWiPV3F"
      },
      "execution_count": 18,
      "outputs": []
    },
    {
      "cell_type": "code",
      "source": [
        "fotocasa_df[useful_features.keys()]"
      ],
      "metadata": {
        "colab": {
          "base_uri": "https://localhost:8080/",
          "height": 423
        },
        "id": "U99Udt-gTENK",
        "outputId": "474f0cc1-1c7a-4ec9-869a-25ac1ce1fcc3"
      },
      "execution_count": 19,
      "outputs": [
        {
          "output_type": "execute_result",
          "data": {
            "text/plain": [
              "       hasSwimmingPool  hasGarden  hasTerrace\n",
              "0                    0          0           1\n",
              "1                    0          0           0\n",
              "2                    0          0           1\n",
              "3                    0          0           1\n",
              "4                    0          1           1\n",
              "...                ...        ...         ...\n",
              "30318                1          1           1\n",
              "30319                0          0           1\n",
              "30320                1          1           0\n",
              "30321                1          1           0\n",
              "30322                1          0           0\n",
              "\n",
              "[29937 rows x 3 columns]"
            ],
            "text/html": [
              "\n",
              "  <div id=\"df-4698775e-da68-40b5-8139-1d3f10aba31a\">\n",
              "    <div class=\"colab-df-container\">\n",
              "      <div>\n",
              "<style scoped>\n",
              "    .dataframe tbody tr th:only-of-type {\n",
              "        vertical-align: middle;\n",
              "    }\n",
              "\n",
              "    .dataframe tbody tr th {\n",
              "        vertical-align: top;\n",
              "    }\n",
              "\n",
              "    .dataframe thead th {\n",
              "        text-align: right;\n",
              "    }\n",
              "</style>\n",
              "<table border=\"1\" class=\"dataframe\">\n",
              "  <thead>\n",
              "    <tr style=\"text-align: right;\">\n",
              "      <th></th>\n",
              "      <th>hasSwimmingPool</th>\n",
              "      <th>hasGarden</th>\n",
              "      <th>hasTerrace</th>\n",
              "    </tr>\n",
              "  </thead>\n",
              "  <tbody>\n",
              "    <tr>\n",
              "      <th>0</th>\n",
              "      <td>0</td>\n",
              "      <td>0</td>\n",
              "      <td>1</td>\n",
              "    </tr>\n",
              "    <tr>\n",
              "      <th>1</th>\n",
              "      <td>0</td>\n",
              "      <td>0</td>\n",
              "      <td>0</td>\n",
              "    </tr>\n",
              "    <tr>\n",
              "      <th>2</th>\n",
              "      <td>0</td>\n",
              "      <td>0</td>\n",
              "      <td>1</td>\n",
              "    </tr>\n",
              "    <tr>\n",
              "      <th>3</th>\n",
              "      <td>0</td>\n",
              "      <td>0</td>\n",
              "      <td>1</td>\n",
              "    </tr>\n",
              "    <tr>\n",
              "      <th>4</th>\n",
              "      <td>0</td>\n",
              "      <td>1</td>\n",
              "      <td>1</td>\n",
              "    </tr>\n",
              "    <tr>\n",
              "      <th>...</th>\n",
              "      <td>...</td>\n",
              "      <td>...</td>\n",
              "      <td>...</td>\n",
              "    </tr>\n",
              "    <tr>\n",
              "      <th>30318</th>\n",
              "      <td>1</td>\n",
              "      <td>1</td>\n",
              "      <td>1</td>\n",
              "    </tr>\n",
              "    <tr>\n",
              "      <th>30319</th>\n",
              "      <td>0</td>\n",
              "      <td>0</td>\n",
              "      <td>1</td>\n",
              "    </tr>\n",
              "    <tr>\n",
              "      <th>30320</th>\n",
              "      <td>1</td>\n",
              "      <td>1</td>\n",
              "      <td>0</td>\n",
              "    </tr>\n",
              "    <tr>\n",
              "      <th>30321</th>\n",
              "      <td>1</td>\n",
              "      <td>1</td>\n",
              "      <td>0</td>\n",
              "    </tr>\n",
              "    <tr>\n",
              "      <th>30322</th>\n",
              "      <td>1</td>\n",
              "      <td>0</td>\n",
              "      <td>0</td>\n",
              "    </tr>\n",
              "  </tbody>\n",
              "</table>\n",
              "<p>29937 rows × 3 columns</p>\n",
              "</div>\n",
              "      <button class=\"colab-df-convert\" onclick=\"convertToInteractive('df-4698775e-da68-40b5-8139-1d3f10aba31a')\"\n",
              "              title=\"Convert this dataframe to an interactive table.\"\n",
              "              style=\"display:none;\">\n",
              "        \n",
              "  <svg xmlns=\"http://www.w3.org/2000/svg\" height=\"24px\"viewBox=\"0 0 24 24\"\n",
              "       width=\"24px\">\n",
              "    <path d=\"M0 0h24v24H0V0z\" fill=\"none\"/>\n",
              "    <path d=\"M18.56 5.44l.94 2.06.94-2.06 2.06-.94-2.06-.94-.94-2.06-.94 2.06-2.06.94zm-11 1L8.5 8.5l.94-2.06 2.06-.94-2.06-.94L8.5 2.5l-.94 2.06-2.06.94zm10 10l.94 2.06.94-2.06 2.06-.94-2.06-.94-.94-2.06-.94 2.06-2.06.94z\"/><path d=\"M17.41 7.96l-1.37-1.37c-.4-.4-.92-.59-1.43-.59-.52 0-1.04.2-1.43.59L10.3 9.45l-7.72 7.72c-.78.78-.78 2.05 0 2.83L4 21.41c.39.39.9.59 1.41.59.51 0 1.02-.2 1.41-.59l7.78-7.78 2.81-2.81c.8-.78.8-2.07 0-2.86zM5.41 20L4 18.59l7.72-7.72 1.47 1.35L5.41 20z\"/>\n",
              "  </svg>\n",
              "      </button>\n",
              "      \n",
              "  <style>\n",
              "    .colab-df-container {\n",
              "      display:flex;\n",
              "      flex-wrap:wrap;\n",
              "      gap: 12px;\n",
              "    }\n",
              "\n",
              "    .colab-df-convert {\n",
              "      background-color: #E8F0FE;\n",
              "      border: none;\n",
              "      border-radius: 50%;\n",
              "      cursor: pointer;\n",
              "      display: none;\n",
              "      fill: #1967D2;\n",
              "      height: 32px;\n",
              "      padding: 0 0 0 0;\n",
              "      width: 32px;\n",
              "    }\n",
              "\n",
              "    .colab-df-convert:hover {\n",
              "      background-color: #E2EBFA;\n",
              "      box-shadow: 0px 1px 2px rgba(60, 64, 67, 0.3), 0px 1px 3px 1px rgba(60, 64, 67, 0.15);\n",
              "      fill: #174EA6;\n",
              "    }\n",
              "\n",
              "    [theme=dark] .colab-df-convert {\n",
              "      background-color: #3B4455;\n",
              "      fill: #D2E3FC;\n",
              "    }\n",
              "\n",
              "    [theme=dark] .colab-df-convert:hover {\n",
              "      background-color: #434B5C;\n",
              "      box-shadow: 0px 1px 3px 1px rgba(0, 0, 0, 0.15);\n",
              "      filter: drop-shadow(0px 1px 2px rgba(0, 0, 0, 0.3));\n",
              "      fill: #FFFFFF;\n",
              "    }\n",
              "  </style>\n",
              "\n",
              "      <script>\n",
              "        const buttonEl =\n",
              "          document.querySelector('#df-4698775e-da68-40b5-8139-1d3f10aba31a button.colab-df-convert');\n",
              "        buttonEl.style.display =\n",
              "          google.colab.kernel.accessAllowed ? 'block' : 'none';\n",
              "\n",
              "        async function convertToInteractive(key) {\n",
              "          const element = document.querySelector('#df-4698775e-da68-40b5-8139-1d3f10aba31a');\n",
              "          const dataTable =\n",
              "            await google.colab.kernel.invokeFunction('convertToInteractive',\n",
              "                                                     [key], {});\n",
              "          if (!dataTable) return;\n",
              "\n",
              "          const docLinkHtml = 'Like what you see? Visit the ' +\n",
              "            '<a target=\"_blank\" href=https://colab.research.google.com/notebooks/data_table.ipynb>data table notebook</a>'\n",
              "            + ' to learn more about interactive tables.';\n",
              "          element.innerHTML = '';\n",
              "          dataTable['output_type'] = 'display_data';\n",
              "          await google.colab.output.renderOutput(dataTable, element);\n",
              "          const docLink = document.createElement('div');\n",
              "          docLink.innerHTML = docLinkHtml;\n",
              "          element.appendChild(docLink);\n",
              "        }\n",
              "      </script>\n",
              "    </div>\n",
              "  </div>\n",
              "  "
            ]
          },
          "metadata": {},
          "execution_count": 19
        }
      ]
    },
    {
      "cell_type": "code",
      "source": [
        "fotocasa_df.columns"
      ],
      "metadata": {
        "colab": {
          "base_uri": "https://localhost:8080/"
        },
        "id": "dbxX-Sxt3NKA",
        "outputId": "99d3b892-7a92-4909-95c6-fe8ad56a7ddd"
      },
      "execution_count": 20,
      "outputs": [
        {
          "output_type": "execute_result",
          "data": {
            "text/plain": [
              "Index(['origin', 'page', 'title', 'link', 'image_url', 'country', 'district',\n",
              "       'neighborhood', 'street', 'zipCode', 'province', 'buildingType',\n",
              "       'clientAlias', 'latitude', 'longitude', 'isNewConstruction', 'rooms',\n",
              "       'bathrooms', 'parking', 'elevator', 'furnished', 'surface',\n",
              "       'energyCertificate', 'hotWater', 'heating', 'conservationState',\n",
              "       'antiquity', 'floor', 'surfaceLand', 'otherFeatures', 'price',\n",
              "       'hasSwimmingPool', 'hasGarden', 'hasTerrace'],\n",
              "      dtype='object')"
            ]
          },
          "metadata": {},
          "execution_count": 20
        }
      ]
    },
    {
      "cell_type": "markdown",
      "source": [
        "Idealista dataset also has a similar feature called \"featureTags\". Let's dig deeper into it:"
      ],
      "metadata": {
        "id": "qB240NNdZWLe"
      }
    },
    {
      "cell_type": "code",
      "source": [
        "idealista_df['featureTags'].unique()"
      ],
      "metadata": {
        "colab": {
          "base_uri": "https://localhost:8080/"
        },
        "id": "ae9wVa-1Zequ",
        "outputId": "c88fc592-791f-4f7d-8c01-9c8f17a21856"
      },
      "execution_count": 21,
      "outputs": [
        {
          "output_type": "execute_result",
          "data": {
            "text/plain": [
              "array([\"['Lujo']\", '[]', \"['Apartamento']\", \"['Lujo\\\\n\\\\n\\\\nVilla']\",\n",
              "       \"['Villa']\", \"['Loft']\", \"['Casa baja']\", \"['Casa de piedra']\",\n",
              "       \"['Buhardilla']\", \"['Lujo\\\\n\\\\n\\\\nApartamento']\",\n",
              "       \"['Lujo\\\\n\\\\n\\\\nBuhardilla']\", \"['Lujo\\\\n\\\\n\\\\nLoft']\"],\n",
              "      dtype=object)"
            ]
          },
          "metadata": {},
          "execution_count": 21
        }
      ]
    },
    {
      "cell_type": "markdown",
      "source": [
        "Apparently there is no new or interesting info into this feature."
      ],
      "metadata": {
        "id": "AWOG2U6nZk8u"
      }
    },
    {
      "cell_type": "markdown",
      "source": [
        "Let's keep cleaning the fotocasa_df dataset, starting with the \"link\".\n",
        "Fotocasa's links should all look like this, ending with \"/d\""
      ],
      "metadata": {
        "id": "ifxLtqolTzPj"
      }
    },
    {
      "cell_type": "code",
      "source": [
        "fotocasa_df['link'][0]"
      ],
      "metadata": {
        "colab": {
          "base_uri": "https://localhost:8080/",
          "height": 36
        },
        "id": "6OTKLufNUjgQ",
        "outputId": "d9ef96e2-7075-4482-f3f4-57231a02d8d4"
      },
      "execution_count": 22,
      "outputs": [
        {
          "output_type": "execute_result",
          "data": {
            "text/plain": [
              "'https://www.fotocasa.es/es/comprar/vivienda/madrid-capital/calefaccion-terraza-ascensor/164109685/d'"
            ],
            "application/vnd.google.colaboratory.intrinsic+json": {
              "type": "string"
            }
          },
          "metadata": {},
          "execution_count": 22
        }
      ]
    },
    {
      "cell_type": "markdown",
      "source": [
        "As sanity check, let's see if there is any link that does not respect this rule"
      ],
      "metadata": {
        "id": "W9LoR50gVDTt"
      }
    },
    {
      "cell_type": "code",
      "source": [
        "fotocasa_df[fotocasa_df['link'].str.endswith('/d')==False]"
      ],
      "metadata": {
        "colab": {
          "base_uri": "https://localhost:8080/",
          "height": 79
        },
        "id": "MdnM1DC6TyXi",
        "outputId": "c6c0bc11-71e4-48c3-cf3b-0ce3dfc2e1a9"
      },
      "execution_count": 23,
      "outputs": [
        {
          "output_type": "execute_result",
          "data": {
            "text/plain": [
              "Empty DataFrame\n",
              "Columns: [origin, page, title, link, image_url, country, district, neighborhood, street, zipCode, province, buildingType, clientAlias, latitude, longitude, isNewConstruction, rooms, bathrooms, parking, elevator, furnished, surface, energyCertificate, hotWater, heating, conservationState, antiquity, floor, surfaceLand, otherFeatures, price, hasSwimmingPool, hasGarden, hasTerrace]\n",
              "Index: []\n",
              "\n",
              "[0 rows x 34 columns]"
            ],
            "text/html": [
              "\n",
              "  <div id=\"df-f4f6b09c-65a5-4a3a-97c9-4de2de356a53\">\n",
              "    <div class=\"colab-df-container\">\n",
              "      <div>\n",
              "<style scoped>\n",
              "    .dataframe tbody tr th:only-of-type {\n",
              "        vertical-align: middle;\n",
              "    }\n",
              "\n",
              "    .dataframe tbody tr th {\n",
              "        vertical-align: top;\n",
              "    }\n",
              "\n",
              "    .dataframe thead th {\n",
              "        text-align: right;\n",
              "    }\n",
              "</style>\n",
              "<table border=\"1\" class=\"dataframe\">\n",
              "  <thead>\n",
              "    <tr style=\"text-align: right;\">\n",
              "      <th></th>\n",
              "      <th>origin</th>\n",
              "      <th>page</th>\n",
              "      <th>title</th>\n",
              "      <th>link</th>\n",
              "      <th>image_url</th>\n",
              "      <th>country</th>\n",
              "      <th>district</th>\n",
              "      <th>neighborhood</th>\n",
              "      <th>street</th>\n",
              "      <th>zipCode</th>\n",
              "      <th>...</th>\n",
              "      <th>heating</th>\n",
              "      <th>conservationState</th>\n",
              "      <th>antiquity</th>\n",
              "      <th>floor</th>\n",
              "      <th>surfaceLand</th>\n",
              "      <th>otherFeatures</th>\n",
              "      <th>price</th>\n",
              "      <th>hasSwimmingPool</th>\n",
              "      <th>hasGarden</th>\n",
              "      <th>hasTerrace</th>\n",
              "    </tr>\n",
              "  </thead>\n",
              "  <tbody>\n",
              "  </tbody>\n",
              "</table>\n",
              "<p>0 rows × 34 columns</p>\n",
              "</div>\n",
              "      <button class=\"colab-df-convert\" onclick=\"convertToInteractive('df-f4f6b09c-65a5-4a3a-97c9-4de2de356a53')\"\n",
              "              title=\"Convert this dataframe to an interactive table.\"\n",
              "              style=\"display:none;\">\n",
              "        \n",
              "  <svg xmlns=\"http://www.w3.org/2000/svg\" height=\"24px\"viewBox=\"0 0 24 24\"\n",
              "       width=\"24px\">\n",
              "    <path d=\"M0 0h24v24H0V0z\" fill=\"none\"/>\n",
              "    <path d=\"M18.56 5.44l.94 2.06.94-2.06 2.06-.94-2.06-.94-.94-2.06-.94 2.06-2.06.94zm-11 1L8.5 8.5l.94-2.06 2.06-.94-2.06-.94L8.5 2.5l-.94 2.06-2.06.94zm10 10l.94 2.06.94-2.06 2.06-.94-2.06-.94-.94-2.06-.94 2.06-2.06.94z\"/><path d=\"M17.41 7.96l-1.37-1.37c-.4-.4-.92-.59-1.43-.59-.52 0-1.04.2-1.43.59L10.3 9.45l-7.72 7.72c-.78.78-.78 2.05 0 2.83L4 21.41c.39.39.9.59 1.41.59.51 0 1.02-.2 1.41-.59l7.78-7.78 2.81-2.81c.8-.78.8-2.07 0-2.86zM5.41 20L4 18.59l7.72-7.72 1.47 1.35L5.41 20z\"/>\n",
              "  </svg>\n",
              "      </button>\n",
              "      \n",
              "  <style>\n",
              "    .colab-df-container {\n",
              "      display:flex;\n",
              "      flex-wrap:wrap;\n",
              "      gap: 12px;\n",
              "    }\n",
              "\n",
              "    .colab-df-convert {\n",
              "      background-color: #E8F0FE;\n",
              "      border: none;\n",
              "      border-radius: 50%;\n",
              "      cursor: pointer;\n",
              "      display: none;\n",
              "      fill: #1967D2;\n",
              "      height: 32px;\n",
              "      padding: 0 0 0 0;\n",
              "      width: 32px;\n",
              "    }\n",
              "\n",
              "    .colab-df-convert:hover {\n",
              "      background-color: #E2EBFA;\n",
              "      box-shadow: 0px 1px 2px rgba(60, 64, 67, 0.3), 0px 1px 3px 1px rgba(60, 64, 67, 0.15);\n",
              "      fill: #174EA6;\n",
              "    }\n",
              "\n",
              "    [theme=dark] .colab-df-convert {\n",
              "      background-color: #3B4455;\n",
              "      fill: #D2E3FC;\n",
              "    }\n",
              "\n",
              "    [theme=dark] .colab-df-convert:hover {\n",
              "      background-color: #434B5C;\n",
              "      box-shadow: 0px 1px 3px 1px rgba(0, 0, 0, 0.15);\n",
              "      filter: drop-shadow(0px 1px 2px rgba(0, 0, 0, 0.3));\n",
              "      fill: #FFFFFF;\n",
              "    }\n",
              "  </style>\n",
              "\n",
              "      <script>\n",
              "        const buttonEl =\n",
              "          document.querySelector('#df-f4f6b09c-65a5-4a3a-97c9-4de2de356a53 button.colab-df-convert');\n",
              "        buttonEl.style.display =\n",
              "          google.colab.kernel.accessAllowed ? 'block' : 'none';\n",
              "\n",
              "        async function convertToInteractive(key) {\n",
              "          const element = document.querySelector('#df-f4f6b09c-65a5-4a3a-97c9-4de2de356a53');\n",
              "          const dataTable =\n",
              "            await google.colab.kernel.invokeFunction('convertToInteractive',\n",
              "                                                     [key], {});\n",
              "          if (!dataTable) return;\n",
              "\n",
              "          const docLinkHtml = 'Like what you see? Visit the ' +\n",
              "            '<a target=\"_blank\" href=https://colab.research.google.com/notebooks/data_table.ipynb>data table notebook</a>'\n",
              "            + ' to learn more about interactive tables.';\n",
              "          element.innerHTML = '';\n",
              "          dataTable['output_type'] = 'display_data';\n",
              "          await google.colab.output.renderOutput(dataTable, element);\n",
              "          const docLink = document.createElement('div');\n",
              "          docLink.innerHTML = docLinkHtml;\n",
              "          element.appendChild(docLink);\n",
              "        }\n",
              "      </script>\n",
              "    </div>\n",
              "  </div>\n",
              "  "
            ]
          },
          "metadata": {},
          "execution_count": 23
        }
      ]
    },
    {
      "cell_type": "markdown",
      "source": [
        "Apparently there is no issue in this colum so it can be transformed into a property id feature"
      ],
      "metadata": {
        "id": "NwX_bo5xVnOr"
      }
    },
    {
      "cell_type": "code",
      "source": [
        "fotocasa_df['id'] = fotocasa_df['link'].apply(lambda x: x.split('/')[-2])\n",
        "fotocasa_df['id']"
      ],
      "metadata": {
        "colab": {
          "base_uri": "https://localhost:8080/"
        },
        "id": "fzTIWYecVmxx",
        "outputId": "18eb91af-44e5-4c7b-ec8a-29e4e5c33607"
      },
      "execution_count": 24,
      "outputs": [
        {
          "output_type": "execute_result",
          "data": {
            "text/plain": [
              "0        164109685\n",
              "1        163938977\n",
              "2        163368493\n",
              "3        164116246\n",
              "4        164075236\n",
              "           ...    \n",
              "30318    164015185\n",
              "30319    163898448\n",
              "30320    163592870\n",
              "30321    164091880\n",
              "30322    163389966\n",
              "Name: id, Length: 29937, dtype: object"
            ]
          },
          "metadata": {},
          "execution_count": 24
        }
      ]
    },
    {
      "cell_type": "markdown",
      "source": [
        "Fotocasa properties' size is separated into surface (representing the actual size of the house) and surfaceLand (the surface of the land on which the house is built on). To have the full size of the property, we need to sum them"
      ],
      "metadata": {
        "id": "sUMHihUSWKbs"
      }
    },
    {
      "cell_type": "code",
      "source": [
        "fotocasa_df.dtypes"
      ],
      "metadata": {
        "colab": {
          "base_uri": "https://localhost:8080/"
        },
        "id": "65kdQbxm3y2I",
        "outputId": "3bbbb442-b39d-4908-eaa0-3a329daac33b"
      },
      "execution_count": 25,
      "outputs": [
        {
          "output_type": "execute_result",
          "data": {
            "text/plain": [
              "origin               object\n",
              "page                  int64\n",
              "title                object\n",
              "link                 object\n",
              "image_url            object\n",
              "country              object\n",
              "district             object\n",
              "neighborhood         object\n",
              "street               object\n",
              "zipCode              object\n",
              "province             object\n",
              "buildingType         object\n",
              "clientAlias          object\n",
              "latitude             object\n",
              "longitude            object\n",
              "isNewConstruction    object\n",
              "rooms                object\n",
              "bathrooms            object\n",
              "parking              object\n",
              "elevator             object\n",
              "furnished            object\n",
              "surface              object\n",
              "energyCertificate    object\n",
              "hotWater             object\n",
              "heating              object\n",
              "conservationState    object\n",
              "antiquity            object\n",
              "floor                object\n",
              "surfaceLand          object\n",
              "otherFeatures        object\n",
              "price                 int64\n",
              "hasSwimmingPool       int64\n",
              "hasGarden             int64\n",
              "hasTerrace            int64\n",
              "id                   object\n",
              "dtype: object"
            ]
          },
          "metadata": {},
          "execution_count": 25
        }
      ]
    },
    {
      "cell_type": "code",
      "source": [
        "fotocasa_df[fotocasa_df['surfaceLand'] != '0']"
      ],
      "metadata": {
        "colab": {
          "base_uri": "https://localhost:8080/",
          "height": 423
        },
        "id": "I4l8Ta2H4A7u",
        "outputId": "ab8d6452-6c56-4d31-a2dc-68e51e3023e7"
      },
      "execution_count": 26,
      "outputs": [
        {
          "output_type": "execute_result",
          "data": {
            "text/plain": [
              "         origin  page                                              title  \\\n",
              "47     fotocasa   518       Casa adosada en venta en Calle del Balcón, 9   \n",
              "85     fotocasa   188               Casa o chalet en venta en Río Tajuña   \n",
              "111    fotocasa   527           Casa adosada en venta en Calle Chopo, 20   \n",
              "425    fotocasa   712       Casa o chalet en venta en Calle Granada, 209   \n",
              "441    fotocasa   712        Casa o chalet en venta en Avenida Escondite   \n",
              "...         ...   ...                                                ...   \n",
              "30120  fotocasa   138                             Casa o chalet en venta   \n",
              "30132  fotocasa   138                 Casa o chalet en venta en Miralrio   \n",
              "30142  fotocasa   138              Casa o chalet en venta en De Albacete   \n",
              "30158  fotocasa   904  Casa o chalet en venta en Calle Alcalde José M...   \n",
              "30171  fotocasa   904    Casa o chalet en venta en Avenida Velázquez, 9v   \n",
              "\n",
              "                                                    link  \\\n",
              "47     https://www.fotocasa.es/es/comprar/vivienda/ro...   \n",
              "85     https://www.fotocasa.es/es/comprar/vivienda/es...   \n",
              "111    https://www.fotocasa.es/es/comprar/vivienda/pa...   \n",
              "425    https://www.fotocasa.es/es/comprar/vivienda/vi...   \n",
              "441    https://www.fotocasa.es/es/comprar/vivienda/to...   \n",
              "...                                                  ...   \n",
              "30120  https://www.fotocasa.es/es/comprar/vivienda/ce...   \n",
              "30132  https://www.fotocasa.es/es/comprar/vivienda/co...   \n",
              "30142  https://www.fotocasa.es/es/comprar/vivienda/ga...   \n",
              "30158  https://www.fotocasa.es/es/comprar/vivienda/le...   \n",
              "30171  https://www.fotocasa.es/es/comprar/vivienda/ri...   \n",
              "\n",
              "                                               image_url country  \\\n",
              "47     https://static.fotocasa.es/images/anuncio/2020...  España   \n",
              "85     https://static.inmofactory.com/images/inmofact...  España   \n",
              "111    https://static.fotocasa.es/images/anuncio/2021...  España   \n",
              "425    https://static.fotocasa.es/images/anuncio/2021...  España   \n",
              "441    https://static.fotocasa.es/images/anuncio/2022...  España   \n",
              "...                                                  ...     ...   \n",
              "30120  https://static.inmofactory.com/images/inmofact...  España   \n",
              "30132  https://static.inmofactory.com/images/inmofact...  España   \n",
              "30142  https://static.inmofactory.com/images/inmofact...  España   \n",
              "30158  https://static.fotocasa.es/images/anuncio/2022...  España   \n",
              "30171  https://static.fotocasa.es/images/anuncio/2022...  España   \n",
              "\n",
              "                                        district neighborhood  \\\n",
              "47                                           NaN          NaN   \n",
              "85                                           NaN          NaN   \n",
              "111                                          NaN          NaN   \n",
              "425                                          NaN          NaN   \n",
              "441                               Los Peñascales     El Monte   \n",
              "...                                          ...          ...   \n",
              "30120                                        NaN          NaN   \n",
              "30132                                        NaN          NaN   \n",
              "30142                  El Guijo - Colonia España          NaN   \n",
              "30158  Valdepelayo - Montepinos - Arroyo Culebro          NaN   \n",
              "30171                               Rivas Futura          NaN   \n",
              "\n",
              "                                        street zipCode  ... conservationState  \\\n",
              "47                         Calle del Balcón, 9   28194  ...          Muy bien   \n",
              "85                                  Río Tajuña   28595  ...               NaN   \n",
              "111                            Calle Chopo, 20   28189  ...        Casi nuevo   \n",
              "425                         Calle Granada, 209   28630  ...              Bien   \n",
              "441                          Avenida Escondite   28250  ...        A reformar   \n",
              "...                                        ...     ...  ...               ...   \n",
              "30120                                      NaN   28470  ...          Muy bien   \n",
              "30132                                 Miralrio   28380  ...          Muy bien   \n",
              "30142                              De Albacete   28292  ...              Bien   \n",
              "30158  Calle Alcalde José María Durán y Pelayo   28914  ...          Muy bien   \n",
              "30171                    Avenida Velázquez, 9v   28521  ...        Casi nuevo   \n",
              "\n",
              "          antiquity floor surfaceLand  \\\n",
              "47     10 a 20 años     0          20   \n",
              "85     30 a 50 años     0        2000   \n",
              "111    10 a 20 años     0          98   \n",
              "425    20 a 30 años     0        1250   \n",
              "441    20 a 30 años     0         800   \n",
              "...             ...   ...         ...   \n",
              "30120  30 a 50 años     5        1285   \n",
              "30132           NaN     0        2650   \n",
              "30142           NaN     0        1200   \n",
              "30158  10 a 20 años     0         250   \n",
              "30171    1 a 5 años     0          80   \n",
              "\n",
              "                                           otherFeatures   price  \\\n",
              "47     {'2': 'Armarios', '10': 'Terraza', '16': 'Pati...  190000   \n",
              "85                                                    {}  119995   \n",
              "111    {'2': 'Armarios', '7': 'Jardín Privado', '11':...  390000   \n",
              "425    {'1': 'Aire acondicionado', '2': 'Armarios', '...  186000   \n",
              "441                                                   {}  525000   \n",
              "...                                                  ...     ...   \n",
              "30120  {'2': 'Armarios', '7': 'Jardín Privado', '10':...  599000   \n",
              "30132  {'1': 'Aire acondicionado', '2': 'Armarios', '...  325000   \n",
              "30142  {'2': 'Armarios', '3': 'Calefacción', '6': 'Gr...  445000   \n",
              "30158  {'2': 'Armarios', '3': 'Calefacción', '7': 'Ja...  525000   \n",
              "30171  {'1': 'Aire acondicionado', '2': 'Armarios', '...  590000   \n",
              "\n",
              "      hasSwimmingPool hasGarden hasTerrace         id  \n",
              "47                  0         1          1  156041669  \n",
              "85                  0         0          0  164566681  \n",
              "111                 0         1          0  159716098  \n",
              "425                 1         1          1  161297477  \n",
              "441                 0         0          0  164947061  \n",
              "...               ...       ...        ...        ...  \n",
              "30120               1         1          1  163844263  \n",
              "30132               1         1          1  158280538  \n",
              "30142               1         1          1  164823857  \n",
              "30158               1         1          1  164454443  \n",
              "30171               1         1          1  164068725  \n",
              "\n",
              "[644 rows x 35 columns]"
            ],
            "text/html": [
              "\n",
              "  <div id=\"df-300482df-1ebc-461a-bfce-977bed4cdc53\">\n",
              "    <div class=\"colab-df-container\">\n",
              "      <div>\n",
              "<style scoped>\n",
              "    .dataframe tbody tr th:only-of-type {\n",
              "        vertical-align: middle;\n",
              "    }\n",
              "\n",
              "    .dataframe tbody tr th {\n",
              "        vertical-align: top;\n",
              "    }\n",
              "\n",
              "    .dataframe thead th {\n",
              "        text-align: right;\n",
              "    }\n",
              "</style>\n",
              "<table border=\"1\" class=\"dataframe\">\n",
              "  <thead>\n",
              "    <tr style=\"text-align: right;\">\n",
              "      <th></th>\n",
              "      <th>origin</th>\n",
              "      <th>page</th>\n",
              "      <th>title</th>\n",
              "      <th>link</th>\n",
              "      <th>image_url</th>\n",
              "      <th>country</th>\n",
              "      <th>district</th>\n",
              "      <th>neighborhood</th>\n",
              "      <th>street</th>\n",
              "      <th>zipCode</th>\n",
              "      <th>...</th>\n",
              "      <th>conservationState</th>\n",
              "      <th>antiquity</th>\n",
              "      <th>floor</th>\n",
              "      <th>surfaceLand</th>\n",
              "      <th>otherFeatures</th>\n",
              "      <th>price</th>\n",
              "      <th>hasSwimmingPool</th>\n",
              "      <th>hasGarden</th>\n",
              "      <th>hasTerrace</th>\n",
              "      <th>id</th>\n",
              "    </tr>\n",
              "  </thead>\n",
              "  <tbody>\n",
              "    <tr>\n",
              "      <th>47</th>\n",
              "      <td>fotocasa</td>\n",
              "      <td>518</td>\n",
              "      <td>Casa adosada en venta en Calle del Balcón, 9</td>\n",
              "      <td>https://www.fotocasa.es/es/comprar/vivienda/ro...</td>\n",
              "      <td>https://static.fotocasa.es/images/anuncio/2020...</td>\n",
              "      <td>España</td>\n",
              "      <td>NaN</td>\n",
              "      <td>NaN</td>\n",
              "      <td>Calle del Balcón, 9</td>\n",
              "      <td>28194</td>\n",
              "      <td>...</td>\n",
              "      <td>Muy bien</td>\n",
              "      <td>10 a 20 años</td>\n",
              "      <td>0</td>\n",
              "      <td>20</td>\n",
              "      <td>{'2': 'Armarios', '10': 'Terraza', '16': 'Pati...</td>\n",
              "      <td>190000</td>\n",
              "      <td>0</td>\n",
              "      <td>1</td>\n",
              "      <td>1</td>\n",
              "      <td>156041669</td>\n",
              "    </tr>\n",
              "    <tr>\n",
              "      <th>85</th>\n",
              "      <td>fotocasa</td>\n",
              "      <td>188</td>\n",
              "      <td>Casa o chalet en venta en Río Tajuña</td>\n",
              "      <td>https://www.fotocasa.es/es/comprar/vivienda/es...</td>\n",
              "      <td>https://static.inmofactory.com/images/inmofact...</td>\n",
              "      <td>España</td>\n",
              "      <td>NaN</td>\n",
              "      <td>NaN</td>\n",
              "      <td>Río Tajuña</td>\n",
              "      <td>28595</td>\n",
              "      <td>...</td>\n",
              "      <td>NaN</td>\n",
              "      <td>30 a 50 años</td>\n",
              "      <td>0</td>\n",
              "      <td>2000</td>\n",
              "      <td>{}</td>\n",
              "      <td>119995</td>\n",
              "      <td>0</td>\n",
              "      <td>0</td>\n",
              "      <td>0</td>\n",
              "      <td>164566681</td>\n",
              "    </tr>\n",
              "    <tr>\n",
              "      <th>111</th>\n",
              "      <td>fotocasa</td>\n",
              "      <td>527</td>\n",
              "      <td>Casa adosada en venta en Calle Chopo, 20</td>\n",
              "      <td>https://www.fotocasa.es/es/comprar/vivienda/pa...</td>\n",
              "      <td>https://static.fotocasa.es/images/anuncio/2021...</td>\n",
              "      <td>España</td>\n",
              "      <td>NaN</td>\n",
              "      <td>NaN</td>\n",
              "      <td>Calle Chopo, 20</td>\n",
              "      <td>28189</td>\n",
              "      <td>...</td>\n",
              "      <td>Casi nuevo</td>\n",
              "      <td>10 a 20 años</td>\n",
              "      <td>0</td>\n",
              "      <td>98</td>\n",
              "      <td>{'2': 'Armarios', '7': 'Jardín Privado', '11':...</td>\n",
              "      <td>390000</td>\n",
              "      <td>0</td>\n",
              "      <td>1</td>\n",
              "      <td>0</td>\n",
              "      <td>159716098</td>\n",
              "    </tr>\n",
              "    <tr>\n",
              "      <th>425</th>\n",
              "      <td>fotocasa</td>\n",
              "      <td>712</td>\n",
              "      <td>Casa o chalet en venta en Calle Granada, 209</td>\n",
              "      <td>https://www.fotocasa.es/es/comprar/vivienda/vi...</td>\n",
              "      <td>https://static.fotocasa.es/images/anuncio/2021...</td>\n",
              "      <td>España</td>\n",
              "      <td>NaN</td>\n",
              "      <td>NaN</td>\n",
              "      <td>Calle Granada, 209</td>\n",
              "      <td>28630</td>\n",
              "      <td>...</td>\n",
              "      <td>Bien</td>\n",
              "      <td>20 a 30 años</td>\n",
              "      <td>0</td>\n",
              "      <td>1250</td>\n",
              "      <td>{'1': 'Aire acondicionado', '2': 'Armarios', '...</td>\n",
              "      <td>186000</td>\n",
              "      <td>1</td>\n",
              "      <td>1</td>\n",
              "      <td>1</td>\n",
              "      <td>161297477</td>\n",
              "    </tr>\n",
              "    <tr>\n",
              "      <th>441</th>\n",
              "      <td>fotocasa</td>\n",
              "      <td>712</td>\n",
              "      <td>Casa o chalet en venta en Avenida Escondite</td>\n",
              "      <td>https://www.fotocasa.es/es/comprar/vivienda/to...</td>\n",
              "      <td>https://static.fotocasa.es/images/anuncio/2022...</td>\n",
              "      <td>España</td>\n",
              "      <td>Los Peñascales</td>\n",
              "      <td>El Monte</td>\n",
              "      <td>Avenida Escondite</td>\n",
              "      <td>28250</td>\n",
              "      <td>...</td>\n",
              "      <td>A reformar</td>\n",
              "      <td>20 a 30 años</td>\n",
              "      <td>0</td>\n",
              "      <td>800</td>\n",
              "      <td>{}</td>\n",
              "      <td>525000</td>\n",
              "      <td>0</td>\n",
              "      <td>0</td>\n",
              "      <td>0</td>\n",
              "      <td>164947061</td>\n",
              "    </tr>\n",
              "    <tr>\n",
              "      <th>...</th>\n",
              "      <td>...</td>\n",
              "      <td>...</td>\n",
              "      <td>...</td>\n",
              "      <td>...</td>\n",
              "      <td>...</td>\n",
              "      <td>...</td>\n",
              "      <td>...</td>\n",
              "      <td>...</td>\n",
              "      <td>...</td>\n",
              "      <td>...</td>\n",
              "      <td>...</td>\n",
              "      <td>...</td>\n",
              "      <td>...</td>\n",
              "      <td>...</td>\n",
              "      <td>...</td>\n",
              "      <td>...</td>\n",
              "      <td>...</td>\n",
              "      <td>...</td>\n",
              "      <td>...</td>\n",
              "      <td>...</td>\n",
              "      <td>...</td>\n",
              "    </tr>\n",
              "    <tr>\n",
              "      <th>30120</th>\n",
              "      <td>fotocasa</td>\n",
              "      <td>138</td>\n",
              "      <td>Casa o chalet en venta</td>\n",
              "      <td>https://www.fotocasa.es/es/comprar/vivienda/ce...</td>\n",
              "      <td>https://static.inmofactory.com/images/inmofact...</td>\n",
              "      <td>España</td>\n",
              "      <td>NaN</td>\n",
              "      <td>NaN</td>\n",
              "      <td>NaN</td>\n",
              "      <td>28470</td>\n",
              "      <td>...</td>\n",
              "      <td>Muy bien</td>\n",
              "      <td>30 a 50 años</td>\n",
              "      <td>5</td>\n",
              "      <td>1285</td>\n",
              "      <td>{'2': 'Armarios', '7': 'Jardín Privado', '10':...</td>\n",
              "      <td>599000</td>\n",
              "      <td>1</td>\n",
              "      <td>1</td>\n",
              "      <td>1</td>\n",
              "      <td>163844263</td>\n",
              "    </tr>\n",
              "    <tr>\n",
              "      <th>30132</th>\n",
              "      <td>fotocasa</td>\n",
              "      <td>138</td>\n",
              "      <td>Casa o chalet en venta en Miralrio</td>\n",
              "      <td>https://www.fotocasa.es/es/comprar/vivienda/co...</td>\n",
              "      <td>https://static.inmofactory.com/images/inmofact...</td>\n",
              "      <td>España</td>\n",
              "      <td>NaN</td>\n",
              "      <td>NaN</td>\n",
              "      <td>Miralrio</td>\n",
              "      <td>28380</td>\n",
              "      <td>...</td>\n",
              "      <td>Muy bien</td>\n",
              "      <td>NaN</td>\n",
              "      <td>0</td>\n",
              "      <td>2650</td>\n",
              "      <td>{'1': 'Aire acondicionado', '2': 'Armarios', '...</td>\n",
              "      <td>325000</td>\n",
              "      <td>1</td>\n",
              "      <td>1</td>\n",
              "      <td>1</td>\n",
              "      <td>158280538</td>\n",
              "    </tr>\n",
              "    <tr>\n",
              "      <th>30142</th>\n",
              "      <td>fotocasa</td>\n",
              "      <td>138</td>\n",
              "      <td>Casa o chalet en venta en De Albacete</td>\n",
              "      <td>https://www.fotocasa.es/es/comprar/vivienda/ga...</td>\n",
              "      <td>https://static.inmofactory.com/images/inmofact...</td>\n",
              "      <td>España</td>\n",
              "      <td>El Guijo - Colonia España</td>\n",
              "      <td>NaN</td>\n",
              "      <td>De Albacete</td>\n",
              "      <td>28292</td>\n",
              "      <td>...</td>\n",
              "      <td>Bien</td>\n",
              "      <td>NaN</td>\n",
              "      <td>0</td>\n",
              "      <td>1200</td>\n",
              "      <td>{'2': 'Armarios', '3': 'Calefacción', '6': 'Gr...</td>\n",
              "      <td>445000</td>\n",
              "      <td>1</td>\n",
              "      <td>1</td>\n",
              "      <td>1</td>\n",
              "      <td>164823857</td>\n",
              "    </tr>\n",
              "    <tr>\n",
              "      <th>30158</th>\n",
              "      <td>fotocasa</td>\n",
              "      <td>904</td>\n",
              "      <td>Casa o chalet en venta en Calle Alcalde José M...</td>\n",
              "      <td>https://www.fotocasa.es/es/comprar/vivienda/le...</td>\n",
              "      <td>https://static.fotocasa.es/images/anuncio/2022...</td>\n",
              "      <td>España</td>\n",
              "      <td>Valdepelayo - Montepinos - Arroyo Culebro</td>\n",
              "      <td>NaN</td>\n",
              "      <td>Calle Alcalde José María Durán y Pelayo</td>\n",
              "      <td>28914</td>\n",
              "      <td>...</td>\n",
              "      <td>Muy bien</td>\n",
              "      <td>10 a 20 años</td>\n",
              "      <td>0</td>\n",
              "      <td>250</td>\n",
              "      <td>{'2': 'Armarios', '3': 'Calefacción', '7': 'Ja...</td>\n",
              "      <td>525000</td>\n",
              "      <td>1</td>\n",
              "      <td>1</td>\n",
              "      <td>1</td>\n",
              "      <td>164454443</td>\n",
              "    </tr>\n",
              "    <tr>\n",
              "      <th>30171</th>\n",
              "      <td>fotocasa</td>\n",
              "      <td>904</td>\n",
              "      <td>Casa o chalet en venta en Avenida Velázquez, 9v</td>\n",
              "      <td>https://www.fotocasa.es/es/comprar/vivienda/ri...</td>\n",
              "      <td>https://static.fotocasa.es/images/anuncio/2022...</td>\n",
              "      <td>España</td>\n",
              "      <td>Rivas Futura</td>\n",
              "      <td>NaN</td>\n",
              "      <td>Avenida Velázquez, 9v</td>\n",
              "      <td>28521</td>\n",
              "      <td>...</td>\n",
              "      <td>Casi nuevo</td>\n",
              "      <td>1 a 5 años</td>\n",
              "      <td>0</td>\n",
              "      <td>80</td>\n",
              "      <td>{'1': 'Aire acondicionado', '2': 'Armarios', '...</td>\n",
              "      <td>590000</td>\n",
              "      <td>1</td>\n",
              "      <td>1</td>\n",
              "      <td>1</td>\n",
              "      <td>164068725</td>\n",
              "    </tr>\n",
              "  </tbody>\n",
              "</table>\n",
              "<p>644 rows × 35 columns</p>\n",
              "</div>\n",
              "      <button class=\"colab-df-convert\" onclick=\"convertToInteractive('df-300482df-1ebc-461a-bfce-977bed4cdc53')\"\n",
              "              title=\"Convert this dataframe to an interactive table.\"\n",
              "              style=\"display:none;\">\n",
              "        \n",
              "  <svg xmlns=\"http://www.w3.org/2000/svg\" height=\"24px\"viewBox=\"0 0 24 24\"\n",
              "       width=\"24px\">\n",
              "    <path d=\"M0 0h24v24H0V0z\" fill=\"none\"/>\n",
              "    <path d=\"M18.56 5.44l.94 2.06.94-2.06 2.06-.94-2.06-.94-.94-2.06-.94 2.06-2.06.94zm-11 1L8.5 8.5l.94-2.06 2.06-.94-2.06-.94L8.5 2.5l-.94 2.06-2.06.94zm10 10l.94 2.06.94-2.06 2.06-.94-2.06-.94-.94-2.06-.94 2.06-2.06.94z\"/><path d=\"M17.41 7.96l-1.37-1.37c-.4-.4-.92-.59-1.43-.59-.52 0-1.04.2-1.43.59L10.3 9.45l-7.72 7.72c-.78.78-.78 2.05 0 2.83L4 21.41c.39.39.9.59 1.41.59.51 0 1.02-.2 1.41-.59l7.78-7.78 2.81-2.81c.8-.78.8-2.07 0-2.86zM5.41 20L4 18.59l7.72-7.72 1.47 1.35L5.41 20z\"/>\n",
              "  </svg>\n",
              "      </button>\n",
              "      \n",
              "  <style>\n",
              "    .colab-df-container {\n",
              "      display:flex;\n",
              "      flex-wrap:wrap;\n",
              "      gap: 12px;\n",
              "    }\n",
              "\n",
              "    .colab-df-convert {\n",
              "      background-color: #E8F0FE;\n",
              "      border: none;\n",
              "      border-radius: 50%;\n",
              "      cursor: pointer;\n",
              "      display: none;\n",
              "      fill: #1967D2;\n",
              "      height: 32px;\n",
              "      padding: 0 0 0 0;\n",
              "      width: 32px;\n",
              "    }\n",
              "\n",
              "    .colab-df-convert:hover {\n",
              "      background-color: #E2EBFA;\n",
              "      box-shadow: 0px 1px 2px rgba(60, 64, 67, 0.3), 0px 1px 3px 1px rgba(60, 64, 67, 0.15);\n",
              "      fill: #174EA6;\n",
              "    }\n",
              "\n",
              "    [theme=dark] .colab-df-convert {\n",
              "      background-color: #3B4455;\n",
              "      fill: #D2E3FC;\n",
              "    }\n",
              "\n",
              "    [theme=dark] .colab-df-convert:hover {\n",
              "      background-color: #434B5C;\n",
              "      box-shadow: 0px 1px 3px 1px rgba(0, 0, 0, 0.15);\n",
              "      filter: drop-shadow(0px 1px 2px rgba(0, 0, 0, 0.3));\n",
              "      fill: #FFFFFF;\n",
              "    }\n",
              "  </style>\n",
              "\n",
              "      <script>\n",
              "        const buttonEl =\n",
              "          document.querySelector('#df-300482df-1ebc-461a-bfce-977bed4cdc53 button.colab-df-convert');\n",
              "        buttonEl.style.display =\n",
              "          google.colab.kernel.accessAllowed ? 'block' : 'none';\n",
              "\n",
              "        async function convertToInteractive(key) {\n",
              "          const element = document.querySelector('#df-300482df-1ebc-461a-bfce-977bed4cdc53');\n",
              "          const dataTable =\n",
              "            await google.colab.kernel.invokeFunction('convertToInteractive',\n",
              "                                                     [key], {});\n",
              "          if (!dataTable) return;\n",
              "\n",
              "          const docLinkHtml = 'Like what you see? Visit the ' +\n",
              "            '<a target=\"_blank\" href=https://colab.research.google.com/notebooks/data_table.ipynb>data table notebook</a>'\n",
              "            + ' to learn more about interactive tables.';\n",
              "          element.innerHTML = '';\n",
              "          dataTable['output_type'] = 'display_data';\n",
              "          await google.colab.output.renderOutput(dataTable, element);\n",
              "          const docLink = document.createElement('div');\n",
              "          docLink.innerHTML = docLinkHtml;\n",
              "          element.appendChild(docLink);\n",
              "        }\n",
              "      </script>\n",
              "    </div>\n",
              "  </div>\n",
              "  "
            ]
          },
          "metadata": {},
          "execution_count": 26
        }
      ]
    },
    {
      "cell_type": "code",
      "source": [
        "print(fotocasa_df['surface'][47])\n",
        "print(fotocasa_df['surfaceLand'][47])\n",
        "fotocasa_df['surface'][47] + fotocasa_df['surfaceLand'][47]"
      ],
      "metadata": {
        "colab": {
          "base_uri": "https://localhost:8080/",
          "height": 72
        },
        "id": "W_ga5inV34mv",
        "outputId": "6b82684a-aab0-4f47-efdb-b6cfec18ca3e"
      },
      "execution_count": 27,
      "outputs": [
        {
          "output_type": "stream",
          "name": "stdout",
          "text": [
            "211\n",
            "20\n"
          ]
        },
        {
          "output_type": "execute_result",
          "data": {
            "text/plain": [
              "'21120'"
            ],
            "application/vnd.google.colaboratory.intrinsic+json": {
              "type": "string"
            }
          },
          "metadata": {},
          "execution_count": 27
        }
      ]
    },
    {
      "cell_type": "code",
      "source": [
        "fotocasa_df['surface'] = fotocasa_df['surface'].astype(float)\n",
        "fotocasa_df['surfaceLand'] = fotocasa_df['surfaceLand'].astype(float)\n",
        "fotocasa_df['surface'][47] + fotocasa_df['surfaceLand'][47]"
      ],
      "metadata": {
        "colab": {
          "base_uri": "https://localhost:8080/"
        },
        "id": "EDjdymqQ5wpV",
        "outputId": "af49bcdf-9a5b-4a99-acec-c2811a135a1b"
      },
      "execution_count": 28,
      "outputs": [
        {
          "output_type": "execute_result",
          "data": {
            "text/plain": [
              "231.0"
            ]
          },
          "metadata": {},
          "execution_count": 28
        }
      ]
    },
    {
      "cell_type": "code",
      "source": [
        "fotocasa_df.dtypes"
      ],
      "metadata": {
        "colab": {
          "base_uri": "https://localhost:8080/"
        },
        "id": "NvwmAeOy6N0E",
        "outputId": "8a86eb4c-27ea-47f7-edab-82e6883af802"
      },
      "execution_count": 29,
      "outputs": [
        {
          "output_type": "execute_result",
          "data": {
            "text/plain": [
              "origin                object\n",
              "page                   int64\n",
              "title                 object\n",
              "link                  object\n",
              "image_url             object\n",
              "country               object\n",
              "district              object\n",
              "neighborhood          object\n",
              "street                object\n",
              "zipCode               object\n",
              "province              object\n",
              "buildingType          object\n",
              "clientAlias           object\n",
              "latitude              object\n",
              "longitude             object\n",
              "isNewConstruction     object\n",
              "rooms                 object\n",
              "bathrooms             object\n",
              "parking               object\n",
              "elevator              object\n",
              "furnished             object\n",
              "surface              float64\n",
              "energyCertificate     object\n",
              "hotWater              object\n",
              "heating               object\n",
              "conservationState     object\n",
              "antiquity             object\n",
              "floor                 object\n",
              "surfaceLand          float64\n",
              "otherFeatures         object\n",
              "price                  int64\n",
              "hasSwimmingPool        int64\n",
              "hasGarden              int64\n",
              "hasTerrace             int64\n",
              "id                    object\n",
              "dtype: object"
            ]
          },
          "metadata": {},
          "execution_count": 29
        }
      ]
    },
    {
      "cell_type": "code",
      "source": [
        "fotocasa_df['size'] = fotocasa_df['surface'] + fotocasa_df['surfaceLand']\n",
        "fotocasa_df['size']"
      ],
      "metadata": {
        "id": "jb5NL3b-Wkpo",
        "colab": {
          "base_uri": "https://localhost:8080/"
        },
        "outputId": "eb62667d-5011-4984-8578-e3f276128147"
      },
      "execution_count": 30,
      "outputs": [
        {
          "output_type": "execute_result",
          "data": {
            "text/plain": [
              "0         95.0\n",
              "1        140.0\n",
              "2        100.0\n",
              "3        104.0\n",
              "4        118.0\n",
              "         ...  \n",
              "30318    161.0\n",
              "30319    120.0\n",
              "30320     87.0\n",
              "30321    214.0\n",
              "30322    160.0\n",
              "Name: size, Length: 29937, dtype: float64"
            ]
          },
          "metadata": {},
          "execution_count": 30
        }
      ]
    },
    {
      "cell_type": "markdown",
      "source": [
        "Fotocasa dataset has one feature that informs us on whether the property is in good conditions or needs renovating. Idealista has this information already separated into two True/False features. Let's trasform Fotocasa dataset accordingly:"
      ],
      "metadata": {
        "id": "Ps0gJWBWXcgJ"
      }
    },
    {
      "cell_type": "code",
      "source": [
        "fotocasa_df['conservationState'].unique()"
      ],
      "metadata": {
        "colab": {
          "base_uri": "https://localhost:8080/"
        },
        "id": "9ns6a_fQX23t",
        "outputId": "88c453a2-e7fc-48f0-da3e-e644eef2e72e"
      },
      "execution_count": 31,
      "outputs": [
        {
          "output_type": "execute_result",
          "data": {
            "text/plain": [
              "array(['Muy bien', 'Bien', 'Casi nuevo', nan, 'A reformar', 'Reformado'],\n",
              "      dtype=object)"
            ]
          },
          "metadata": {},
          "execution_count": 31
        }
      ]
    },
    {
      "cell_type": "markdown",
      "source": [
        "\"A reformar\" means the property needs renovating, while the rest of the values means the house is in good conditions"
      ],
      "metadata": {
        "id": "moXbb_CIYBAp"
      }
    },
    {
      "cell_type": "code",
      "source": [
        "fotocasa_df['isGoodCondition'] = (fotocasa_df['conservationState']!='A reformar').astype(int)\n",
        "fotocasa_df['isNeedsRenovating'] = (fotocasa_df['conservationState']=='A reformar').astype(int)"
      ],
      "metadata": {
        "id": "N-wqd930X_02"
      },
      "execution_count": 32,
      "outputs": []
    },
    {
      "cell_type": "markdown",
      "source": [
        "We are going to create a column to identify the real estates of Idealista"
      ],
      "metadata": {
        "id": "v76rLTcE_LIU"
      }
    },
    {
      "cell_type": "code",
      "source": [
        "fotocasa_df['origin'].head(5)"
      ],
      "metadata": {
        "colab": {
          "base_uri": "https://localhost:8080/"
        },
        "id": "5dJGKDk0_FDc",
        "outputId": "fe9993bf-c632-4516-fd1a-5b8f08c7f3c6"
      },
      "execution_count": 33,
      "outputs": [
        {
          "output_type": "execute_result",
          "data": {
            "text/plain": [
              "0    fotocasa\n",
              "1    fotocasa\n",
              "2    fotocasa\n",
              "3    fotocasa\n",
              "4    fotocasa\n",
              "Name: origin, dtype: object"
            ]
          },
          "metadata": {},
          "execution_count": 33
        }
      ]
    },
    {
      "cell_type": "code",
      "source": [
        "idealista_df['origin'] = 'idealista'"
      ],
      "metadata": {
        "id": "mZim-ZpV-_Pb"
      },
      "execution_count": 34,
      "outputs": []
    },
    {
      "cell_type": "markdown",
      "source": [
        "Let's compare idealista and fotocasa features again:"
      ],
      "metadata": {
        "id": "3JoEg7zdWtJV"
      }
    },
    {
      "cell_type": "code",
      "source": [
        "idealista_df.columns"
      ],
      "metadata": {
        "colab": {
          "base_uri": "https://localhost:8080/"
        },
        "id": "dkFt816Z80rH",
        "outputId": "8559c2e8-86dc-40f0-942e-cacacceeca03"
      },
      "execution_count": 35,
      "outputs": [
        {
          "output_type": "execute_result",
          "data": {
            "text/plain": [
              "Index(['id', 'propertyType', 'title', 'locationId', 'price', 'size',\n",
              "       'hasParking', 'roomNumber', 'bathNumber', 'hasSwimmingPool',\n",
              "       'hasTerrace', 'hasGarden', 'hasLift', 'isGoodCondition',\n",
              "       'isNeedsRenovating', 'isNewDevelopment', 'featureTags', 'heatingType',\n",
              "       'interiorExterior', 'floor', 'area_name', 'origin'],\n",
              "      dtype='object')"
            ]
          },
          "metadata": {},
          "execution_count": 35
        }
      ]
    },
    {
      "cell_type": "code",
      "source": [
        "fotocasa_df.columns"
      ],
      "metadata": {
        "colab": {
          "base_uri": "https://localhost:8080/"
        },
        "id": "cNnAFIfA84P6",
        "outputId": "4da3c577-c899-4fff-dc73-def9599173af"
      },
      "execution_count": 36,
      "outputs": [
        {
          "output_type": "execute_result",
          "data": {
            "text/plain": [
              "Index(['origin', 'page', 'title', 'link', 'image_url', 'country', 'district',\n",
              "       'neighborhood', 'street', 'zipCode', 'province', 'buildingType',\n",
              "       'clientAlias', 'latitude', 'longitude', 'isNewConstruction', 'rooms',\n",
              "       'bathrooms', 'parking', 'elevator', 'furnished', 'surface',\n",
              "       'energyCertificate', 'hotWater', 'heating', 'conservationState',\n",
              "       'antiquity', 'floor', 'surfaceLand', 'otherFeatures', 'price',\n",
              "       'hasSwimmingPool', 'hasGarden', 'hasTerrace', 'id', 'size',\n",
              "       'isGoodCondition', 'isNeedsRenovating'],\n",
              "      dtype='object')"
            ]
          },
          "metadata": {},
          "execution_count": 36
        }
      ]
    },
    {
      "cell_type": "markdown",
      "source": [
        "| # | idealista | fotocasa | comment |\n",
        "| --- | --- | --- | --- |\n",
        "| 00 | origin | origin | **KEEP** |\n",
        "| 01 | / | page | drop |\n",
        "| 02 | title | title | drop |\n",
        "| 03 | id | id | **KEEP** |\n",
        "| 04 | locationId | / | drop |\n",
        "| 05 | / | image_url | drop |\n",
        "| 06 | / | country | drop |\n",
        "| 07 | area_name | district | **KEEP** |\n",
        "| 08 | / | neighborhood | drop |\n",
        "| 09 | / | street | drop |\n",
        "| 10 | / | zipCode | drop |\n",
        "| 11 | / | province | drop |\n",
        "| 12 | propertyType | buildingType | **KEEP** |\n",
        "| 13 | / | clientAlias | drop |\n",
        "| 14 | none | latitude | drop |\n",
        "| 15 | none | longitude | drop |\n",
        "| 16 | isNewDevelopment | isNewConstruction | **KEEP** |\n",
        "| 17 | roomNumber | rooms | **KEEP** |\n",
        "| 18 | bathNumber | bathrooms | **KEEP** |\n",
        "| 19 | hasParking | parking | **KEEP** |\n",
        "| 20 | hasLift | elevator | **KEEP** |\n",
        "| 21 | hasGarden | hasGarden | **KEEP** |\n",
        "| 22 | hasSwimmingPool | hasSwimmingPool | **KEEP** |\n",
        "| 23 | hasTerrace | hasTerrace | **KEEP** |\n",
        "| 24 | interiorExterior | / | drop |\n",
        "| 25 | / | furnished | drop |\n",
        "| 26 | size | size | **KEEP** |\n",
        "| 27 | / | surface | drop |\n",
        "| 28 | / | energyCertificate | drop |\n",
        "| 29 | / | hotWater | drop |\n",
        "| 30 | heatingType | heating | **KEEP** |\n",
        "| 31 | / | conservationState | drop |\n",
        "| 32 | isGoodCondition | isGoodCondition | **KEEP** |\n",
        "| 33 | isNeedsRenovating | isNeedsRenovating | **KEEP** |\n",
        "| 34 | / | antiquity | drop |\n",
        "| 35 | floor | floor | **KEEP** |\n",
        "| 36 | / | surfaceLand | drop |\n",
        "| 37 | featureTags | otherFeatures | drop |\n",
        "| 38 | price | price | **KEEP** |"
      ],
      "metadata": {
        "id": "GVb8AaseW6X3"
      }
    },
    {
      "cell_type": "markdown",
      "source": [
        "Having a selected features list now, it is necessary to check them one by one to see if some further data cleaning is needed."
      ],
      "metadata": {
        "id": "5O3e-wdEn4xL"
      }
    },
    {
      "cell_type": "code",
      "source": [
        "fotocasa_df.isna().any()"
      ],
      "metadata": {
        "colab": {
          "base_uri": "https://localhost:8080/"
        },
        "id": "o66m3LgRoyx3",
        "outputId": "00936031-58eb-4292-953c-3dfaae3d2fbb"
      },
      "execution_count": 37,
      "outputs": [
        {
          "output_type": "execute_result",
          "data": {
            "text/plain": [
              "origin               False\n",
              "page                 False\n",
              "title                False\n",
              "link                 False\n",
              "image_url            False\n",
              "country              False\n",
              "district              True\n",
              "neighborhood          True\n",
              "street                True\n",
              "zipCode               True\n",
              "province             False\n",
              "buildingType         False\n",
              "clientAlias           True\n",
              "latitude             False\n",
              "longitude            False\n",
              "isNewConstruction    False\n",
              "rooms                False\n",
              "bathrooms            False\n",
              "parking               True\n",
              "elevator              True\n",
              "furnished             True\n",
              "surface              False\n",
              "energyCertificate    False\n",
              "hotWater              True\n",
              "heating               True\n",
              "conservationState     True\n",
              "antiquity             True\n",
              "floor                False\n",
              "surfaceLand          False\n",
              "otherFeatures        False\n",
              "price                False\n",
              "hasSwimmingPool      False\n",
              "hasGarden            False\n",
              "hasTerrace           False\n",
              "id                   False\n",
              "size                 False\n",
              "isGoodCondition      False\n",
              "isNeedsRenovating    False\n",
              "dtype: bool"
            ]
          },
          "metadata": {},
          "execution_count": 37
        }
      ]
    },
    {
      "cell_type": "markdown",
      "source": [
        "We can see that there are null values in district, neighborhood, street, zipCode, clientAlias, parking, elevator, furnished, hotWater, heating, conservationState and antiquity.\n",
        "\n",
        "As many of the features we are going to eliminate, we are only concerned about the ones we are going to keep and have null values, such as district, parking, elevator and heating. Let's take a look at them."
      ],
      "metadata": {
        "id": "Az27UtmnGcdt"
      }
    },
    {
      "cell_type": "code",
      "source": [
        "len(fotocasa_df[fotocasa_df['district'].isna()])"
      ],
      "metadata": {
        "colab": {
          "base_uri": "https://localhost:8080/"
        },
        "id": "0OHWJuZ4oOIp",
        "outputId": "c979dfd2-b23c-450e-a7f6-d67dc0149780"
      },
      "execution_count": 38,
      "outputs": [
        {
          "output_type": "execute_result",
          "data": {
            "text/plain": [
              "2645"
            ]
          },
          "metadata": {},
          "execution_count": 38
        }
      ]
    },
    {
      "cell_type": "code",
      "source": [
        "fotocasa_df[fotocasa_df['district'].isna()].head()"
      ],
      "metadata": {
        "colab": {
          "base_uri": "https://localhost:8080/",
          "height": 235
        },
        "id": "Mofr3s-jI1A4",
        "outputId": "6a2e48cf-3760-4d8a-f675-f20251f818b5"
      },
      "execution_count": 39,
      "outputs": [
        {
          "output_type": "execute_result",
          "data": {
            "text/plain": [
              "      origin  page                                            title  \\\n",
              "2   fotocasa   940                Piso en venta en Calle Polvoranca   \n",
              "17  fotocasa   940  Casa o chalet en venta en Avenida de la Cabrera   \n",
              "25  fotocasa   940          Casa o chalet en venta en Calle Real, 9   \n",
              "45  fotocasa   518                   Ático en venta en Calle Madrid   \n",
              "46  fotocasa   518           Piso en venta en Calle Severo Ochoa, 2   \n",
              "\n",
              "                                                 link  \\\n",
              "2   https://www.fotocasa.es/es/comprar/vivienda/hu...   \n",
              "17  https://www.fotocasa.es/es/comprar/vivienda/la...   \n",
              "25  https://www.fotocasa.es/es/comprar/vivienda/po...   \n",
              "45  https://www.fotocasa.es/es/comprar/vivienda/hu...   \n",
              "46  https://www.fotocasa.es/es/comprar/vivienda/hu...   \n",
              "\n",
              "                                            image_url country district  \\\n",
              "2   https://static.inmofactory.com/images/inmofact...  España      NaN   \n",
              "17  https://static.inmofactory.com/images/inmofact...  España      NaN   \n",
              "25  https://static.inmofactory.com/images/inmofact...  España      NaN   \n",
              "45  https://static.fotocasa.es/images/anuncio/2021...  España      NaN   \n",
              "46  https://static.fotocasa.es/images/anuncio/2022...  España      NaN   \n",
              "\n",
              "   neighborhood                 street zipCode  ... surfaceLand  \\\n",
              "2           NaN       Calle Polvoranca   28970  ...         0.0   \n",
              "17          NaN  Avenida de la Cabrera   28751  ...         0.0   \n",
              "25          NaN          Calle Real, 9   28813  ...         0.0   \n",
              "45          NaN           Calle Madrid   28970  ...         0.0   \n",
              "46          NaN  Calle Severo Ochoa, 2   28970  ...         0.0   \n",
              "\n",
              "                                        otherFeatures   price hasSwimmingPool  \\\n",
              "2   {'1': 'Aire acondicionado', '2': 'Armarios', '...  200000               0   \n",
              "17  {'2': 'Armarios', '6': 'Gres Cerámica', '7': '...  289000               1   \n",
              "25  {'1': 'Aire acondicionado', '2': 'Armarios', '...  380000               0   \n",
              "45  {'1': 'Aire acondicionado', '2': 'Armarios', '...  250000               1   \n",
              "46                                   {'9': 'Parquet'}  190000               0   \n",
              "\n",
              "   hasGarden hasTerrace         id   size isGoodCondition isNeedsRenovating  \n",
              "2          0          1  163368493  100.0               1                 0  \n",
              "17         1          1  164120295  164.0               1                 0  \n",
              "25         1          1  162936565  380.0               1                 0  \n",
              "45         1          1  162032193   80.0               1                 0  \n",
              "46         0          0  162571299   86.0               1                 0  \n",
              "\n",
              "[5 rows x 38 columns]"
            ],
            "text/html": [
              "\n",
              "  <div id=\"df-8dde8c0b-3f34-45cf-8ea8-3d619a79bcef\">\n",
              "    <div class=\"colab-df-container\">\n",
              "      <div>\n",
              "<style scoped>\n",
              "    .dataframe tbody tr th:only-of-type {\n",
              "        vertical-align: middle;\n",
              "    }\n",
              "\n",
              "    .dataframe tbody tr th {\n",
              "        vertical-align: top;\n",
              "    }\n",
              "\n",
              "    .dataframe thead th {\n",
              "        text-align: right;\n",
              "    }\n",
              "</style>\n",
              "<table border=\"1\" class=\"dataframe\">\n",
              "  <thead>\n",
              "    <tr style=\"text-align: right;\">\n",
              "      <th></th>\n",
              "      <th>origin</th>\n",
              "      <th>page</th>\n",
              "      <th>title</th>\n",
              "      <th>link</th>\n",
              "      <th>image_url</th>\n",
              "      <th>country</th>\n",
              "      <th>district</th>\n",
              "      <th>neighborhood</th>\n",
              "      <th>street</th>\n",
              "      <th>zipCode</th>\n",
              "      <th>...</th>\n",
              "      <th>surfaceLand</th>\n",
              "      <th>otherFeatures</th>\n",
              "      <th>price</th>\n",
              "      <th>hasSwimmingPool</th>\n",
              "      <th>hasGarden</th>\n",
              "      <th>hasTerrace</th>\n",
              "      <th>id</th>\n",
              "      <th>size</th>\n",
              "      <th>isGoodCondition</th>\n",
              "      <th>isNeedsRenovating</th>\n",
              "    </tr>\n",
              "  </thead>\n",
              "  <tbody>\n",
              "    <tr>\n",
              "      <th>2</th>\n",
              "      <td>fotocasa</td>\n",
              "      <td>940</td>\n",
              "      <td>Piso en venta en Calle Polvoranca</td>\n",
              "      <td>https://www.fotocasa.es/es/comprar/vivienda/hu...</td>\n",
              "      <td>https://static.inmofactory.com/images/inmofact...</td>\n",
              "      <td>España</td>\n",
              "      <td>NaN</td>\n",
              "      <td>NaN</td>\n",
              "      <td>Calle Polvoranca</td>\n",
              "      <td>28970</td>\n",
              "      <td>...</td>\n",
              "      <td>0.0</td>\n",
              "      <td>{'1': 'Aire acondicionado', '2': 'Armarios', '...</td>\n",
              "      <td>200000</td>\n",
              "      <td>0</td>\n",
              "      <td>0</td>\n",
              "      <td>1</td>\n",
              "      <td>163368493</td>\n",
              "      <td>100.0</td>\n",
              "      <td>1</td>\n",
              "      <td>0</td>\n",
              "    </tr>\n",
              "    <tr>\n",
              "      <th>17</th>\n",
              "      <td>fotocasa</td>\n",
              "      <td>940</td>\n",
              "      <td>Casa o chalet en venta en Avenida de la Cabrera</td>\n",
              "      <td>https://www.fotocasa.es/es/comprar/vivienda/la...</td>\n",
              "      <td>https://static.inmofactory.com/images/inmofact...</td>\n",
              "      <td>España</td>\n",
              "      <td>NaN</td>\n",
              "      <td>NaN</td>\n",
              "      <td>Avenida de la Cabrera</td>\n",
              "      <td>28751</td>\n",
              "      <td>...</td>\n",
              "      <td>0.0</td>\n",
              "      <td>{'2': 'Armarios', '6': 'Gres Cerámica', '7': '...</td>\n",
              "      <td>289000</td>\n",
              "      <td>1</td>\n",
              "      <td>1</td>\n",
              "      <td>1</td>\n",
              "      <td>164120295</td>\n",
              "      <td>164.0</td>\n",
              "      <td>1</td>\n",
              "      <td>0</td>\n",
              "    </tr>\n",
              "    <tr>\n",
              "      <th>25</th>\n",
              "      <td>fotocasa</td>\n",
              "      <td>940</td>\n",
              "      <td>Casa o chalet en venta en Calle Real, 9</td>\n",
              "      <td>https://www.fotocasa.es/es/comprar/vivienda/po...</td>\n",
              "      <td>https://static.inmofactory.com/images/inmofact...</td>\n",
              "      <td>España</td>\n",
              "      <td>NaN</td>\n",
              "      <td>NaN</td>\n",
              "      <td>Calle Real, 9</td>\n",
              "      <td>28813</td>\n",
              "      <td>...</td>\n",
              "      <td>0.0</td>\n",
              "      <td>{'1': 'Aire acondicionado', '2': 'Armarios', '...</td>\n",
              "      <td>380000</td>\n",
              "      <td>0</td>\n",
              "      <td>1</td>\n",
              "      <td>1</td>\n",
              "      <td>162936565</td>\n",
              "      <td>380.0</td>\n",
              "      <td>1</td>\n",
              "      <td>0</td>\n",
              "    </tr>\n",
              "    <tr>\n",
              "      <th>45</th>\n",
              "      <td>fotocasa</td>\n",
              "      <td>518</td>\n",
              "      <td>Ático en venta en Calle Madrid</td>\n",
              "      <td>https://www.fotocasa.es/es/comprar/vivienda/hu...</td>\n",
              "      <td>https://static.fotocasa.es/images/anuncio/2021...</td>\n",
              "      <td>España</td>\n",
              "      <td>NaN</td>\n",
              "      <td>NaN</td>\n",
              "      <td>Calle Madrid</td>\n",
              "      <td>28970</td>\n",
              "      <td>...</td>\n",
              "      <td>0.0</td>\n",
              "      <td>{'1': 'Aire acondicionado', '2': 'Armarios', '...</td>\n",
              "      <td>250000</td>\n",
              "      <td>1</td>\n",
              "      <td>1</td>\n",
              "      <td>1</td>\n",
              "      <td>162032193</td>\n",
              "      <td>80.0</td>\n",
              "      <td>1</td>\n",
              "      <td>0</td>\n",
              "    </tr>\n",
              "    <tr>\n",
              "      <th>46</th>\n",
              "      <td>fotocasa</td>\n",
              "      <td>518</td>\n",
              "      <td>Piso en venta en Calle Severo Ochoa, 2</td>\n",
              "      <td>https://www.fotocasa.es/es/comprar/vivienda/hu...</td>\n",
              "      <td>https://static.fotocasa.es/images/anuncio/2022...</td>\n",
              "      <td>España</td>\n",
              "      <td>NaN</td>\n",
              "      <td>NaN</td>\n",
              "      <td>Calle Severo Ochoa, 2</td>\n",
              "      <td>28970</td>\n",
              "      <td>...</td>\n",
              "      <td>0.0</td>\n",
              "      <td>{'9': 'Parquet'}</td>\n",
              "      <td>190000</td>\n",
              "      <td>0</td>\n",
              "      <td>0</td>\n",
              "      <td>0</td>\n",
              "      <td>162571299</td>\n",
              "      <td>86.0</td>\n",
              "      <td>1</td>\n",
              "      <td>0</td>\n",
              "    </tr>\n",
              "  </tbody>\n",
              "</table>\n",
              "<p>5 rows × 38 columns</p>\n",
              "</div>\n",
              "      <button class=\"colab-df-convert\" onclick=\"convertToInteractive('df-8dde8c0b-3f34-45cf-8ea8-3d619a79bcef')\"\n",
              "              title=\"Convert this dataframe to an interactive table.\"\n",
              "              style=\"display:none;\">\n",
              "        \n",
              "  <svg xmlns=\"http://www.w3.org/2000/svg\" height=\"24px\"viewBox=\"0 0 24 24\"\n",
              "       width=\"24px\">\n",
              "    <path d=\"M0 0h24v24H0V0z\" fill=\"none\"/>\n",
              "    <path d=\"M18.56 5.44l.94 2.06.94-2.06 2.06-.94-2.06-.94-.94-2.06-.94 2.06-2.06.94zm-11 1L8.5 8.5l.94-2.06 2.06-.94-2.06-.94L8.5 2.5l-.94 2.06-2.06.94zm10 10l.94 2.06.94-2.06 2.06-.94-2.06-.94-.94-2.06-.94 2.06-2.06.94z\"/><path d=\"M17.41 7.96l-1.37-1.37c-.4-.4-.92-.59-1.43-.59-.52 0-1.04.2-1.43.59L10.3 9.45l-7.72 7.72c-.78.78-.78 2.05 0 2.83L4 21.41c.39.39.9.59 1.41.59.51 0 1.02-.2 1.41-.59l7.78-7.78 2.81-2.81c.8-.78.8-2.07 0-2.86zM5.41 20L4 18.59l7.72-7.72 1.47 1.35L5.41 20z\"/>\n",
              "  </svg>\n",
              "      </button>\n",
              "      \n",
              "  <style>\n",
              "    .colab-df-container {\n",
              "      display:flex;\n",
              "      flex-wrap:wrap;\n",
              "      gap: 12px;\n",
              "    }\n",
              "\n",
              "    .colab-df-convert {\n",
              "      background-color: #E8F0FE;\n",
              "      border: none;\n",
              "      border-radius: 50%;\n",
              "      cursor: pointer;\n",
              "      display: none;\n",
              "      fill: #1967D2;\n",
              "      height: 32px;\n",
              "      padding: 0 0 0 0;\n",
              "      width: 32px;\n",
              "    }\n",
              "\n",
              "    .colab-df-convert:hover {\n",
              "      background-color: #E2EBFA;\n",
              "      box-shadow: 0px 1px 2px rgba(60, 64, 67, 0.3), 0px 1px 3px 1px rgba(60, 64, 67, 0.15);\n",
              "      fill: #174EA6;\n",
              "    }\n",
              "\n",
              "    [theme=dark] .colab-df-convert {\n",
              "      background-color: #3B4455;\n",
              "      fill: #D2E3FC;\n",
              "    }\n",
              "\n",
              "    [theme=dark] .colab-df-convert:hover {\n",
              "      background-color: #434B5C;\n",
              "      box-shadow: 0px 1px 3px 1px rgba(0, 0, 0, 0.15);\n",
              "      filter: drop-shadow(0px 1px 2px rgba(0, 0, 0, 0.3));\n",
              "      fill: #FFFFFF;\n",
              "    }\n",
              "  </style>\n",
              "\n",
              "      <script>\n",
              "        const buttonEl =\n",
              "          document.querySelector('#df-8dde8c0b-3f34-45cf-8ea8-3d619a79bcef button.colab-df-convert');\n",
              "        buttonEl.style.display =\n",
              "          google.colab.kernel.accessAllowed ? 'block' : 'none';\n",
              "\n",
              "        async function convertToInteractive(key) {\n",
              "          const element = document.querySelector('#df-8dde8c0b-3f34-45cf-8ea8-3d619a79bcef');\n",
              "          const dataTable =\n",
              "            await google.colab.kernel.invokeFunction('convertToInteractive',\n",
              "                                                     [key], {});\n",
              "          if (!dataTable) return;\n",
              "\n",
              "          const docLinkHtml = 'Like what you see? Visit the ' +\n",
              "            '<a target=\"_blank\" href=https://colab.research.google.com/notebooks/data_table.ipynb>data table notebook</a>'\n",
              "            + ' to learn more about interactive tables.';\n",
              "          element.innerHTML = '';\n",
              "          dataTable['output_type'] = 'display_data';\n",
              "          await google.colab.output.renderOutput(dataTable, element);\n",
              "          const docLink = document.createElement('div');\n",
              "          docLink.innerHTML = docLinkHtml;\n",
              "          element.appendChild(docLink);\n",
              "        }\n",
              "      </script>\n",
              "    </div>\n",
              "  </div>\n",
              "  "
            ]
          },
          "metadata": {},
          "execution_count": 39
        }
      ]
    },
    {
      "cell_type": "markdown",
      "source": [
        "The postal codes of the districts of the Madrid City Council are: 28013 (Centro), 28045 (Arganzuela), 28007 (Retiro), 28001 (Salamanca), 28002 (Chamartin), 28020 (Tetuán), 28010 (Chamberí), 28029 (Fuencarral - El Pardo), 28008 (Moncloa - Aravaca), 28044 (Latina), 28025 (Carabanchel), 28026 (Usera), 28038 (Puente de Vallecas), 28030 (Moratalaz), 28037 (Ciudad Lineal), 28043 (Hortaleza), 28021 (Villaverde), 28031 (Villa de Vallecas), 28032 (Vicálvaro), 28022 (San Blas - Canillejas) and 28042 (Barajas)."
      ],
      "metadata": {
        "id": "yS6dAp4OLIl-"
      }
    },
    {
      "cell_type": "code",
      "source": [
        "madrid_zipcodes = {'28013':'Centro',\n",
        "                   '28045':'Arganzuela',\n",
        "                   '28007':'Retiro',\n",
        "                   '28001':'Salamanca',\n",
        "                   '28002':'Chamartin',\n",
        "                   '28020':'Tetuán',\n",
        "                   '28010':'Chamberí',\n",
        "                   '28029':'Fuencarral - El Pardo',\n",
        "                   '28008':'Moncloa - Aravaca',\n",
        "                   '28044':'Latina',\n",
        "                   '28025':'Carabanchel',\n",
        "                   '28026':'Usera',\n",
        "                   '28038':'Puente de Vallecas',\n",
        "                   '28030':'Moratalaz',\n",
        "                   '28037':'Ciudad Lineal',\n",
        "                   '28043':'Hortaleza',\n",
        "                   '28021':'Villaverde',\n",
        "                   '28031':'Villa de Vallecas',\n",
        "                   '28032':'Vicálvaro',\n",
        "                   '28022':'San Blas - Canillejas',\n",
        "                   '28042':'Barajas'\n",
        "                   }"
      ],
      "metadata": {
        "id": "77TfK-3nMF_Q"
      },
      "execution_count": 40,
      "outputs": []
    },
    {
      "cell_type": "code",
      "source": [
        "list(madrid_zipcodes.keys())"
      ],
      "metadata": {
        "colab": {
          "base_uri": "https://localhost:8080/"
        },
        "id": "ZyJCbkJFNUou",
        "outputId": "b9f96071-ac8c-4f97-eb38-3c775c8e08c2"
      },
      "execution_count": 41,
      "outputs": [
        {
          "output_type": "execute_result",
          "data": {
            "text/plain": [
              "['28013',\n",
              " '28045',\n",
              " '28007',\n",
              " '28001',\n",
              " '28002',\n",
              " '28020',\n",
              " '28010',\n",
              " '28029',\n",
              " '28008',\n",
              " '28044',\n",
              " '28025',\n",
              " '28026',\n",
              " '28038',\n",
              " '28030',\n",
              " '28037',\n",
              " '28043',\n",
              " '28021',\n",
              " '28031',\n",
              " '28032',\n",
              " '28022',\n",
              " '28042']"
            ]
          },
          "metadata": {},
          "execution_count": 41
        }
      ]
    },
    {
      "cell_type": "code",
      "source": [
        "len(fotocasa_df[fotocasa_df['zipCode'].isin(list(madrid_zipcodes.keys()))])"
      ],
      "metadata": {
        "colab": {
          "base_uri": "https://localhost:8080/"
        },
        "id": "nh5dZIdRJWhH",
        "outputId": "516815c9-a969-41b6-c919-a7a66d7d14bc"
      },
      "execution_count": 42,
      "outputs": [
        {
          "output_type": "execute_result",
          "data": {
            "text/plain": [
              "7997"
            ]
          },
          "metadata": {},
          "execution_count": 42
        }
      ]
    },
    {
      "cell_type": "markdown",
      "source": [
        "We are left with only the Madrid zip codes."
      ],
      "metadata": {
        "id": "nOBB7O5MQgsU"
      }
    },
    {
      "cell_type": "code",
      "source": [
        "fotocasa_df_madrid = fotocasa_df[fotocasa_df['zipCode'].isin(list(madrid_zipcodes.keys()))]"
      ],
      "metadata": {
        "id": "qBD1mStaQfVN"
      },
      "execution_count": 161,
      "outputs": []
    },
    {
      "cell_type": "code",
      "source": [
        "fotocasa_df_madrid.shape"
      ],
      "metadata": {
        "colab": {
          "base_uri": "https://localhost:8080/"
        },
        "id": "eouySnC-PG1P",
        "outputId": "e391d94d-be6f-4328-d714-10ca6e9e5fa1"
      },
      "execution_count": 162,
      "outputs": [
        {
          "output_type": "execute_result",
          "data": {
            "text/plain": [
              "(7997, 38)"
            ]
          },
          "metadata": {},
          "execution_count": 162
        }
      ]
    },
    {
      "cell_type": "code",
      "source": [
        "len(fotocasa_df_madrid[fotocasa_df_madrid['district'].isna()])"
      ],
      "metadata": {
        "colab": {
          "base_uri": "https://localhost:8080/"
        },
        "id": "rKaUhox-Qz5N",
        "outputId": "1869324a-55a0-4223-eed1-c1e3b960f7d1"
      },
      "execution_count": 163,
      "outputs": [
        {
          "output_type": "execute_result",
          "data": {
            "text/plain": [
              "0"
            ]
          },
          "metadata": {},
          "execution_count": 163
        }
      ]
    },
    {
      "cell_type": "code",
      "source": [
        "fotocasa_df_madrid['district'].unique()"
      ],
      "metadata": {
        "colab": {
          "base_uri": "https://localhost:8080/"
        },
        "id": "RN973UBZTep7",
        "outputId": "5ec04651-ec2b-4e06-f200-c52c55cbff51"
      },
      "execution_count": 164,
      "outputs": [
        {
          "output_type": "execute_result",
          "data": {
            "text/plain": [
              "array(['San Blas', 'Tetuán', 'Arganzuela', 'Puente de Vallecas',\n",
              "       'Chamartín', 'Fuencarral - El Pardo', 'Villaverde',\n",
              "       'Villa de Vallecas', 'Latina', 'Carabanchel', 'Retiro',\n",
              "       'Moncloa - Aravaca', 'Barrio de Salamanca', 'Barajas', 'Centro',\n",
              "       'Vicálvaro', 'Chamberí', 'Usera', 'Ciudad Lineal', 'Moratalaz',\n",
              "       'Hortaleza'], dtype=object)"
            ]
          },
          "metadata": {},
          "execution_count": 164
        }
      ]
    },
    {
      "cell_type": "markdown",
      "source": [
        "We take a look at parking feature"
      ],
      "metadata": {
        "id": "IrJR9IILTTYA"
      }
    },
    {
      "cell_type": "code",
      "source": [
        "len(fotocasa_df_madrid[fotocasa_df_madrid['parking'].isna()])"
      ],
      "metadata": {
        "colab": {
          "base_uri": "https://localhost:8080/"
        },
        "id": "ivkVTmyvHkeS",
        "outputId": "bcccfa1a-1f7e-4aac-e4e0-ce4bd7e1cee9"
      },
      "execution_count": 165,
      "outputs": [
        {
          "output_type": "execute_result",
          "data": {
            "text/plain": [
              "5235"
            ]
          },
          "metadata": {},
          "execution_count": 165
        }
      ]
    },
    {
      "cell_type": "code",
      "source": [
        "fotocasa_df_madrid['parking'].unique()"
      ],
      "metadata": {
        "colab": {
          "base_uri": "https://localhost:8080/"
        },
        "id": "EZcYTJYXSI8c",
        "outputId": "acd12519-59a1-4d9c-fd8a-4c347bad6e2c"
      },
      "execution_count": 166,
      "outputs": [
        {
          "output_type": "execute_result",
          "data": {
            "text/plain": [
              "array([nan, 'FEATURES.PARKING_PRIVATE', 'FEATURES.PARKING_COMMUNITY'],\n",
              "      dtype=object)"
            ]
          },
          "metadata": {},
          "execution_count": 166
        }
      ]
    },
    {
      "cell_type": "code",
      "source": [
        "idealista_df['hasParking'].unique()"
      ],
      "metadata": {
        "colab": {
          "base_uri": "https://localhost:8080/"
        },
        "id": "l3rwaUCdSQO8",
        "outputId": "dcf4ecda-1724-49b0-e918-34518949f88d"
      },
      "execution_count": 167,
      "outputs": [
        {
          "output_type": "execute_result",
          "data": {
            "text/plain": [
              "array([ 0.,  1., nan])"
            ]
          },
          "metadata": {},
          "execution_count": 167
        }
      ]
    },
    {
      "cell_type": "code",
      "source": [
        "fotocasa_df_madrid.loc[fotocasa_df_madrid['parking'].isna(),'parking'] = 0\n",
        "fotocasa_df_madrid.loc[fotocasa_df_madrid['parking'].str.contains('PARKING', na = False),'parking'] = 1\n",
        "fotocasa_df_madrid['parking'].unique()"
      ],
      "metadata": {
        "colab": {
          "base_uri": "https://localhost:8080/"
        },
        "id": "PrU6s8-qVRd4",
        "outputId": "cc6362ea-6cac-4108-8568-587ea875cbc1"
      },
      "execution_count": 168,
      "outputs": [
        {
          "output_type": "execute_result",
          "data": {
            "text/plain": [
              "array([0, 1], dtype=object)"
            ]
          },
          "metadata": {},
          "execution_count": 168
        }
      ]
    },
    {
      "cell_type": "markdown",
      "source": [
        "We take a look at elevator feature"
      ],
      "metadata": {
        "id": "q0p5U58QYSKQ"
      }
    },
    {
      "cell_type": "code",
      "source": [
        "len(fotocasa_df_madrid[fotocasa_df_madrid['elevator'].isna()])"
      ],
      "metadata": {
        "colab": {
          "base_uri": "https://localhost:8080/"
        },
        "id": "yS1qpyjhHzdh",
        "outputId": "bcc34673-c2ba-471a-f03f-d2ba14a1a22a"
      },
      "execution_count": 169,
      "outputs": [
        {
          "output_type": "execute_result",
          "data": {
            "text/plain": [
              "1776"
            ]
          },
          "metadata": {},
          "execution_count": 169
        }
      ]
    },
    {
      "cell_type": "code",
      "source": [
        "fotocasa_df_madrid['elevator'].unique()"
      ],
      "metadata": {
        "colab": {
          "base_uri": "https://localhost:8080/"
        },
        "id": "d4WgmvdzYWFN",
        "outputId": "38577748-9ec6-46ad-b2aa-fc7c863dfd0a"
      },
      "execution_count": 170,
      "outputs": [
        {
          "output_type": "execute_result",
          "data": {
            "text/plain": [
              "array(['YES', nan], dtype=object)"
            ]
          },
          "metadata": {},
          "execution_count": 170
        }
      ]
    },
    {
      "cell_type": "code",
      "source": [
        "idealista_df['hasLift'].unique()"
      ],
      "metadata": {
        "colab": {
          "base_uri": "https://localhost:8080/"
        },
        "id": "_d-6qDJnYaBh",
        "outputId": "55c45749-f053-4d12-9d2a-0e5f77cc1800"
      },
      "execution_count": 171,
      "outputs": [
        {
          "output_type": "execute_result",
          "data": {
            "text/plain": [
              "array([ 1.,  0., nan])"
            ]
          },
          "metadata": {},
          "execution_count": 171
        }
      ]
    },
    {
      "cell_type": "code",
      "source": [
        "fotocasa_df_madrid.loc[fotocasa_df_madrid['elevator'].isna(),'elevator'] = 0\n",
        "fotocasa_df_madrid.loc[fotocasa_df_madrid['elevator'].str.contains('YES', na = False),'elevator'] = 1\n",
        "fotocasa_df_madrid['elevator'].unique()"
      ],
      "metadata": {
        "colab": {
          "base_uri": "https://localhost:8080/"
        },
        "id": "uzx0bimVYlKa",
        "outputId": "01ffa24e-6d91-4986-ba5f-7c2cb0d56889"
      },
      "execution_count": 172,
      "outputs": [
        {
          "output_type": "execute_result",
          "data": {
            "text/plain": [
              "array([1, 0], dtype=object)"
            ]
          },
          "metadata": {},
          "execution_count": 172
        }
      ]
    },
    {
      "cell_type": "markdown",
      "source": [
        "We take a look heating feature"
      ],
      "metadata": {
        "id": "BvrwKNE6Y3mU"
      }
    },
    {
      "cell_type": "code",
      "source": [
        "len(fotocasa_df_madrid[fotocasa_df_madrid['heating'].isna()])"
      ],
      "metadata": {
        "colab": {
          "base_uri": "https://localhost:8080/"
        },
        "id": "iGFFNChZIOdK",
        "outputId": "c93be247-8dcc-42d7-de42-2d48241386fe"
      },
      "execution_count": 173,
      "outputs": [
        {
          "output_type": "execute_result",
          "data": {
            "text/plain": [
              "5997"
            ]
          },
          "metadata": {},
          "execution_count": 173
        }
      ]
    },
    {
      "cell_type": "code",
      "source": [
        "fotocasa_df_madrid['heating'].unique()"
      ],
      "metadata": {
        "colab": {
          "base_uri": "https://localhost:8080/"
        },
        "id": "qGtF_O9kY6XJ",
        "outputId": "abccbd8e-f04e-4977-fc63-25cbb8e13b6b"
      },
      "execution_count": 174,
      "outputs": [
        {
          "output_type": "execute_result",
          "data": {
            "text/plain": [
              "array([nan, 'Gas Natural', 'Electricidad', 'Gasóleo', 'Solar', 'Propano'],\n",
              "      dtype=object)"
            ]
          },
          "metadata": {},
          "execution_count": 174
        }
      ]
    },
    {
      "cell_type": "code",
      "source": [
        "idealista_df['heatingType'].unique()"
      ],
      "metadata": {
        "colab": {
          "base_uri": "https://localhost:8080/"
        },
        "id": "5vWFpKHHY-fK",
        "outputId": "ec0dd5cc-61a5-402d-f40d-3986ee5def6d"
      },
      "execution_count": 175,
      "outputs": [
        {
          "output_type": "execute_result",
          "data": {
            "text/plain": [
              "array(['Calefacción individual: Gas natural', 'no info',\n",
              "       'Calefacción individual: Eléctrica', 'Calefacción central',\n",
              "       'No dispone de calefacción', 'Calefacción central: Gas',\n",
              "       'Calefacción individual', 'Calefacción central: Gasoil',\n",
              "       'Calefacción individual: Bomba de frío/calor',\n",
              "       'Calefacción individual: Gas propano/butano',\n",
              "       'Calefacción central: Gas natural', 'Calefacción individual: Gas',\n",
              "       'Calefacción central: Gas propano/butano',\n",
              "       'Calefacción individual: Gasoil'], dtype=object)"
            ]
          },
          "metadata": {},
          "execution_count": 175
        }
      ]
    },
    {
      "cell_type": "code",
      "source": [
        "fotocasa_df_madrid.loc[fotocasa_df_madrid['heating'].isna(),'heating'] = 'no info'\n",
        "fotocasa_df_madrid.loc[fotocasa_df_madrid['heating'] == 'Gas Natural','heating'] = 'Calefacción central: Gas natural'\n",
        "fotocasa_df_madrid.loc[fotocasa_df_madrid['heating'] == 'Electricidad','heating'] = 'Calefacción individual: Eléctrica'\n",
        "fotocasa_df_madrid.loc[fotocasa_df_madrid['heating'] == 'Gasóleo','heating'] = 'Calefacción individual: Gasoil'\n",
        "fotocasa_df_madrid.loc[fotocasa_df_madrid['heating'] == 'Propano','heating'] = 'Calefacción central: Gas propano/butano'"
      ],
      "metadata": {
        "id": "B7s9EoqsZ_ZZ"
      },
      "execution_count": 176,
      "outputs": []
    },
    {
      "cell_type": "code",
      "source": [
        "fotocasa_df_madrid['heating'].unique()"
      ],
      "metadata": {
        "colab": {
          "base_uri": "https://localhost:8080/"
        },
        "id": "RwWHQ7u3a0Kq",
        "outputId": "2e74e194-84a1-4c86-965d-51a2ebd4fb07"
      },
      "execution_count": 177,
      "outputs": [
        {
          "output_type": "execute_result",
          "data": {
            "text/plain": [
              "array(['no info', 'Calefacción central: Gas natural',\n",
              "       'Calefacción individual: Eléctrica',\n",
              "       'Calefacción individual: Gasoil', 'Solar',\n",
              "       'Calefacción central: Gas propano/butano'], dtype=object)"
            ]
          },
          "metadata": {},
          "execution_count": 177
        }
      ]
    },
    {
      "cell_type": "code",
      "source": [
        "fotocasa_df_madrid.loc[:,'heating'] = fotocasa_df_madrid['heating'].str.replace(r'^Calefacci[óo]n.*:.','', regex=True)\n",
        "fotocasa_df_madrid['heating'].unique()"
      ],
      "metadata": {
        "colab": {
          "base_uri": "https://localhost:8080/"
        },
        "id": "ZQieDyb72grR",
        "outputId": "fcf132f0-78dc-4fce-e6f7-1542ed405169"
      },
      "execution_count": 178,
      "outputs": [
        {
          "output_type": "execute_result",
          "data": {
            "text/plain": [
              "array(['no info', 'Gas natural', 'Eléctrica', 'Gasoil', 'Solar',\n",
              "       'Gas propano/butano'], dtype=object)"
            ]
          },
          "metadata": {},
          "execution_count": 178
        }
      ]
    },
    {
      "cell_type": "code",
      "source": [
        "idealista_df.loc[:,'heatingType'] = idealista_df['heatingType'].str.replace(r'^Calefacci[óo]n.*:.','', regex=True)\n",
        "idealista_df['heatingType'].unique()"
      ],
      "metadata": {
        "colab": {
          "base_uri": "https://localhost:8080/"
        },
        "id": "U12k9l8h4LD6",
        "outputId": "878cf10b-5471-4d44-f9c4-bef02bc2117c"
      },
      "execution_count": 194,
      "outputs": [
        {
          "output_type": "execute_result",
          "data": {
            "text/plain": [
              "array(['Gas natural', 'no info', 'Eléctrica', 'Calefacción central',\n",
              "       'No dispone de calefacción', 'Gas', 'Calefacción individual',\n",
              "       'Gasoil', 'Bomba de frío/calor', 'Gas propano/butano'],\n",
              "      dtype=object)"
            ]
          },
          "metadata": {},
          "execution_count": 194
        }
      ]
    },
    {
      "cell_type": "code",
      "source": [
        "idealista_df.loc[idealista_df['heatingType'].str.contains('Calefacción central|Calefacción individual', regex = True),'heatingType'] = 'no info'\n",
        "idealista_df['heatingType'].unique()"
      ],
      "metadata": {
        "colab": {
          "base_uri": "https://localhost:8080/"
        },
        "id": "9Uy-Ucrn9DWp",
        "outputId": "b7d40232-b691-4fab-ae26-56372a6d3255"
      },
      "execution_count": 196,
      "outputs": [
        {
          "output_type": "execute_result",
          "data": {
            "text/plain": [
              "array(['Gas natural', 'no info', 'Eléctrica', 'No dispone de calefacción',\n",
              "       'Gas', 'Gasoil', 'Bomba de frío/calor', 'Gas propano/butano'],\n",
              "      dtype=object)"
            ]
          },
          "metadata": {},
          "execution_count": 196
        }
      ]
    },
    {
      "cell_type": "markdown",
      "source": [
        "The two datasets are quite different. Fotocasa dataset is arguably the most complete an detailed. Still, there are several information we do not really need.\n",
        "\n",
        "For example, since the project is geographically limited to Madrid area, we do not need several geolocation features that fotocasa provides"
      ],
      "metadata": {
        "id": "IL7mu4rI-0en"
      }
    },
    {
      "cell_type": "code",
      "source": [
        "fotocasa_df_madrid.columns"
      ],
      "metadata": {
        "colab": {
          "base_uri": "https://localhost:8080/"
        },
        "id": "UgOl3CRTbfQI",
        "outputId": "c4021607-cf3b-4fd9-ac31-9f104aec36f4"
      },
      "execution_count": 181,
      "outputs": [
        {
          "output_type": "execute_result",
          "data": {
            "text/plain": [
              "Index(['origin', 'page', 'title', 'link', 'image_url', 'country', 'district',\n",
              "       'neighborhood', 'street', 'zipCode', 'province', 'buildingType',\n",
              "       'clientAlias', 'latitude', 'longitude', 'isNewConstruction', 'rooms',\n",
              "       'bathrooms', 'parking', 'elevator', 'furnished', 'surface',\n",
              "       'energyCertificate', 'hotWater', 'heating', 'conservationState',\n",
              "       'antiquity', 'floor', 'surfaceLand', 'otherFeatures', 'price',\n",
              "       'hasSwimmingPool', 'hasGarden', 'hasTerrace', 'id', 'size',\n",
              "       'isGoodCondition', 'isNeedsRenovating'],\n",
              "      dtype='object')"
            ]
          },
          "metadata": {},
          "execution_count": 181
        }
      ]
    },
    {
      "cell_type": "code",
      "source": [
        "fotocasa_df_clean = fotocasa_df_madrid.drop([\n",
        "    'page',\n",
        "    'title',\n",
        "    'link',\n",
        "    'image_url',\n",
        "    'country',\n",
        "    'neighborhood',\n",
        "    'street',\n",
        "    'zipCode',\n",
        "    'province',\n",
        "    'clientAlias',\n",
        "    'latitude',\n",
        "    'longitude',\n",
        "    'furnished',\n",
        "    'surface',\n",
        "    'energyCertificate',\n",
        "    'hotWater',\n",
        "    'conservationState',\n",
        "    'antiquity',\n",
        "    'surfaceLand',\n",
        "    'otherFeatures'\n",
        "    ],axis=1)"
      ],
      "metadata": {
        "id": "UMn_C2pb-Xi_"
      },
      "execution_count": 197,
      "outputs": []
    },
    {
      "cell_type": "code",
      "source": [
        "idealista_df.columns"
      ],
      "metadata": {
        "colab": {
          "base_uri": "https://localhost:8080/"
        },
        "id": "-rcMgE_EbiuF",
        "outputId": "565b81a7-4356-4f4b-e621-a50ceffe6b13"
      },
      "execution_count": 198,
      "outputs": [
        {
          "output_type": "execute_result",
          "data": {
            "text/plain": [
              "Index(['id', 'propertyType', 'title', 'locationId', 'price', 'size',\n",
              "       'hasParking', 'roomNumber', 'bathNumber', 'hasSwimmingPool',\n",
              "       'hasTerrace', 'hasGarden', 'hasLift', 'isGoodCondition',\n",
              "       'isNeedsRenovating', 'isNewDevelopment', 'featureTags', 'heatingType',\n",
              "       'interiorExterior', 'floor', 'area_name', 'origin'],\n",
              "      dtype='object')"
            ]
          },
          "metadata": {},
          "execution_count": 198
        }
      ]
    },
    {
      "cell_type": "code",
      "source": [
        "idealista_df_clean = idealista_df.drop([\n",
        "    'title',\n",
        "    'locationId',\n",
        "    'interiorExterior',\n",
        "    'featureTags'\n",
        "],axis=1)"
      ],
      "metadata": {
        "id": "yOzHZsjdabD3"
      },
      "execution_count": 199,
      "outputs": []
    },
    {
      "cell_type": "code",
      "source": [
        "len(fotocasa_df_clean.columns)"
      ],
      "metadata": {
        "colab": {
          "base_uri": "https://localhost:8080/"
        },
        "id": "SZbNii4VaxEN",
        "outputId": "172586dc-7696-4c1c-c075-78c6178642dd"
      },
      "execution_count": 200,
      "outputs": [
        {
          "output_type": "execute_result",
          "data": {
            "text/plain": [
              "18"
            ]
          },
          "metadata": {},
          "execution_count": 200
        }
      ]
    },
    {
      "cell_type": "code",
      "source": [
        "len(idealista_df_clean.columns)"
      ],
      "metadata": {
        "colab": {
          "base_uri": "https://localhost:8080/"
        },
        "id": "MllA16wra3t-",
        "outputId": "eb2228b1-a6f4-4bd0-f53d-0f42ba4cee98"
      },
      "execution_count": 201,
      "outputs": [
        {
          "output_type": "execute_result",
          "data": {
            "text/plain": [
              "18"
            ]
          },
          "metadata": {},
          "execution_count": 201
        }
      ]
    },
    {
      "cell_type": "code",
      "source": [
        "idealista_df_clean.head()"
      ],
      "metadata": {
        "colab": {
          "base_uri": "https://localhost:8080/",
          "height": 206
        },
        "id": "CmXcQ-0bbMZo",
        "outputId": "65cd19b1-c0de-4263-82cc-39577283ad60"
      },
      "execution_count": 202,
      "outputs": [
        {
          "output_type": "execute_result",
          "data": {
            "text/plain": [
              "           id propertyType     price   size  hasParking  roomNumber  \\\n",
              "0  98255270.0         piso  995000.0  179.0         0.0         4.0   \n",
              "1  94343260.0         piso   99000.0   56.0         0.0         3.0   \n",
              "2  98119783.0         piso  425000.0   31.0         0.0         2.0   \n",
              "3  97132927.0         piso  136000.0   55.0         0.0         2.0   \n",
              "4  97611862.0         piso  574300.0   94.0         0.0         4.0   \n",
              "\n",
              "   bathNumber  hasSwimmingPool  hasTerrace  hasGarden  hasLift  \\\n",
              "0         5.0              0.0         0.0        0.0      1.0   \n",
              "1         1.0              0.0         0.0        0.0      0.0   \n",
              "2         1.0              0.0         0.0        0.0      1.0   \n",
              "3         1.0              0.0         0.0        0.0      0.0   \n",
              "4         1.0              0.0         0.0        0.0      1.0   \n",
              "\n",
              "   isGoodCondition  isNeedsRenovating  isNewDevelopment  heatingType  \\\n",
              "0              1.0                0.0               0.0  Gas natural   \n",
              "1              1.0                0.0               0.0      no info   \n",
              "2              1.0                0.0               0.0      no info   \n",
              "3              1.0                0.0               0.0    Eléctrica   \n",
              "4              1.0                0.0               0.0      no info   \n",
              "\n",
              "       floor            area_name     origin  \n",
              "0  planta 1ª               Tetuán  idealista  \n",
              "1    no info   Puente de Vallecas  idealista  \n",
              "2  planta 5ª               Centro  idealista  \n",
              "3  planta 3ª   Puente de Vallecas  idealista  \n",
              "4  planta 4ª  Barrio de Salamanca  idealista  "
            ],
            "text/html": [
              "\n",
              "  <div id=\"df-2021ea0b-9b83-4160-8ddc-0362426c5d3b\">\n",
              "    <div class=\"colab-df-container\">\n",
              "      <div>\n",
              "<style scoped>\n",
              "    .dataframe tbody tr th:only-of-type {\n",
              "        vertical-align: middle;\n",
              "    }\n",
              "\n",
              "    .dataframe tbody tr th {\n",
              "        vertical-align: top;\n",
              "    }\n",
              "\n",
              "    .dataframe thead th {\n",
              "        text-align: right;\n",
              "    }\n",
              "</style>\n",
              "<table border=\"1\" class=\"dataframe\">\n",
              "  <thead>\n",
              "    <tr style=\"text-align: right;\">\n",
              "      <th></th>\n",
              "      <th>id</th>\n",
              "      <th>propertyType</th>\n",
              "      <th>price</th>\n",
              "      <th>size</th>\n",
              "      <th>hasParking</th>\n",
              "      <th>roomNumber</th>\n",
              "      <th>bathNumber</th>\n",
              "      <th>hasSwimmingPool</th>\n",
              "      <th>hasTerrace</th>\n",
              "      <th>hasGarden</th>\n",
              "      <th>hasLift</th>\n",
              "      <th>isGoodCondition</th>\n",
              "      <th>isNeedsRenovating</th>\n",
              "      <th>isNewDevelopment</th>\n",
              "      <th>heatingType</th>\n",
              "      <th>floor</th>\n",
              "      <th>area_name</th>\n",
              "      <th>origin</th>\n",
              "    </tr>\n",
              "  </thead>\n",
              "  <tbody>\n",
              "    <tr>\n",
              "      <th>0</th>\n",
              "      <td>98255270.0</td>\n",
              "      <td>piso</td>\n",
              "      <td>995000.0</td>\n",
              "      <td>179.0</td>\n",
              "      <td>0.0</td>\n",
              "      <td>4.0</td>\n",
              "      <td>5.0</td>\n",
              "      <td>0.0</td>\n",
              "      <td>0.0</td>\n",
              "      <td>0.0</td>\n",
              "      <td>1.0</td>\n",
              "      <td>1.0</td>\n",
              "      <td>0.0</td>\n",
              "      <td>0.0</td>\n",
              "      <td>Gas natural</td>\n",
              "      <td>planta 1ª</td>\n",
              "      <td>Tetuán</td>\n",
              "      <td>idealista</td>\n",
              "    </tr>\n",
              "    <tr>\n",
              "      <th>1</th>\n",
              "      <td>94343260.0</td>\n",
              "      <td>piso</td>\n",
              "      <td>99000.0</td>\n",
              "      <td>56.0</td>\n",
              "      <td>0.0</td>\n",
              "      <td>3.0</td>\n",
              "      <td>1.0</td>\n",
              "      <td>0.0</td>\n",
              "      <td>0.0</td>\n",
              "      <td>0.0</td>\n",
              "      <td>0.0</td>\n",
              "      <td>1.0</td>\n",
              "      <td>0.0</td>\n",
              "      <td>0.0</td>\n",
              "      <td>no info</td>\n",
              "      <td>no info</td>\n",
              "      <td>Puente de Vallecas</td>\n",
              "      <td>idealista</td>\n",
              "    </tr>\n",
              "    <tr>\n",
              "      <th>2</th>\n",
              "      <td>98119783.0</td>\n",
              "      <td>piso</td>\n",
              "      <td>425000.0</td>\n",
              "      <td>31.0</td>\n",
              "      <td>0.0</td>\n",
              "      <td>2.0</td>\n",
              "      <td>1.0</td>\n",
              "      <td>0.0</td>\n",
              "      <td>0.0</td>\n",
              "      <td>0.0</td>\n",
              "      <td>1.0</td>\n",
              "      <td>1.0</td>\n",
              "      <td>0.0</td>\n",
              "      <td>0.0</td>\n",
              "      <td>no info</td>\n",
              "      <td>planta 5ª</td>\n",
              "      <td>Centro</td>\n",
              "      <td>idealista</td>\n",
              "    </tr>\n",
              "    <tr>\n",
              "      <th>3</th>\n",
              "      <td>97132927.0</td>\n",
              "      <td>piso</td>\n",
              "      <td>136000.0</td>\n",
              "      <td>55.0</td>\n",
              "      <td>0.0</td>\n",
              "      <td>2.0</td>\n",
              "      <td>1.0</td>\n",
              "      <td>0.0</td>\n",
              "      <td>0.0</td>\n",
              "      <td>0.0</td>\n",
              "      <td>0.0</td>\n",
              "      <td>1.0</td>\n",
              "      <td>0.0</td>\n",
              "      <td>0.0</td>\n",
              "      <td>Eléctrica</td>\n",
              "      <td>planta 3ª</td>\n",
              "      <td>Puente de Vallecas</td>\n",
              "      <td>idealista</td>\n",
              "    </tr>\n",
              "    <tr>\n",
              "      <th>4</th>\n",
              "      <td>97611862.0</td>\n",
              "      <td>piso</td>\n",
              "      <td>574300.0</td>\n",
              "      <td>94.0</td>\n",
              "      <td>0.0</td>\n",
              "      <td>4.0</td>\n",
              "      <td>1.0</td>\n",
              "      <td>0.0</td>\n",
              "      <td>0.0</td>\n",
              "      <td>0.0</td>\n",
              "      <td>1.0</td>\n",
              "      <td>1.0</td>\n",
              "      <td>0.0</td>\n",
              "      <td>0.0</td>\n",
              "      <td>no info</td>\n",
              "      <td>planta 4ª</td>\n",
              "      <td>Barrio de Salamanca</td>\n",
              "      <td>idealista</td>\n",
              "    </tr>\n",
              "  </tbody>\n",
              "</table>\n",
              "</div>\n",
              "      <button class=\"colab-df-convert\" onclick=\"convertToInteractive('df-2021ea0b-9b83-4160-8ddc-0362426c5d3b')\"\n",
              "              title=\"Convert this dataframe to an interactive table.\"\n",
              "              style=\"display:none;\">\n",
              "        \n",
              "  <svg xmlns=\"http://www.w3.org/2000/svg\" height=\"24px\"viewBox=\"0 0 24 24\"\n",
              "       width=\"24px\">\n",
              "    <path d=\"M0 0h24v24H0V0z\" fill=\"none\"/>\n",
              "    <path d=\"M18.56 5.44l.94 2.06.94-2.06 2.06-.94-2.06-.94-.94-2.06-.94 2.06-2.06.94zm-11 1L8.5 8.5l.94-2.06 2.06-.94-2.06-.94L8.5 2.5l-.94 2.06-2.06.94zm10 10l.94 2.06.94-2.06 2.06-.94-2.06-.94-.94-2.06-.94 2.06-2.06.94z\"/><path d=\"M17.41 7.96l-1.37-1.37c-.4-.4-.92-.59-1.43-.59-.52 0-1.04.2-1.43.59L10.3 9.45l-7.72 7.72c-.78.78-.78 2.05 0 2.83L4 21.41c.39.39.9.59 1.41.59.51 0 1.02-.2 1.41-.59l7.78-7.78 2.81-2.81c.8-.78.8-2.07 0-2.86zM5.41 20L4 18.59l7.72-7.72 1.47 1.35L5.41 20z\"/>\n",
              "  </svg>\n",
              "      </button>\n",
              "      \n",
              "  <style>\n",
              "    .colab-df-container {\n",
              "      display:flex;\n",
              "      flex-wrap:wrap;\n",
              "      gap: 12px;\n",
              "    }\n",
              "\n",
              "    .colab-df-convert {\n",
              "      background-color: #E8F0FE;\n",
              "      border: none;\n",
              "      border-radius: 50%;\n",
              "      cursor: pointer;\n",
              "      display: none;\n",
              "      fill: #1967D2;\n",
              "      height: 32px;\n",
              "      padding: 0 0 0 0;\n",
              "      width: 32px;\n",
              "    }\n",
              "\n",
              "    .colab-df-convert:hover {\n",
              "      background-color: #E2EBFA;\n",
              "      box-shadow: 0px 1px 2px rgba(60, 64, 67, 0.3), 0px 1px 3px 1px rgba(60, 64, 67, 0.15);\n",
              "      fill: #174EA6;\n",
              "    }\n",
              "\n",
              "    [theme=dark] .colab-df-convert {\n",
              "      background-color: #3B4455;\n",
              "      fill: #D2E3FC;\n",
              "    }\n",
              "\n",
              "    [theme=dark] .colab-df-convert:hover {\n",
              "      background-color: #434B5C;\n",
              "      box-shadow: 0px 1px 3px 1px rgba(0, 0, 0, 0.15);\n",
              "      filter: drop-shadow(0px 1px 2px rgba(0, 0, 0, 0.3));\n",
              "      fill: #FFFFFF;\n",
              "    }\n",
              "  </style>\n",
              "\n",
              "      <script>\n",
              "        const buttonEl =\n",
              "          document.querySelector('#df-2021ea0b-9b83-4160-8ddc-0362426c5d3b button.colab-df-convert');\n",
              "        buttonEl.style.display =\n",
              "          google.colab.kernel.accessAllowed ? 'block' : 'none';\n",
              "\n",
              "        async function convertToInteractive(key) {\n",
              "          const element = document.querySelector('#df-2021ea0b-9b83-4160-8ddc-0362426c5d3b');\n",
              "          const dataTable =\n",
              "            await google.colab.kernel.invokeFunction('convertToInteractive',\n",
              "                                                     [key], {});\n",
              "          if (!dataTable) return;\n",
              "\n",
              "          const docLinkHtml = 'Like what you see? Visit the ' +\n",
              "            '<a target=\"_blank\" href=https://colab.research.google.com/notebooks/data_table.ipynb>data table notebook</a>'\n",
              "            + ' to learn more about interactive tables.';\n",
              "          element.innerHTML = '';\n",
              "          dataTable['output_type'] = 'display_data';\n",
              "          await google.colab.output.renderOutput(dataTable, element);\n",
              "          const docLink = document.createElement('div');\n",
              "          docLink.innerHTML = docLinkHtml;\n",
              "          element.appendChild(docLink);\n",
              "        }\n",
              "      </script>\n",
              "    </div>\n",
              "  </div>\n",
              "  "
            ]
          },
          "metadata": {},
          "execution_count": 202
        }
      ]
    },
    {
      "cell_type": "markdown",
      "source": [
        "Now both datasets have the same features. It is necessary to make sure all column names match before merging them."
      ],
      "metadata": {
        "id": "F0Ir8rsNcQhH"
      }
    },
    {
      "cell_type": "code",
      "source": [
        "idealista_df_clean['district'] = idealista_df_clean['area_name']\n",
        "idealista_df_clean = idealista_df_clean.drop(['area_name'],axis=1)\n",
        "\n",
        "column_mapper = {\n",
        "    'buildingType': 'propertyType',\n",
        "    'isNewConstruction': 'isNewDevelopment',\n",
        "    'rooms': 'roomNumber',\n",
        "    'bathrooms': 'bathNumber',\n",
        "    'parking': 'hasParking',\n",
        "    'elevator': 'hasLift',\n",
        "    'heating': 'heatingType'\n",
        "}\n",
        "\n",
        "for key,value in column_mapper.items():\n",
        "  fotocasa_df_clean[value] = fotocasa_df_clean[key]\n",
        "\n",
        "fotocasa_df_clean = fotocasa_df_clean.drop(column_mapper.keys(),axis=1)"
      ],
      "metadata": {
        "id": "4FnrNkhScbQ0"
      },
      "execution_count": 203,
      "outputs": []
    },
    {
      "cell_type": "code",
      "source": [
        "df = pd.concat([idealista_df_clean,fotocasa_df_clean])"
      ],
      "metadata": {
        "id": "0ihK8Cu8APV-"
      },
      "execution_count": 337,
      "outputs": []
    },
    {
      "cell_type": "code",
      "source": [
        "df.columns"
      ],
      "metadata": {
        "colab": {
          "base_uri": "https://localhost:8080/"
        },
        "id": "sBh096N0AaKN",
        "outputId": "f3d040ad-4ea0-4f0e-a1c6-4d14b3010cd2"
      },
      "execution_count": 338,
      "outputs": [
        {
          "output_type": "execute_result",
          "data": {
            "text/plain": [
              "Index(['id', 'propertyType', 'price', 'size', 'hasParking', 'roomNumber',\n",
              "       'bathNumber', 'hasSwimmingPool', 'hasTerrace', 'hasGarden', 'hasLift',\n",
              "       'isGoodCondition', 'isNeedsRenovating', 'isNewDevelopment',\n",
              "       'heatingType', 'floor', 'origin', 'district'],\n",
              "      dtype='object')"
            ]
          },
          "metadata": {},
          "execution_count": 338
        }
      ]
    },
    {
      "cell_type": "code",
      "source": [
        "df.sample(20)"
      ],
      "metadata": {
        "colab": {
          "base_uri": "https://localhost:8080/",
          "height": 676
        },
        "id": "_BD2EQEZjPOJ",
        "outputId": "3bed3487-b5fb-4053-c11d-29e8e7922317"
      },
      "execution_count": 339,
      "outputs": [
        {
          "output_type": "execute_result",
          "data": {
            "text/plain": [
              "               id propertyType      price   size hasParking roomNumber  \\\n",
              "9941   98510475.0         piso   137000.0   20.0        0.0        0.0   \n",
              "76      163707826         Flat   114900.0   50.0          0          2   \n",
              "16527   163389966         Flat   720000.0  160.0          1          4   \n",
              "11322   164065380         Flat   448500.0   93.0          0          2   \n",
              "10927  98370273.0         piso   145000.0   40.0        0.0        1.0   \n",
              "3479   97478596.0         piso  2500000.0  463.0        1.0        4.0   \n",
              "10954  98349446.0         piso   250000.0   91.0        1.0        2.0   \n",
              "14777  88544986.0         piso   160000.0   52.0        0.0        2.0   \n",
              "3249    163990374         Flat   339000.0  120.0          1          4   \n",
              "23735   164764395         Flat   220000.0   40.0          0          1   \n",
              "2219   97349568.0         piso   790000.0   94.0        1.0        2.0   \n",
              "12756  97083953.0         piso   790000.0  136.0        1.0        3.0   \n",
              "9771   96165526.0         piso   685000.0   93.0        0.0        3.0   \n",
              "1892   97168611.0         piso   995000.0   75.0        1.0        2.0   \n",
              "3362    163852113         Flat   155000.0   70.0          1          3   \n",
              "29196   163939794         Flat   201000.0   81.0          0          3   \n",
              "779    98372748.0         piso   219900.0   91.0        1.0        3.0   \n",
              "27423   164941726         Flat   280000.0   61.0          0          2   \n",
              "7353   98374645.0         piso   125000.0   25.0        0.0        0.0   \n",
              "8766   98125793.0         piso  2500000.0  200.0        1.0        4.0   \n",
              "\n",
              "      bathNumber  hasSwimmingPool  hasTerrace  hasGarden hasLift  \\\n",
              "9941         1.0              0.0         0.0        0.0     0.0   \n",
              "76             1              0.0         0.0        0.0       0   \n",
              "16527          3              1.0         0.0        0.0       1   \n",
              "11322          3              0.0         0.0        1.0       1   \n",
              "10927        1.0              0.0         0.0        0.0     0.0   \n",
              "3479         5.0              1.0         1.0        1.0     1.0   \n",
              "10954        1.0              1.0         0.0        0.0     1.0   \n",
              "14777        1.0              0.0         0.0        0.0     0.0   \n",
              "3249           2              0.0         0.0        1.0       1   \n",
              "23735          1              0.0         0.0        0.0       1   \n",
              "2219         2.0              0.0         1.0        0.0     1.0   \n",
              "12756        2.0              0.0         0.0        0.0     1.0   \n",
              "9771         3.0              0.0         0.0        0.0     1.0   \n",
              "1892         2.0              0.0         0.0        0.0     1.0   \n",
              "3362           1              0.0         0.0        0.0       1   \n",
              "29196          1              0.0         1.0        0.0       1   \n",
              "779          2.0              0.0         1.0        1.0     1.0   \n",
              "27423          1              0.0         0.0        0.0       1   \n",
              "7353         1.0              0.0         0.0        0.0     0.0   \n",
              "8766         4.0              0.0         0.0        0.0     1.0   \n",
              "\n",
              "       isGoodCondition  isNeedsRenovating isNewDevelopment  heatingType  \\\n",
              "9941               1.0                0.0              0.0    Eléctrica   \n",
              "76                 1.0                0.0            False    Eléctrica   \n",
              "16527              1.0                0.0            False      no info   \n",
              "11322              1.0                0.0            False      no info   \n",
              "10927              1.0                0.0              0.0      no info   \n",
              "3479               1.0                0.0              0.0  Gas natural   \n",
              "10954              0.0                1.0              0.0      no info   \n",
              "14777              1.0                0.0              0.0      no info   \n",
              "3249               1.0                0.0            False      no info   \n",
              "23735              1.0                0.0            False  Gas natural   \n",
              "2219               1.0                0.0              0.0      no info   \n",
              "12756              1.0                0.0              0.0          Gas   \n",
              "9771               1.0                0.0              0.0  Gas natural   \n",
              "1892               1.0                0.0              0.0      no info   \n",
              "3362               1.0                0.0            False  Gas natural   \n",
              "29196              1.0                0.0            False      no info   \n",
              "779                0.0                1.0              0.0  Gas natural   \n",
              "27423              1.0                0.0            False  Gas natural   \n",
              "7353               1.0                0.0              0.0      no info   \n",
              "8766               1.0                0.0              0.0      no info   \n",
              "\n",
              "           floor     origin             district  \n",
              "9941        bajo  idealista               Centro  \n",
              "76             3   fotocasa   Puente de Vallecas  \n",
              "16527          0   fotocasa               Retiro  \n",
              "11322          0   fotocasa               Centro  \n",
              "10927       bajo  idealista        Ciudad Lineal  \n",
              "3479   planta 1ª  idealista            Chamartín  \n",
              "10954       bajo  idealista               Tetuán  \n",
              "14777    no info  idealista               Tetuán  \n",
              "3249           0   fotocasa          Carabanchel  \n",
              "23735          5   fotocasa               Tetuán  \n",
              "2219   planta 4ª  idealista  Barrio de Salamanca  \n",
              "12756  planta 4ª  idealista               Tetuán  \n",
              "9771   planta 1ª  idealista               Centro  \n",
              "1892   planta 4ª  idealista  Barrio de Salamanca  \n",
              "3362           7   fotocasa               Latina  \n",
              "29196          0   fotocasa   Puente de Vallecas  \n",
              "779    planta 2ª  idealista    Villa de Vallecas  \n",
              "27423         11   fotocasa           Arganzuela  \n",
              "7353        bajo  idealista           Arganzuela  \n",
              "8766   planta 5ª  idealista  Barrio de Salamanca  "
            ],
            "text/html": [
              "\n",
              "  <div id=\"df-9e0887e7-ee99-4efb-8831-10b6e8dcbfdf\">\n",
              "    <div class=\"colab-df-container\">\n",
              "      <div>\n",
              "<style scoped>\n",
              "    .dataframe tbody tr th:only-of-type {\n",
              "        vertical-align: middle;\n",
              "    }\n",
              "\n",
              "    .dataframe tbody tr th {\n",
              "        vertical-align: top;\n",
              "    }\n",
              "\n",
              "    .dataframe thead th {\n",
              "        text-align: right;\n",
              "    }\n",
              "</style>\n",
              "<table border=\"1\" class=\"dataframe\">\n",
              "  <thead>\n",
              "    <tr style=\"text-align: right;\">\n",
              "      <th></th>\n",
              "      <th>id</th>\n",
              "      <th>propertyType</th>\n",
              "      <th>price</th>\n",
              "      <th>size</th>\n",
              "      <th>hasParking</th>\n",
              "      <th>roomNumber</th>\n",
              "      <th>bathNumber</th>\n",
              "      <th>hasSwimmingPool</th>\n",
              "      <th>hasTerrace</th>\n",
              "      <th>hasGarden</th>\n",
              "      <th>hasLift</th>\n",
              "      <th>isGoodCondition</th>\n",
              "      <th>isNeedsRenovating</th>\n",
              "      <th>isNewDevelopment</th>\n",
              "      <th>heatingType</th>\n",
              "      <th>floor</th>\n",
              "      <th>origin</th>\n",
              "      <th>district</th>\n",
              "    </tr>\n",
              "  </thead>\n",
              "  <tbody>\n",
              "    <tr>\n",
              "      <th>9941</th>\n",
              "      <td>98510475.0</td>\n",
              "      <td>piso</td>\n",
              "      <td>137000.0</td>\n",
              "      <td>20.0</td>\n",
              "      <td>0.0</td>\n",
              "      <td>0.0</td>\n",
              "      <td>1.0</td>\n",
              "      <td>0.0</td>\n",
              "      <td>0.0</td>\n",
              "      <td>0.0</td>\n",
              "      <td>0.0</td>\n",
              "      <td>1.0</td>\n",
              "      <td>0.0</td>\n",
              "      <td>0.0</td>\n",
              "      <td>Eléctrica</td>\n",
              "      <td>bajo</td>\n",
              "      <td>idealista</td>\n",
              "      <td>Centro</td>\n",
              "    </tr>\n",
              "    <tr>\n",
              "      <th>76</th>\n",
              "      <td>163707826</td>\n",
              "      <td>Flat</td>\n",
              "      <td>114900.0</td>\n",
              "      <td>50.0</td>\n",
              "      <td>0</td>\n",
              "      <td>2</td>\n",
              "      <td>1</td>\n",
              "      <td>0.0</td>\n",
              "      <td>0.0</td>\n",
              "      <td>0.0</td>\n",
              "      <td>0</td>\n",
              "      <td>1.0</td>\n",
              "      <td>0.0</td>\n",
              "      <td>False</td>\n",
              "      <td>Eléctrica</td>\n",
              "      <td>3</td>\n",
              "      <td>fotocasa</td>\n",
              "      <td>Puente de Vallecas</td>\n",
              "    </tr>\n",
              "    <tr>\n",
              "      <th>16527</th>\n",
              "      <td>163389966</td>\n",
              "      <td>Flat</td>\n",
              "      <td>720000.0</td>\n",
              "      <td>160.0</td>\n",
              "      <td>1</td>\n",
              "      <td>4</td>\n",
              "      <td>3</td>\n",
              "      <td>1.0</td>\n",
              "      <td>0.0</td>\n",
              "      <td>0.0</td>\n",
              "      <td>1</td>\n",
              "      <td>1.0</td>\n",
              "      <td>0.0</td>\n",
              "      <td>False</td>\n",
              "      <td>no info</td>\n",
              "      <td>0</td>\n",
              "      <td>fotocasa</td>\n",
              "      <td>Retiro</td>\n",
              "    </tr>\n",
              "    <tr>\n",
              "      <th>11322</th>\n",
              "      <td>164065380</td>\n",
              "      <td>Flat</td>\n",
              "      <td>448500.0</td>\n",
              "      <td>93.0</td>\n",
              "      <td>0</td>\n",
              "      <td>2</td>\n",
              "      <td>3</td>\n",
              "      <td>0.0</td>\n",
              "      <td>0.0</td>\n",
              "      <td>1.0</td>\n",
              "      <td>1</td>\n",
              "      <td>1.0</td>\n",
              "      <td>0.0</td>\n",
              "      <td>False</td>\n",
              "      <td>no info</td>\n",
              "      <td>0</td>\n",
              "      <td>fotocasa</td>\n",
              "      <td>Centro</td>\n",
              "    </tr>\n",
              "    <tr>\n",
              "      <th>10927</th>\n",
              "      <td>98370273.0</td>\n",
              "      <td>piso</td>\n",
              "      <td>145000.0</td>\n",
              "      <td>40.0</td>\n",
              "      <td>0.0</td>\n",
              "      <td>1.0</td>\n",
              "      <td>1.0</td>\n",
              "      <td>0.0</td>\n",
              "      <td>0.0</td>\n",
              "      <td>0.0</td>\n",
              "      <td>0.0</td>\n",
              "      <td>1.0</td>\n",
              "      <td>0.0</td>\n",
              "      <td>0.0</td>\n",
              "      <td>no info</td>\n",
              "      <td>bajo</td>\n",
              "      <td>idealista</td>\n",
              "      <td>Ciudad Lineal</td>\n",
              "    </tr>\n",
              "    <tr>\n",
              "      <th>3479</th>\n",
              "      <td>97478596.0</td>\n",
              "      <td>piso</td>\n",
              "      <td>2500000.0</td>\n",
              "      <td>463.0</td>\n",
              "      <td>1.0</td>\n",
              "      <td>4.0</td>\n",
              "      <td>5.0</td>\n",
              "      <td>1.0</td>\n",
              "      <td>1.0</td>\n",
              "      <td>1.0</td>\n",
              "      <td>1.0</td>\n",
              "      <td>1.0</td>\n",
              "      <td>0.0</td>\n",
              "      <td>0.0</td>\n",
              "      <td>Gas natural</td>\n",
              "      <td>planta 1ª</td>\n",
              "      <td>idealista</td>\n",
              "      <td>Chamartín</td>\n",
              "    </tr>\n",
              "    <tr>\n",
              "      <th>10954</th>\n",
              "      <td>98349446.0</td>\n",
              "      <td>piso</td>\n",
              "      <td>250000.0</td>\n",
              "      <td>91.0</td>\n",
              "      <td>1.0</td>\n",
              "      <td>2.0</td>\n",
              "      <td>1.0</td>\n",
              "      <td>1.0</td>\n",
              "      <td>0.0</td>\n",
              "      <td>0.0</td>\n",
              "      <td>1.0</td>\n",
              "      <td>0.0</td>\n",
              "      <td>1.0</td>\n",
              "      <td>0.0</td>\n",
              "      <td>no info</td>\n",
              "      <td>bajo</td>\n",
              "      <td>idealista</td>\n",
              "      <td>Tetuán</td>\n",
              "    </tr>\n",
              "    <tr>\n",
              "      <th>14777</th>\n",
              "      <td>88544986.0</td>\n",
              "      <td>piso</td>\n",
              "      <td>160000.0</td>\n",
              "      <td>52.0</td>\n",
              "      <td>0.0</td>\n",
              "      <td>2.0</td>\n",
              "      <td>1.0</td>\n",
              "      <td>0.0</td>\n",
              "      <td>0.0</td>\n",
              "      <td>0.0</td>\n",
              "      <td>0.0</td>\n",
              "      <td>1.0</td>\n",
              "      <td>0.0</td>\n",
              "      <td>0.0</td>\n",
              "      <td>no info</td>\n",
              "      <td>no info</td>\n",
              "      <td>idealista</td>\n",
              "      <td>Tetuán</td>\n",
              "    </tr>\n",
              "    <tr>\n",
              "      <th>3249</th>\n",
              "      <td>163990374</td>\n",
              "      <td>Flat</td>\n",
              "      <td>339000.0</td>\n",
              "      <td>120.0</td>\n",
              "      <td>1</td>\n",
              "      <td>4</td>\n",
              "      <td>2</td>\n",
              "      <td>0.0</td>\n",
              "      <td>0.0</td>\n",
              "      <td>1.0</td>\n",
              "      <td>1</td>\n",
              "      <td>1.0</td>\n",
              "      <td>0.0</td>\n",
              "      <td>False</td>\n",
              "      <td>no info</td>\n",
              "      <td>0</td>\n",
              "      <td>fotocasa</td>\n",
              "      <td>Carabanchel</td>\n",
              "    </tr>\n",
              "    <tr>\n",
              "      <th>23735</th>\n",
              "      <td>164764395</td>\n",
              "      <td>Flat</td>\n",
              "      <td>220000.0</td>\n",
              "      <td>40.0</td>\n",
              "      <td>0</td>\n",
              "      <td>1</td>\n",
              "      <td>1</td>\n",
              "      <td>0.0</td>\n",
              "      <td>0.0</td>\n",
              "      <td>0.0</td>\n",
              "      <td>1</td>\n",
              "      <td>1.0</td>\n",
              "      <td>0.0</td>\n",
              "      <td>False</td>\n",
              "      <td>Gas natural</td>\n",
              "      <td>5</td>\n",
              "      <td>fotocasa</td>\n",
              "      <td>Tetuán</td>\n",
              "    </tr>\n",
              "    <tr>\n",
              "      <th>2219</th>\n",
              "      <td>97349568.0</td>\n",
              "      <td>piso</td>\n",
              "      <td>790000.0</td>\n",
              "      <td>94.0</td>\n",
              "      <td>1.0</td>\n",
              "      <td>2.0</td>\n",
              "      <td>2.0</td>\n",
              "      <td>0.0</td>\n",
              "      <td>1.0</td>\n",
              "      <td>0.0</td>\n",
              "      <td>1.0</td>\n",
              "      <td>1.0</td>\n",
              "      <td>0.0</td>\n",
              "      <td>0.0</td>\n",
              "      <td>no info</td>\n",
              "      <td>planta 4ª</td>\n",
              "      <td>idealista</td>\n",
              "      <td>Barrio de Salamanca</td>\n",
              "    </tr>\n",
              "    <tr>\n",
              "      <th>12756</th>\n",
              "      <td>97083953.0</td>\n",
              "      <td>piso</td>\n",
              "      <td>790000.0</td>\n",
              "      <td>136.0</td>\n",
              "      <td>1.0</td>\n",
              "      <td>3.0</td>\n",
              "      <td>2.0</td>\n",
              "      <td>0.0</td>\n",
              "      <td>0.0</td>\n",
              "      <td>0.0</td>\n",
              "      <td>1.0</td>\n",
              "      <td>1.0</td>\n",
              "      <td>0.0</td>\n",
              "      <td>0.0</td>\n",
              "      <td>Gas</td>\n",
              "      <td>planta 4ª</td>\n",
              "      <td>idealista</td>\n",
              "      <td>Tetuán</td>\n",
              "    </tr>\n",
              "    <tr>\n",
              "      <th>9771</th>\n",
              "      <td>96165526.0</td>\n",
              "      <td>piso</td>\n",
              "      <td>685000.0</td>\n",
              "      <td>93.0</td>\n",
              "      <td>0.0</td>\n",
              "      <td>3.0</td>\n",
              "      <td>3.0</td>\n",
              "      <td>0.0</td>\n",
              "      <td>0.0</td>\n",
              "      <td>0.0</td>\n",
              "      <td>1.0</td>\n",
              "      <td>1.0</td>\n",
              "      <td>0.0</td>\n",
              "      <td>0.0</td>\n",
              "      <td>Gas natural</td>\n",
              "      <td>planta 1ª</td>\n",
              "      <td>idealista</td>\n",
              "      <td>Centro</td>\n",
              "    </tr>\n",
              "    <tr>\n",
              "      <th>1892</th>\n",
              "      <td>97168611.0</td>\n",
              "      <td>piso</td>\n",
              "      <td>995000.0</td>\n",
              "      <td>75.0</td>\n",
              "      <td>1.0</td>\n",
              "      <td>2.0</td>\n",
              "      <td>2.0</td>\n",
              "      <td>0.0</td>\n",
              "      <td>0.0</td>\n",
              "      <td>0.0</td>\n",
              "      <td>1.0</td>\n",
              "      <td>1.0</td>\n",
              "      <td>0.0</td>\n",
              "      <td>0.0</td>\n",
              "      <td>no info</td>\n",
              "      <td>planta 4ª</td>\n",
              "      <td>idealista</td>\n",
              "      <td>Barrio de Salamanca</td>\n",
              "    </tr>\n",
              "    <tr>\n",
              "      <th>3362</th>\n",
              "      <td>163852113</td>\n",
              "      <td>Flat</td>\n",
              "      <td>155000.0</td>\n",
              "      <td>70.0</td>\n",
              "      <td>1</td>\n",
              "      <td>3</td>\n",
              "      <td>1</td>\n",
              "      <td>0.0</td>\n",
              "      <td>0.0</td>\n",
              "      <td>0.0</td>\n",
              "      <td>1</td>\n",
              "      <td>1.0</td>\n",
              "      <td>0.0</td>\n",
              "      <td>False</td>\n",
              "      <td>Gas natural</td>\n",
              "      <td>7</td>\n",
              "      <td>fotocasa</td>\n",
              "      <td>Latina</td>\n",
              "    </tr>\n",
              "    <tr>\n",
              "      <th>29196</th>\n",
              "      <td>163939794</td>\n",
              "      <td>Flat</td>\n",
              "      <td>201000.0</td>\n",
              "      <td>81.0</td>\n",
              "      <td>0</td>\n",
              "      <td>3</td>\n",
              "      <td>1</td>\n",
              "      <td>0.0</td>\n",
              "      <td>1.0</td>\n",
              "      <td>0.0</td>\n",
              "      <td>1</td>\n",
              "      <td>1.0</td>\n",
              "      <td>0.0</td>\n",
              "      <td>False</td>\n",
              "      <td>no info</td>\n",
              "      <td>0</td>\n",
              "      <td>fotocasa</td>\n",
              "      <td>Puente de Vallecas</td>\n",
              "    </tr>\n",
              "    <tr>\n",
              "      <th>779</th>\n",
              "      <td>98372748.0</td>\n",
              "      <td>piso</td>\n",
              "      <td>219900.0</td>\n",
              "      <td>91.0</td>\n",
              "      <td>1.0</td>\n",
              "      <td>3.0</td>\n",
              "      <td>2.0</td>\n",
              "      <td>0.0</td>\n",
              "      <td>1.0</td>\n",
              "      <td>1.0</td>\n",
              "      <td>1.0</td>\n",
              "      <td>0.0</td>\n",
              "      <td>1.0</td>\n",
              "      <td>0.0</td>\n",
              "      <td>Gas natural</td>\n",
              "      <td>planta 2ª</td>\n",
              "      <td>idealista</td>\n",
              "      <td>Villa de Vallecas</td>\n",
              "    </tr>\n",
              "    <tr>\n",
              "      <th>27423</th>\n",
              "      <td>164941726</td>\n",
              "      <td>Flat</td>\n",
              "      <td>280000.0</td>\n",
              "      <td>61.0</td>\n",
              "      <td>0</td>\n",
              "      <td>2</td>\n",
              "      <td>1</td>\n",
              "      <td>0.0</td>\n",
              "      <td>0.0</td>\n",
              "      <td>0.0</td>\n",
              "      <td>1</td>\n",
              "      <td>1.0</td>\n",
              "      <td>0.0</td>\n",
              "      <td>False</td>\n",
              "      <td>Gas natural</td>\n",
              "      <td>11</td>\n",
              "      <td>fotocasa</td>\n",
              "      <td>Arganzuela</td>\n",
              "    </tr>\n",
              "    <tr>\n",
              "      <th>7353</th>\n",
              "      <td>98374645.0</td>\n",
              "      <td>piso</td>\n",
              "      <td>125000.0</td>\n",
              "      <td>25.0</td>\n",
              "      <td>0.0</td>\n",
              "      <td>0.0</td>\n",
              "      <td>1.0</td>\n",
              "      <td>0.0</td>\n",
              "      <td>0.0</td>\n",
              "      <td>0.0</td>\n",
              "      <td>0.0</td>\n",
              "      <td>1.0</td>\n",
              "      <td>0.0</td>\n",
              "      <td>0.0</td>\n",
              "      <td>no info</td>\n",
              "      <td>bajo</td>\n",
              "      <td>idealista</td>\n",
              "      <td>Arganzuela</td>\n",
              "    </tr>\n",
              "    <tr>\n",
              "      <th>8766</th>\n",
              "      <td>98125793.0</td>\n",
              "      <td>piso</td>\n",
              "      <td>2500000.0</td>\n",
              "      <td>200.0</td>\n",
              "      <td>1.0</td>\n",
              "      <td>4.0</td>\n",
              "      <td>4.0</td>\n",
              "      <td>0.0</td>\n",
              "      <td>0.0</td>\n",
              "      <td>0.0</td>\n",
              "      <td>1.0</td>\n",
              "      <td>1.0</td>\n",
              "      <td>0.0</td>\n",
              "      <td>0.0</td>\n",
              "      <td>no info</td>\n",
              "      <td>planta 5ª</td>\n",
              "      <td>idealista</td>\n",
              "      <td>Barrio de Salamanca</td>\n",
              "    </tr>\n",
              "  </tbody>\n",
              "</table>\n",
              "</div>\n",
              "      <button class=\"colab-df-convert\" onclick=\"convertToInteractive('df-9e0887e7-ee99-4efb-8831-10b6e8dcbfdf')\"\n",
              "              title=\"Convert this dataframe to an interactive table.\"\n",
              "              style=\"display:none;\">\n",
              "        \n",
              "  <svg xmlns=\"http://www.w3.org/2000/svg\" height=\"24px\"viewBox=\"0 0 24 24\"\n",
              "       width=\"24px\">\n",
              "    <path d=\"M0 0h24v24H0V0z\" fill=\"none\"/>\n",
              "    <path d=\"M18.56 5.44l.94 2.06.94-2.06 2.06-.94-2.06-.94-.94-2.06-.94 2.06-2.06.94zm-11 1L8.5 8.5l.94-2.06 2.06-.94-2.06-.94L8.5 2.5l-.94 2.06-2.06.94zm10 10l.94 2.06.94-2.06 2.06-.94-2.06-.94-.94-2.06-.94 2.06-2.06.94z\"/><path d=\"M17.41 7.96l-1.37-1.37c-.4-.4-.92-.59-1.43-.59-.52 0-1.04.2-1.43.59L10.3 9.45l-7.72 7.72c-.78.78-.78 2.05 0 2.83L4 21.41c.39.39.9.59 1.41.59.51 0 1.02-.2 1.41-.59l7.78-7.78 2.81-2.81c.8-.78.8-2.07 0-2.86zM5.41 20L4 18.59l7.72-7.72 1.47 1.35L5.41 20z\"/>\n",
              "  </svg>\n",
              "      </button>\n",
              "      \n",
              "  <style>\n",
              "    .colab-df-container {\n",
              "      display:flex;\n",
              "      flex-wrap:wrap;\n",
              "      gap: 12px;\n",
              "    }\n",
              "\n",
              "    .colab-df-convert {\n",
              "      background-color: #E8F0FE;\n",
              "      border: none;\n",
              "      border-radius: 50%;\n",
              "      cursor: pointer;\n",
              "      display: none;\n",
              "      fill: #1967D2;\n",
              "      height: 32px;\n",
              "      padding: 0 0 0 0;\n",
              "      width: 32px;\n",
              "    }\n",
              "\n",
              "    .colab-df-convert:hover {\n",
              "      background-color: #E2EBFA;\n",
              "      box-shadow: 0px 1px 2px rgba(60, 64, 67, 0.3), 0px 1px 3px 1px rgba(60, 64, 67, 0.15);\n",
              "      fill: #174EA6;\n",
              "    }\n",
              "\n",
              "    [theme=dark] .colab-df-convert {\n",
              "      background-color: #3B4455;\n",
              "      fill: #D2E3FC;\n",
              "    }\n",
              "\n",
              "    [theme=dark] .colab-df-convert:hover {\n",
              "      background-color: #434B5C;\n",
              "      box-shadow: 0px 1px 3px 1px rgba(0, 0, 0, 0.15);\n",
              "      filter: drop-shadow(0px 1px 2px rgba(0, 0, 0, 0.3));\n",
              "      fill: #FFFFFF;\n",
              "    }\n",
              "  </style>\n",
              "\n",
              "      <script>\n",
              "        const buttonEl =\n",
              "          document.querySelector('#df-9e0887e7-ee99-4efb-8831-10b6e8dcbfdf button.colab-df-convert');\n",
              "        buttonEl.style.display =\n",
              "          google.colab.kernel.accessAllowed ? 'block' : 'none';\n",
              "\n",
              "        async function convertToInteractive(key) {\n",
              "          const element = document.querySelector('#df-9e0887e7-ee99-4efb-8831-10b6e8dcbfdf');\n",
              "          const dataTable =\n",
              "            await google.colab.kernel.invokeFunction('convertToInteractive',\n",
              "                                                     [key], {});\n",
              "          if (!dataTable) return;\n",
              "\n",
              "          const docLinkHtml = 'Like what you see? Visit the ' +\n",
              "            '<a target=\"_blank\" href=https://colab.research.google.com/notebooks/data_table.ipynb>data table notebook</a>'\n",
              "            + ' to learn more about interactive tables.';\n",
              "          element.innerHTML = '';\n",
              "          dataTable['output_type'] = 'display_data';\n",
              "          await google.colab.output.renderOutput(dataTable, element);\n",
              "          const docLink = document.createElement('div');\n",
              "          docLink.innerHTML = docLinkHtml;\n",
              "          element.appendChild(docLink);\n",
              "        }\n",
              "      </script>\n",
              "    </div>\n",
              "  </div>\n",
              "  "
            ]
          },
          "metadata": {},
          "execution_count": 339
        }
      ]
    },
    {
      "cell_type": "markdown",
      "source": [
        "We must now maintain coherence between the values of each feature"
      ],
      "metadata": {
        "id": "dgYNM4-q93XL"
      }
    },
    {
      "cell_type": "code",
      "source": [
        "df = df.reset_index(drop=True)"
      ],
      "metadata": {
        "id": "HQD5onkBAu7A"
      },
      "execution_count": 340,
      "outputs": []
    },
    {
      "cell_type": "code",
      "source": [
        "df.head()"
      ],
      "metadata": {
        "colab": {
          "base_uri": "https://localhost:8080/",
          "height": 206
        },
        "id": "LXTh2bI1BHJW",
        "outputId": "0dc972a7-1cf6-4852-98d7-b29bf4ad88d5"
      },
      "execution_count": 341,
      "outputs": [
        {
          "output_type": "execute_result",
          "data": {
            "text/plain": [
              "           id propertyType     price   size hasParking roomNumber bathNumber  \\\n",
              "0  98255270.0         piso  995000.0  179.0        0.0        4.0        5.0   \n",
              "1  94343260.0         piso   99000.0   56.0        0.0        3.0        1.0   \n",
              "2  98119783.0         piso  425000.0   31.0        0.0        2.0        1.0   \n",
              "3  97132927.0         piso  136000.0   55.0        0.0        2.0        1.0   \n",
              "4  97611862.0         piso  574300.0   94.0        0.0        4.0        1.0   \n",
              "\n",
              "   hasSwimmingPool  hasTerrace  hasGarden hasLift  isGoodCondition  \\\n",
              "0              0.0         0.0        0.0     1.0              1.0   \n",
              "1              0.0         0.0        0.0     0.0              1.0   \n",
              "2              0.0         0.0        0.0     1.0              1.0   \n",
              "3              0.0         0.0        0.0     0.0              1.0   \n",
              "4              0.0         0.0        0.0     1.0              1.0   \n",
              "\n",
              "   isNeedsRenovating isNewDevelopment  heatingType      floor     origin  \\\n",
              "0                0.0              0.0  Gas natural  planta 1ª  idealista   \n",
              "1                0.0              0.0      no info    no info  idealista   \n",
              "2                0.0              0.0      no info  planta 5ª  idealista   \n",
              "3                0.0              0.0    Eléctrica  planta 3ª  idealista   \n",
              "4                0.0              0.0      no info  planta 4ª  idealista   \n",
              "\n",
              "              district  \n",
              "0               Tetuán  \n",
              "1   Puente de Vallecas  \n",
              "2               Centro  \n",
              "3   Puente de Vallecas  \n",
              "4  Barrio de Salamanca  "
            ],
            "text/html": [
              "\n",
              "  <div id=\"df-9239c816-4f2d-491e-bdc0-c055e86e7959\">\n",
              "    <div class=\"colab-df-container\">\n",
              "      <div>\n",
              "<style scoped>\n",
              "    .dataframe tbody tr th:only-of-type {\n",
              "        vertical-align: middle;\n",
              "    }\n",
              "\n",
              "    .dataframe tbody tr th {\n",
              "        vertical-align: top;\n",
              "    }\n",
              "\n",
              "    .dataframe thead th {\n",
              "        text-align: right;\n",
              "    }\n",
              "</style>\n",
              "<table border=\"1\" class=\"dataframe\">\n",
              "  <thead>\n",
              "    <tr style=\"text-align: right;\">\n",
              "      <th></th>\n",
              "      <th>id</th>\n",
              "      <th>propertyType</th>\n",
              "      <th>price</th>\n",
              "      <th>size</th>\n",
              "      <th>hasParking</th>\n",
              "      <th>roomNumber</th>\n",
              "      <th>bathNumber</th>\n",
              "      <th>hasSwimmingPool</th>\n",
              "      <th>hasTerrace</th>\n",
              "      <th>hasGarden</th>\n",
              "      <th>hasLift</th>\n",
              "      <th>isGoodCondition</th>\n",
              "      <th>isNeedsRenovating</th>\n",
              "      <th>isNewDevelopment</th>\n",
              "      <th>heatingType</th>\n",
              "      <th>floor</th>\n",
              "      <th>origin</th>\n",
              "      <th>district</th>\n",
              "    </tr>\n",
              "  </thead>\n",
              "  <tbody>\n",
              "    <tr>\n",
              "      <th>0</th>\n",
              "      <td>98255270.0</td>\n",
              "      <td>piso</td>\n",
              "      <td>995000.0</td>\n",
              "      <td>179.0</td>\n",
              "      <td>0.0</td>\n",
              "      <td>4.0</td>\n",
              "      <td>5.0</td>\n",
              "      <td>0.0</td>\n",
              "      <td>0.0</td>\n",
              "      <td>0.0</td>\n",
              "      <td>1.0</td>\n",
              "      <td>1.0</td>\n",
              "      <td>0.0</td>\n",
              "      <td>0.0</td>\n",
              "      <td>Gas natural</td>\n",
              "      <td>planta 1ª</td>\n",
              "      <td>idealista</td>\n",
              "      <td>Tetuán</td>\n",
              "    </tr>\n",
              "    <tr>\n",
              "      <th>1</th>\n",
              "      <td>94343260.0</td>\n",
              "      <td>piso</td>\n",
              "      <td>99000.0</td>\n",
              "      <td>56.0</td>\n",
              "      <td>0.0</td>\n",
              "      <td>3.0</td>\n",
              "      <td>1.0</td>\n",
              "      <td>0.0</td>\n",
              "      <td>0.0</td>\n",
              "      <td>0.0</td>\n",
              "      <td>0.0</td>\n",
              "      <td>1.0</td>\n",
              "      <td>0.0</td>\n",
              "      <td>0.0</td>\n",
              "      <td>no info</td>\n",
              "      <td>no info</td>\n",
              "      <td>idealista</td>\n",
              "      <td>Puente de Vallecas</td>\n",
              "    </tr>\n",
              "    <tr>\n",
              "      <th>2</th>\n",
              "      <td>98119783.0</td>\n",
              "      <td>piso</td>\n",
              "      <td>425000.0</td>\n",
              "      <td>31.0</td>\n",
              "      <td>0.0</td>\n",
              "      <td>2.0</td>\n",
              "      <td>1.0</td>\n",
              "      <td>0.0</td>\n",
              "      <td>0.0</td>\n",
              "      <td>0.0</td>\n",
              "      <td>1.0</td>\n",
              "      <td>1.0</td>\n",
              "      <td>0.0</td>\n",
              "      <td>0.0</td>\n",
              "      <td>no info</td>\n",
              "      <td>planta 5ª</td>\n",
              "      <td>idealista</td>\n",
              "      <td>Centro</td>\n",
              "    </tr>\n",
              "    <tr>\n",
              "      <th>3</th>\n",
              "      <td>97132927.0</td>\n",
              "      <td>piso</td>\n",
              "      <td>136000.0</td>\n",
              "      <td>55.0</td>\n",
              "      <td>0.0</td>\n",
              "      <td>2.0</td>\n",
              "      <td>1.0</td>\n",
              "      <td>0.0</td>\n",
              "      <td>0.0</td>\n",
              "      <td>0.0</td>\n",
              "      <td>0.0</td>\n",
              "      <td>1.0</td>\n",
              "      <td>0.0</td>\n",
              "      <td>0.0</td>\n",
              "      <td>Eléctrica</td>\n",
              "      <td>planta 3ª</td>\n",
              "      <td>idealista</td>\n",
              "      <td>Puente de Vallecas</td>\n",
              "    </tr>\n",
              "    <tr>\n",
              "      <th>4</th>\n",
              "      <td>97611862.0</td>\n",
              "      <td>piso</td>\n",
              "      <td>574300.0</td>\n",
              "      <td>94.0</td>\n",
              "      <td>0.0</td>\n",
              "      <td>4.0</td>\n",
              "      <td>1.0</td>\n",
              "      <td>0.0</td>\n",
              "      <td>0.0</td>\n",
              "      <td>0.0</td>\n",
              "      <td>1.0</td>\n",
              "      <td>1.0</td>\n",
              "      <td>0.0</td>\n",
              "      <td>0.0</td>\n",
              "      <td>no info</td>\n",
              "      <td>planta 4ª</td>\n",
              "      <td>idealista</td>\n",
              "      <td>Barrio de Salamanca</td>\n",
              "    </tr>\n",
              "  </tbody>\n",
              "</table>\n",
              "</div>\n",
              "      <button class=\"colab-df-convert\" onclick=\"convertToInteractive('df-9239c816-4f2d-491e-bdc0-c055e86e7959')\"\n",
              "              title=\"Convert this dataframe to an interactive table.\"\n",
              "              style=\"display:none;\">\n",
              "        \n",
              "  <svg xmlns=\"http://www.w3.org/2000/svg\" height=\"24px\"viewBox=\"0 0 24 24\"\n",
              "       width=\"24px\">\n",
              "    <path d=\"M0 0h24v24H0V0z\" fill=\"none\"/>\n",
              "    <path d=\"M18.56 5.44l.94 2.06.94-2.06 2.06-.94-2.06-.94-.94-2.06-.94 2.06-2.06.94zm-11 1L8.5 8.5l.94-2.06 2.06-.94-2.06-.94L8.5 2.5l-.94 2.06-2.06.94zm10 10l.94 2.06.94-2.06 2.06-.94-2.06-.94-.94-2.06-.94 2.06-2.06.94z\"/><path d=\"M17.41 7.96l-1.37-1.37c-.4-.4-.92-.59-1.43-.59-.52 0-1.04.2-1.43.59L10.3 9.45l-7.72 7.72c-.78.78-.78 2.05 0 2.83L4 21.41c.39.39.9.59 1.41.59.51 0 1.02-.2 1.41-.59l7.78-7.78 2.81-2.81c.8-.78.8-2.07 0-2.86zM5.41 20L4 18.59l7.72-7.72 1.47 1.35L5.41 20z\"/>\n",
              "  </svg>\n",
              "      </button>\n",
              "      \n",
              "  <style>\n",
              "    .colab-df-container {\n",
              "      display:flex;\n",
              "      flex-wrap:wrap;\n",
              "      gap: 12px;\n",
              "    }\n",
              "\n",
              "    .colab-df-convert {\n",
              "      background-color: #E8F0FE;\n",
              "      border: none;\n",
              "      border-radius: 50%;\n",
              "      cursor: pointer;\n",
              "      display: none;\n",
              "      fill: #1967D2;\n",
              "      height: 32px;\n",
              "      padding: 0 0 0 0;\n",
              "      width: 32px;\n",
              "    }\n",
              "\n",
              "    .colab-df-convert:hover {\n",
              "      background-color: #E2EBFA;\n",
              "      box-shadow: 0px 1px 2px rgba(60, 64, 67, 0.3), 0px 1px 3px 1px rgba(60, 64, 67, 0.15);\n",
              "      fill: #174EA6;\n",
              "    }\n",
              "\n",
              "    [theme=dark] .colab-df-convert {\n",
              "      background-color: #3B4455;\n",
              "      fill: #D2E3FC;\n",
              "    }\n",
              "\n",
              "    [theme=dark] .colab-df-convert:hover {\n",
              "      background-color: #434B5C;\n",
              "      box-shadow: 0px 1px 3px 1px rgba(0, 0, 0, 0.15);\n",
              "      filter: drop-shadow(0px 1px 2px rgba(0, 0, 0, 0.3));\n",
              "      fill: #FFFFFF;\n",
              "    }\n",
              "  </style>\n",
              "\n",
              "      <script>\n",
              "        const buttonEl =\n",
              "          document.querySelector('#df-9239c816-4f2d-491e-bdc0-c055e86e7959 button.colab-df-convert');\n",
              "        buttonEl.style.display =\n",
              "          google.colab.kernel.accessAllowed ? 'block' : 'none';\n",
              "\n",
              "        async function convertToInteractive(key) {\n",
              "          const element = document.querySelector('#df-9239c816-4f2d-491e-bdc0-c055e86e7959');\n",
              "          const dataTable =\n",
              "            await google.colab.kernel.invokeFunction('convertToInteractive',\n",
              "                                                     [key], {});\n",
              "          if (!dataTable) return;\n",
              "\n",
              "          const docLinkHtml = 'Like what you see? Visit the ' +\n",
              "            '<a target=\"_blank\" href=https://colab.research.google.com/notebooks/data_table.ipynb>data table notebook</a>'\n",
              "            + ' to learn more about interactive tables.';\n",
              "          element.innerHTML = '';\n",
              "          dataTable['output_type'] = 'display_data';\n",
              "          await google.colab.output.renderOutput(dataTable, element);\n",
              "          const docLink = document.createElement('div');\n",
              "          docLink.innerHTML = docLinkHtml;\n",
              "          element.appendChild(docLink);\n",
              "        }\n",
              "      </script>\n",
              "    </div>\n",
              "  </div>\n",
              "  "
            ]
          },
          "metadata": {},
          "execution_count": 341
        }
      ]
    },
    {
      "cell_type": "code",
      "source": [
        "df.isna().any()"
      ],
      "metadata": {
        "colab": {
          "base_uri": "https://localhost:8080/"
        },
        "id": "HTuFjRc5-TpZ",
        "outputId": "d5262d37-3b7e-458c-9caa-2501aaa385b0"
      },
      "execution_count": 342,
      "outputs": [
        {
          "output_type": "execute_result",
          "data": {
            "text/plain": [
              "id                    True\n",
              "propertyType          True\n",
              "price                 True\n",
              "size                  True\n",
              "hasParking            True\n",
              "roomNumber            True\n",
              "bathNumber            True\n",
              "hasSwimmingPool       True\n",
              "hasTerrace            True\n",
              "hasGarden             True\n",
              "hasLift               True\n",
              "isGoodCondition       True\n",
              "isNeedsRenovating     True\n",
              "isNewDevelopment      True\n",
              "heatingType          False\n",
              "floor                 True\n",
              "origin                True\n",
              "district              True\n",
              "dtype: bool"
            ]
          },
          "metadata": {},
          "execution_count": 342
        }
      ]
    },
    {
      "cell_type": "code",
      "source": [
        "df[df['id'].isna()]"
      ],
      "metadata": {
        "colab": {
          "base_uri": "https://localhost:8080/",
          "height": 81
        },
        "id": "q81V9iMh_jrE",
        "outputId": "c3f618a3-7378-4088-983a-8077298dcf68"
      },
      "execution_count": 343,
      "outputs": [
        {
          "output_type": "execute_result",
          "data": {
            "text/plain": [
              "        id propertyType  price  size hasParking roomNumber bathNumber  \\\n",
              "16390  NaN          NaN    NaN   NaN        NaN        NaN        NaN   \n",
              "\n",
              "       hasSwimmingPool  hasTerrace  hasGarden hasLift  isGoodCondition  \\\n",
              "16390              NaN         NaN        NaN     NaN              NaN   \n",
              "\n",
              "       isNeedsRenovating isNewDevelopment heatingType floor origin district  \n",
              "16390                NaN              NaN     no info   NaN    NaN      NaN  "
            ],
            "text/html": [
              "\n",
              "  <div id=\"df-46de077a-7a1f-4787-add6-0ddc7162d6e6\">\n",
              "    <div class=\"colab-df-container\">\n",
              "      <div>\n",
              "<style scoped>\n",
              "    .dataframe tbody tr th:only-of-type {\n",
              "        vertical-align: middle;\n",
              "    }\n",
              "\n",
              "    .dataframe tbody tr th {\n",
              "        vertical-align: top;\n",
              "    }\n",
              "\n",
              "    .dataframe thead th {\n",
              "        text-align: right;\n",
              "    }\n",
              "</style>\n",
              "<table border=\"1\" class=\"dataframe\">\n",
              "  <thead>\n",
              "    <tr style=\"text-align: right;\">\n",
              "      <th></th>\n",
              "      <th>id</th>\n",
              "      <th>propertyType</th>\n",
              "      <th>price</th>\n",
              "      <th>size</th>\n",
              "      <th>hasParking</th>\n",
              "      <th>roomNumber</th>\n",
              "      <th>bathNumber</th>\n",
              "      <th>hasSwimmingPool</th>\n",
              "      <th>hasTerrace</th>\n",
              "      <th>hasGarden</th>\n",
              "      <th>hasLift</th>\n",
              "      <th>isGoodCondition</th>\n",
              "      <th>isNeedsRenovating</th>\n",
              "      <th>isNewDevelopment</th>\n",
              "      <th>heatingType</th>\n",
              "      <th>floor</th>\n",
              "      <th>origin</th>\n",
              "      <th>district</th>\n",
              "    </tr>\n",
              "  </thead>\n",
              "  <tbody>\n",
              "    <tr>\n",
              "      <th>16390</th>\n",
              "      <td>NaN</td>\n",
              "      <td>NaN</td>\n",
              "      <td>NaN</td>\n",
              "      <td>NaN</td>\n",
              "      <td>NaN</td>\n",
              "      <td>NaN</td>\n",
              "      <td>NaN</td>\n",
              "      <td>NaN</td>\n",
              "      <td>NaN</td>\n",
              "      <td>NaN</td>\n",
              "      <td>NaN</td>\n",
              "      <td>NaN</td>\n",
              "      <td>NaN</td>\n",
              "      <td>NaN</td>\n",
              "      <td>no info</td>\n",
              "      <td>NaN</td>\n",
              "      <td>NaN</td>\n",
              "      <td>NaN</td>\n",
              "    </tr>\n",
              "  </tbody>\n",
              "</table>\n",
              "</div>\n",
              "      <button class=\"colab-df-convert\" onclick=\"convertToInteractive('df-46de077a-7a1f-4787-add6-0ddc7162d6e6')\"\n",
              "              title=\"Convert this dataframe to an interactive table.\"\n",
              "              style=\"display:none;\">\n",
              "        \n",
              "  <svg xmlns=\"http://www.w3.org/2000/svg\" height=\"24px\"viewBox=\"0 0 24 24\"\n",
              "       width=\"24px\">\n",
              "    <path d=\"M0 0h24v24H0V0z\" fill=\"none\"/>\n",
              "    <path d=\"M18.56 5.44l.94 2.06.94-2.06 2.06-.94-2.06-.94-.94-2.06-.94 2.06-2.06.94zm-11 1L8.5 8.5l.94-2.06 2.06-.94-2.06-.94L8.5 2.5l-.94 2.06-2.06.94zm10 10l.94 2.06.94-2.06 2.06-.94-2.06-.94-.94-2.06-.94 2.06-2.06.94z\"/><path d=\"M17.41 7.96l-1.37-1.37c-.4-.4-.92-.59-1.43-.59-.52 0-1.04.2-1.43.59L10.3 9.45l-7.72 7.72c-.78.78-.78 2.05 0 2.83L4 21.41c.39.39.9.59 1.41.59.51 0 1.02-.2 1.41-.59l7.78-7.78 2.81-2.81c.8-.78.8-2.07 0-2.86zM5.41 20L4 18.59l7.72-7.72 1.47 1.35L5.41 20z\"/>\n",
              "  </svg>\n",
              "      </button>\n",
              "      \n",
              "  <style>\n",
              "    .colab-df-container {\n",
              "      display:flex;\n",
              "      flex-wrap:wrap;\n",
              "      gap: 12px;\n",
              "    }\n",
              "\n",
              "    .colab-df-convert {\n",
              "      background-color: #E8F0FE;\n",
              "      border: none;\n",
              "      border-radius: 50%;\n",
              "      cursor: pointer;\n",
              "      display: none;\n",
              "      fill: #1967D2;\n",
              "      height: 32px;\n",
              "      padding: 0 0 0 0;\n",
              "      width: 32px;\n",
              "    }\n",
              "\n",
              "    .colab-df-convert:hover {\n",
              "      background-color: #E2EBFA;\n",
              "      box-shadow: 0px 1px 2px rgba(60, 64, 67, 0.3), 0px 1px 3px 1px rgba(60, 64, 67, 0.15);\n",
              "      fill: #174EA6;\n",
              "    }\n",
              "\n",
              "    [theme=dark] .colab-df-convert {\n",
              "      background-color: #3B4455;\n",
              "      fill: #D2E3FC;\n",
              "    }\n",
              "\n",
              "    [theme=dark] .colab-df-convert:hover {\n",
              "      background-color: #434B5C;\n",
              "      box-shadow: 0px 1px 3px 1px rgba(0, 0, 0, 0.15);\n",
              "      filter: drop-shadow(0px 1px 2px rgba(0, 0, 0, 0.3));\n",
              "      fill: #FFFFFF;\n",
              "    }\n",
              "  </style>\n",
              "\n",
              "      <script>\n",
              "        const buttonEl =\n",
              "          document.querySelector('#df-46de077a-7a1f-4787-add6-0ddc7162d6e6 button.colab-df-convert');\n",
              "        buttonEl.style.display =\n",
              "          google.colab.kernel.accessAllowed ? 'block' : 'none';\n",
              "\n",
              "        async function convertToInteractive(key) {\n",
              "          const element = document.querySelector('#df-46de077a-7a1f-4787-add6-0ddc7162d6e6');\n",
              "          const dataTable =\n",
              "            await google.colab.kernel.invokeFunction('convertToInteractive',\n",
              "                                                     [key], {});\n",
              "          if (!dataTable) return;\n",
              "\n",
              "          const docLinkHtml = 'Like what you see? Visit the ' +\n",
              "            '<a target=\"_blank\" href=https://colab.research.google.com/notebooks/data_table.ipynb>data table notebook</a>'\n",
              "            + ' to learn more about interactive tables.';\n",
              "          element.innerHTML = '';\n",
              "          dataTable['output_type'] = 'display_data';\n",
              "          await google.colab.output.renderOutput(dataTable, element);\n",
              "          const docLink = document.createElement('div');\n",
              "          docLink.innerHTML = docLinkHtml;\n",
              "          element.appendChild(docLink);\n",
              "        }\n",
              "      </script>\n",
              "    </div>\n",
              "  </div>\n",
              "  "
            ]
          },
          "metadata": {},
          "execution_count": 343
        }
      ]
    },
    {
      "cell_type": "code",
      "source": [
        "df = df.drop([16390],axis = 0)"
      ],
      "metadata": {
        "id": "qyIsBvZo-XxD"
      },
      "execution_count": 344,
      "outputs": []
    },
    {
      "cell_type": "code",
      "source": [
        "df = df.reset_index(drop=True)\n",
        "df.isna().any()"
      ],
      "metadata": {
        "colab": {
          "base_uri": "https://localhost:8080/"
        },
        "id": "0JrMzTBNDglg",
        "outputId": "40963cb8-c979-416d-b053-b232182b56a6"
      },
      "execution_count": 345,
      "outputs": [
        {
          "output_type": "execute_result",
          "data": {
            "text/plain": [
              "id                   False\n",
              "propertyType         False\n",
              "price                False\n",
              "size                 False\n",
              "hasParking           False\n",
              "roomNumber           False\n",
              "bathNumber           False\n",
              "hasSwimmingPool      False\n",
              "hasTerrace           False\n",
              "hasGarden            False\n",
              "hasLift              False\n",
              "isGoodCondition      False\n",
              "isNeedsRenovating    False\n",
              "isNewDevelopment     False\n",
              "heatingType          False\n",
              "floor                False\n",
              "origin               False\n",
              "district             False\n",
              "dtype: bool"
            ]
          },
          "metadata": {},
          "execution_count": 345
        }
      ]
    },
    {
      "cell_type": "code",
      "source": [
        "df.sample(10)"
      ],
      "metadata": {
        "colab": {
          "base_uri": "https://localhost:8080/",
          "height": 363
        },
        "id": "J_mXiSOsD40x",
        "outputId": "f8010c49-3d7d-4ce8-c88e-a2ca3b19d719"
      },
      "execution_count": 346,
      "outputs": [
        {
          "output_type": "execute_result",
          "data": {
            "text/plain": [
              "               id propertyType      price   size hasParking roomNumber  \\\n",
              "7428   96981913.0         piso   154000.0   89.0        0.0        3.0   \n",
              "18374   164020487         Flat   315000.0   97.0          0          3   \n",
              "12552  98508554.0         piso   220000.0   50.0        0.0        2.0   \n",
              "6631   96944529.0         piso   330000.0   89.0        0.0        3.0   \n",
              "1630   97346104.0         piso   250000.0   76.0        1.0        3.0   \n",
              "1438   97554905.0         piso  1625000.0  212.0        0.0        2.0   \n",
              "1765   98417607.0         piso   875000.0  159.0        0.0        4.0   \n",
              "2198   81854746.0       chalet  3800000.0  674.0        0.0        5.0   \n",
              "9960   91351612.0         piso   587000.0  142.0        1.0        3.0   \n",
              "16479   164078866         Flat   340000.0  143.0          1          3   \n",
              "\n",
              "      bathNumber  hasSwimmingPool  hasTerrace  hasGarden hasLift  \\\n",
              "7428         2.0              0.0         1.0        0.0     1.0   \n",
              "18374          2              0.0         1.0        1.0       0   \n",
              "12552        1.0              0.0         0.0        0.0     0.0   \n",
              "6631         1.0              0.0         0.0        0.0     1.0   \n",
              "1630         2.0              0.0         0.0        0.0     1.0   \n",
              "1438         3.0              0.0         1.0        0.0     1.0   \n",
              "1765         1.0              0.0         0.0        0.0     1.0   \n",
              "2198         6.0              1.0         1.0        1.0     0.0   \n",
              "9960         2.0              0.0         0.0        0.0     1.0   \n",
              "16479          2              0.0         0.0        0.0       1   \n",
              "\n",
              "       isGoodCondition  isNeedsRenovating isNewDevelopment  heatingType  \\\n",
              "7428               1.0                0.0              0.0  Gas natural   \n",
              "18374              1.0                0.0            False      no info   \n",
              "12552              1.0                0.0              0.0  Gas natural   \n",
              "6631               1.0                0.0              0.0  Gas natural   \n",
              "1630               1.0                0.0              0.0  Gas natural   \n",
              "1438               1.0                0.0              0.0      no info   \n",
              "1765               0.0                1.0              0.0  Gas natural   \n",
              "2198               1.0                0.0              0.0      no info   \n",
              "9960               1.0                0.0              0.0  Gas natural   \n",
              "16479              1.0                0.0            False      no info   \n",
              "\n",
              "                floor     origin             district  \n",
              "7428        planta 1ª  idealista   Puente de Vallecas  \n",
              "18374               0   fotocasa                Usera  \n",
              "12552            bajo  idealista               Tetuán  \n",
              "6631        planta 3ª  idealista        Ciudad Lineal  \n",
              "1630      entreplanta  idealista               Latina  \n",
              "1438        planta 6ª  idealista  Barrio de Salamanca  \n",
              "1765        planta 1ª  idealista               Centro  \n",
              "2198   does not apply  idealista              Moncloa  \n",
              "9960        planta 3ª  idealista           Fuencarral  \n",
              "16479               0   fotocasa           Villaverde  "
            ],
            "text/html": [
              "\n",
              "  <div id=\"df-c963fee2-f6cb-4e1f-9c2f-fbd2d99ba761\">\n",
              "    <div class=\"colab-df-container\">\n",
              "      <div>\n",
              "<style scoped>\n",
              "    .dataframe tbody tr th:only-of-type {\n",
              "        vertical-align: middle;\n",
              "    }\n",
              "\n",
              "    .dataframe tbody tr th {\n",
              "        vertical-align: top;\n",
              "    }\n",
              "\n",
              "    .dataframe thead th {\n",
              "        text-align: right;\n",
              "    }\n",
              "</style>\n",
              "<table border=\"1\" class=\"dataframe\">\n",
              "  <thead>\n",
              "    <tr style=\"text-align: right;\">\n",
              "      <th></th>\n",
              "      <th>id</th>\n",
              "      <th>propertyType</th>\n",
              "      <th>price</th>\n",
              "      <th>size</th>\n",
              "      <th>hasParking</th>\n",
              "      <th>roomNumber</th>\n",
              "      <th>bathNumber</th>\n",
              "      <th>hasSwimmingPool</th>\n",
              "      <th>hasTerrace</th>\n",
              "      <th>hasGarden</th>\n",
              "      <th>hasLift</th>\n",
              "      <th>isGoodCondition</th>\n",
              "      <th>isNeedsRenovating</th>\n",
              "      <th>isNewDevelopment</th>\n",
              "      <th>heatingType</th>\n",
              "      <th>floor</th>\n",
              "      <th>origin</th>\n",
              "      <th>district</th>\n",
              "    </tr>\n",
              "  </thead>\n",
              "  <tbody>\n",
              "    <tr>\n",
              "      <th>7428</th>\n",
              "      <td>96981913.0</td>\n",
              "      <td>piso</td>\n",
              "      <td>154000.0</td>\n",
              "      <td>89.0</td>\n",
              "      <td>0.0</td>\n",
              "      <td>3.0</td>\n",
              "      <td>2.0</td>\n",
              "      <td>0.0</td>\n",
              "      <td>1.0</td>\n",
              "      <td>0.0</td>\n",
              "      <td>1.0</td>\n",
              "      <td>1.0</td>\n",
              "      <td>0.0</td>\n",
              "      <td>0.0</td>\n",
              "      <td>Gas natural</td>\n",
              "      <td>planta 1ª</td>\n",
              "      <td>idealista</td>\n",
              "      <td>Puente de Vallecas</td>\n",
              "    </tr>\n",
              "    <tr>\n",
              "      <th>18374</th>\n",
              "      <td>164020487</td>\n",
              "      <td>Flat</td>\n",
              "      <td>315000.0</td>\n",
              "      <td>97.0</td>\n",
              "      <td>0</td>\n",
              "      <td>3</td>\n",
              "      <td>2</td>\n",
              "      <td>0.0</td>\n",
              "      <td>1.0</td>\n",
              "      <td>1.0</td>\n",
              "      <td>0</td>\n",
              "      <td>1.0</td>\n",
              "      <td>0.0</td>\n",
              "      <td>False</td>\n",
              "      <td>no info</td>\n",
              "      <td>0</td>\n",
              "      <td>fotocasa</td>\n",
              "      <td>Usera</td>\n",
              "    </tr>\n",
              "    <tr>\n",
              "      <th>12552</th>\n",
              "      <td>98508554.0</td>\n",
              "      <td>piso</td>\n",
              "      <td>220000.0</td>\n",
              "      <td>50.0</td>\n",
              "      <td>0.0</td>\n",
              "      <td>2.0</td>\n",
              "      <td>1.0</td>\n",
              "      <td>0.0</td>\n",
              "      <td>0.0</td>\n",
              "      <td>0.0</td>\n",
              "      <td>0.0</td>\n",
              "      <td>1.0</td>\n",
              "      <td>0.0</td>\n",
              "      <td>0.0</td>\n",
              "      <td>Gas natural</td>\n",
              "      <td>bajo</td>\n",
              "      <td>idealista</td>\n",
              "      <td>Tetuán</td>\n",
              "    </tr>\n",
              "    <tr>\n",
              "      <th>6631</th>\n",
              "      <td>96944529.0</td>\n",
              "      <td>piso</td>\n",
              "      <td>330000.0</td>\n",
              "      <td>89.0</td>\n",
              "      <td>0.0</td>\n",
              "      <td>3.0</td>\n",
              "      <td>1.0</td>\n",
              "      <td>0.0</td>\n",
              "      <td>0.0</td>\n",
              "      <td>0.0</td>\n",
              "      <td>1.0</td>\n",
              "      <td>1.0</td>\n",
              "      <td>0.0</td>\n",
              "      <td>0.0</td>\n",
              "      <td>Gas natural</td>\n",
              "      <td>planta 3ª</td>\n",
              "      <td>idealista</td>\n",
              "      <td>Ciudad Lineal</td>\n",
              "    </tr>\n",
              "    <tr>\n",
              "      <th>1630</th>\n",
              "      <td>97346104.0</td>\n",
              "      <td>piso</td>\n",
              "      <td>250000.0</td>\n",
              "      <td>76.0</td>\n",
              "      <td>1.0</td>\n",
              "      <td>3.0</td>\n",
              "      <td>2.0</td>\n",
              "      <td>0.0</td>\n",
              "      <td>0.0</td>\n",
              "      <td>0.0</td>\n",
              "      <td>1.0</td>\n",
              "      <td>1.0</td>\n",
              "      <td>0.0</td>\n",
              "      <td>0.0</td>\n",
              "      <td>Gas natural</td>\n",
              "      <td>entreplanta</td>\n",
              "      <td>idealista</td>\n",
              "      <td>Latina</td>\n",
              "    </tr>\n",
              "    <tr>\n",
              "      <th>1438</th>\n",
              "      <td>97554905.0</td>\n",
              "      <td>piso</td>\n",
              "      <td>1625000.0</td>\n",
              "      <td>212.0</td>\n",
              "      <td>0.0</td>\n",
              "      <td>2.0</td>\n",
              "      <td>3.0</td>\n",
              "      <td>0.0</td>\n",
              "      <td>1.0</td>\n",
              "      <td>0.0</td>\n",
              "      <td>1.0</td>\n",
              "      <td>1.0</td>\n",
              "      <td>0.0</td>\n",
              "      <td>0.0</td>\n",
              "      <td>no info</td>\n",
              "      <td>planta 6ª</td>\n",
              "      <td>idealista</td>\n",
              "      <td>Barrio de Salamanca</td>\n",
              "    </tr>\n",
              "    <tr>\n",
              "      <th>1765</th>\n",
              "      <td>98417607.0</td>\n",
              "      <td>piso</td>\n",
              "      <td>875000.0</td>\n",
              "      <td>159.0</td>\n",
              "      <td>0.0</td>\n",
              "      <td>4.0</td>\n",
              "      <td>1.0</td>\n",
              "      <td>0.0</td>\n",
              "      <td>0.0</td>\n",
              "      <td>0.0</td>\n",
              "      <td>1.0</td>\n",
              "      <td>0.0</td>\n",
              "      <td>1.0</td>\n",
              "      <td>0.0</td>\n",
              "      <td>Gas natural</td>\n",
              "      <td>planta 1ª</td>\n",
              "      <td>idealista</td>\n",
              "      <td>Centro</td>\n",
              "    </tr>\n",
              "    <tr>\n",
              "      <th>2198</th>\n",
              "      <td>81854746.0</td>\n",
              "      <td>chalet</td>\n",
              "      <td>3800000.0</td>\n",
              "      <td>674.0</td>\n",
              "      <td>0.0</td>\n",
              "      <td>5.0</td>\n",
              "      <td>6.0</td>\n",
              "      <td>1.0</td>\n",
              "      <td>1.0</td>\n",
              "      <td>1.0</td>\n",
              "      <td>0.0</td>\n",
              "      <td>1.0</td>\n",
              "      <td>0.0</td>\n",
              "      <td>0.0</td>\n",
              "      <td>no info</td>\n",
              "      <td>does not apply</td>\n",
              "      <td>idealista</td>\n",
              "      <td>Moncloa</td>\n",
              "    </tr>\n",
              "    <tr>\n",
              "      <th>9960</th>\n",
              "      <td>91351612.0</td>\n",
              "      <td>piso</td>\n",
              "      <td>587000.0</td>\n",
              "      <td>142.0</td>\n",
              "      <td>1.0</td>\n",
              "      <td>3.0</td>\n",
              "      <td>2.0</td>\n",
              "      <td>0.0</td>\n",
              "      <td>0.0</td>\n",
              "      <td>0.0</td>\n",
              "      <td>1.0</td>\n",
              "      <td>1.0</td>\n",
              "      <td>0.0</td>\n",
              "      <td>0.0</td>\n",
              "      <td>Gas natural</td>\n",
              "      <td>planta 3ª</td>\n",
              "      <td>idealista</td>\n",
              "      <td>Fuencarral</td>\n",
              "    </tr>\n",
              "    <tr>\n",
              "      <th>16479</th>\n",
              "      <td>164078866</td>\n",
              "      <td>Flat</td>\n",
              "      <td>340000.0</td>\n",
              "      <td>143.0</td>\n",
              "      <td>1</td>\n",
              "      <td>3</td>\n",
              "      <td>2</td>\n",
              "      <td>0.0</td>\n",
              "      <td>0.0</td>\n",
              "      <td>0.0</td>\n",
              "      <td>1</td>\n",
              "      <td>1.0</td>\n",
              "      <td>0.0</td>\n",
              "      <td>False</td>\n",
              "      <td>no info</td>\n",
              "      <td>0</td>\n",
              "      <td>fotocasa</td>\n",
              "      <td>Villaverde</td>\n",
              "    </tr>\n",
              "  </tbody>\n",
              "</table>\n",
              "</div>\n",
              "      <button class=\"colab-df-convert\" onclick=\"convertToInteractive('df-c963fee2-f6cb-4e1f-9c2f-fbd2d99ba761')\"\n",
              "              title=\"Convert this dataframe to an interactive table.\"\n",
              "              style=\"display:none;\">\n",
              "        \n",
              "  <svg xmlns=\"http://www.w3.org/2000/svg\" height=\"24px\"viewBox=\"0 0 24 24\"\n",
              "       width=\"24px\">\n",
              "    <path d=\"M0 0h24v24H0V0z\" fill=\"none\"/>\n",
              "    <path d=\"M18.56 5.44l.94 2.06.94-2.06 2.06-.94-2.06-.94-.94-2.06-.94 2.06-2.06.94zm-11 1L8.5 8.5l.94-2.06 2.06-.94-2.06-.94L8.5 2.5l-.94 2.06-2.06.94zm10 10l.94 2.06.94-2.06 2.06-.94-2.06-.94-.94-2.06-.94 2.06-2.06.94z\"/><path d=\"M17.41 7.96l-1.37-1.37c-.4-.4-.92-.59-1.43-.59-.52 0-1.04.2-1.43.59L10.3 9.45l-7.72 7.72c-.78.78-.78 2.05 0 2.83L4 21.41c.39.39.9.59 1.41.59.51 0 1.02-.2 1.41-.59l7.78-7.78 2.81-2.81c.8-.78.8-2.07 0-2.86zM5.41 20L4 18.59l7.72-7.72 1.47 1.35L5.41 20z\"/>\n",
              "  </svg>\n",
              "      </button>\n",
              "      \n",
              "  <style>\n",
              "    .colab-df-container {\n",
              "      display:flex;\n",
              "      flex-wrap:wrap;\n",
              "      gap: 12px;\n",
              "    }\n",
              "\n",
              "    .colab-df-convert {\n",
              "      background-color: #E8F0FE;\n",
              "      border: none;\n",
              "      border-radius: 50%;\n",
              "      cursor: pointer;\n",
              "      display: none;\n",
              "      fill: #1967D2;\n",
              "      height: 32px;\n",
              "      padding: 0 0 0 0;\n",
              "      width: 32px;\n",
              "    }\n",
              "\n",
              "    .colab-df-convert:hover {\n",
              "      background-color: #E2EBFA;\n",
              "      box-shadow: 0px 1px 2px rgba(60, 64, 67, 0.3), 0px 1px 3px 1px rgba(60, 64, 67, 0.15);\n",
              "      fill: #174EA6;\n",
              "    }\n",
              "\n",
              "    [theme=dark] .colab-df-convert {\n",
              "      background-color: #3B4455;\n",
              "      fill: #D2E3FC;\n",
              "    }\n",
              "\n",
              "    [theme=dark] .colab-df-convert:hover {\n",
              "      background-color: #434B5C;\n",
              "      box-shadow: 0px 1px 3px 1px rgba(0, 0, 0, 0.15);\n",
              "      filter: drop-shadow(0px 1px 2px rgba(0, 0, 0, 0.3));\n",
              "      fill: #FFFFFF;\n",
              "    }\n",
              "  </style>\n",
              "\n",
              "      <script>\n",
              "        const buttonEl =\n",
              "          document.querySelector('#df-c963fee2-f6cb-4e1f-9c2f-fbd2d99ba761 button.colab-df-convert');\n",
              "        buttonEl.style.display =\n",
              "          google.colab.kernel.accessAllowed ? 'block' : 'none';\n",
              "\n",
              "        async function convertToInteractive(key) {\n",
              "          const element = document.querySelector('#df-c963fee2-f6cb-4e1f-9c2f-fbd2d99ba761');\n",
              "          const dataTable =\n",
              "            await google.colab.kernel.invokeFunction('convertToInteractive',\n",
              "                                                     [key], {});\n",
              "          if (!dataTable) return;\n",
              "\n",
              "          const docLinkHtml = 'Like what you see? Visit the ' +\n",
              "            '<a target=\"_blank\" href=https://colab.research.google.com/notebooks/data_table.ipynb>data table notebook</a>'\n",
              "            + ' to learn more about interactive tables.';\n",
              "          element.innerHTML = '';\n",
              "          dataTable['output_type'] = 'display_data';\n",
              "          await google.colab.output.renderOutput(dataTable, element);\n",
              "          const docLink = document.createElement('div');\n",
              "          docLink.innerHTML = docLinkHtml;\n",
              "          element.appendChild(docLink);\n",
              "        }\n",
              "      </script>\n",
              "    </div>\n",
              "  </div>\n",
              "  "
            ]
          },
          "metadata": {},
          "execution_count": 346
        }
      ]
    },
    {
      "cell_type": "code",
      "source": [
        "df['propertyType'].unique()"
      ],
      "metadata": {
        "colab": {
          "base_uri": "https://localhost:8080/"
        },
        "id": "eUkECmROD8TE",
        "outputId": "7792b6e4-c83f-437f-c678-4b44f6ed2324"
      },
      "execution_count": 347,
      "outputs": [
        {
          "output_type": "execute_result",
          "data": {
            "text/plain": [
              "array(['piso', 'chalet', 'casa rural', 'Flat'], dtype=object)"
            ]
          },
          "metadata": {},
          "execution_count": 347
        }
      ]
    },
    {
      "cell_type": "code",
      "source": [
        "# propertyType transformations\n",
        "df.loc[df['propertyType'].str.contains('Flat|piso', regex = True),'propertyType'] = 'flat'\n",
        "df.loc[df['propertyType'] == 'casa rural','propertyType'] = 'rural house'\n",
        "df['propertyType'].unique()"
      ],
      "metadata": {
        "colab": {
          "base_uri": "https://localhost:8080/"
        },
        "id": "BBQcAvTZ9_3T",
        "outputId": "f1dbe07d-5700-4228-b8fa-f53e58461eeb"
      },
      "execution_count": 348,
      "outputs": [
        {
          "output_type": "execute_result",
          "data": {
            "text/plain": [
              "array(['flat', 'chalet', 'rural house'], dtype=object)"
            ]
          },
          "metadata": {},
          "execution_count": 348
        }
      ]
    },
    {
      "cell_type": "code",
      "source": [
        "df['floor'].unique()"
      ],
      "metadata": {
        "colab": {
          "base_uri": "https://localhost:8080/"
        },
        "id": "FP2zoiBjFsJ_",
        "outputId": "28bed06f-d001-43d7-e053-ce6d2e9967a5"
      },
      "execution_count": 349,
      "outputs": [
        {
          "output_type": "execute_result",
          "data": {
            "text/plain": [
              "array(['planta 1ª', 'no info', 'planta 5ª', 'planta 3ª', 'planta 4ª',\n",
              "       'does not apply', 'bajo', 'planta 6ª', 'planta 2ª', 'planta 14ª',\n",
              "       'planta 10ª', 'planta 9ª', 'planta 7ª', 'planta 8ª', 'entreplanta',\n",
              "       'semi-sótano', 'planta -1', 'planta 15ª', 'planta 20ª', 'sótano',\n",
              "       'planta 13ª', 'planta 12ª', 'planta 11ª', 'planta 16ª',\n",
              "       'planta 19ª', 'planta 18ª', 'planta 40ª', 'planta 17ª',\n",
              "       'planta 26ª', 'planta 21ª', '0', '7', '10', '8', '3', '11', '12',\n",
              "       '6', '9', '15', '14', '2', '13', '5', '16', '4', '17', '18', '19',\n",
              "       '20', '21'], dtype=object)"
            ]
          },
          "metadata": {},
          "execution_count": 349
        }
      ]
    },
    {
      "cell_type": "code",
      "source": [
        "# floor transformations\n",
        "df.loc[:,'floor'] = df['floor'].str.replace(r'planta.|ª','', regex=True)\n",
        "df['floor'].unique()"
      ],
      "metadata": {
        "colab": {
          "base_uri": "https://localhost:8080/"
        },
        "id": "xcuQzUb_Fve8",
        "outputId": "5b448221-c8bb-402d-afbc-80eee4c03c59"
      },
      "execution_count": 350,
      "outputs": [
        {
          "output_type": "execute_result",
          "data": {
            "text/plain": [
              "array(['1', 'no info', '5', '3', '4', 'does not apply', 'bajo', '6', '2',\n",
              "       '14', '10', '9', '7', '8', 'entreplanta', 'semi-sótano', '-1',\n",
              "       '15', '20', 'sótano', '13', '12', '11', '16', '19', '18', '40',\n",
              "       '17', '26', '21', '0'], dtype=object)"
            ]
          },
          "metadata": {},
          "execution_count": 350
        }
      ]
    },
    {
      "cell_type": "code",
      "source": [
        "df[df['floor'] == 'bajo']['propertyType'].unique()"
      ],
      "metadata": {
        "colab": {
          "base_uri": "https://localhost:8080/"
        },
        "id": "wGc2W6I5I44B",
        "outputId": "65fe50e8-5d67-4886-98b5-9390410032c7"
      },
      "execution_count": 351,
      "outputs": [
        {
          "output_type": "execute_result",
          "data": {
            "text/plain": [
              "array(['flat'], dtype=object)"
            ]
          },
          "metadata": {},
          "execution_count": 351
        }
      ]
    },
    {
      "cell_type": "code",
      "source": [
        "df.loc[:,'floor'] = df['floor'].str.replace(r'bajo','0', regex=True)"
      ],
      "metadata": {
        "id": "G6WVTk6oJG-s"
      },
      "execution_count": 352,
      "outputs": []
    },
    {
      "cell_type": "code",
      "source": [
        "df[df['floor'] == 'does not apply']['propertyType'].unique()"
      ],
      "metadata": {
        "colab": {
          "base_uri": "https://localhost:8080/"
        },
        "id": "36uBmBTDJL9b",
        "outputId": "df30ff8b-9f2c-4470-fe87-f4f5d2b90bf1"
      },
      "execution_count": 353,
      "outputs": [
        {
          "output_type": "execute_result",
          "data": {
            "text/plain": [
              "array(['chalet', 'rural house'], dtype=object)"
            ]
          },
          "metadata": {},
          "execution_count": 353
        }
      ]
    },
    {
      "cell_type": "code",
      "source": [
        "# isNewDevelopment transformations\n",
        "df['isNewDevelopment'].unique()"
      ],
      "metadata": {
        "colab": {
          "base_uri": "https://localhost:8080/"
        },
        "id": "0A5CQ36oJ5cq",
        "outputId": "364f2bcf-efdb-4d3b-ade2-a754d123e8bc"
      },
      "execution_count": 354,
      "outputs": [
        {
          "output_type": "execute_result",
          "data": {
            "text/plain": [
              "array([0.0, 1.0, 'False'], dtype=object)"
            ]
          },
          "metadata": {},
          "execution_count": 354
        }
      ]
    },
    {
      "cell_type": "code",
      "source": [
        "df.loc[df['isNewDevelopment'] == 'False','isNewDevelopment'] = 0.0"
      ],
      "metadata": {
        "id": "67907iT_KNWR"
      },
      "execution_count": 355,
      "outputs": []
    },
    {
      "cell_type": "code",
      "source": [
        "df['isNewDevelopment'].unique()"
      ],
      "metadata": {
        "colab": {
          "base_uri": "https://localhost:8080/"
        },
        "id": "vGD4mF7CK3qS",
        "outputId": "913e7120-b60e-4262-99f3-4fc59913f28f"
      },
      "execution_count": 356,
      "outputs": [
        {
          "output_type": "execute_result",
          "data": {
            "text/plain": [
              "array([0.0, 1.0], dtype=object)"
            ]
          },
          "metadata": {},
          "execution_count": 356
        }
      ]
    },
    {
      "cell_type": "code",
      "source": [
        "# district transformations\n",
        "df['district'].unique()"
      ],
      "metadata": {
        "colab": {
          "base_uri": "https://localhost:8080/"
        },
        "id": "yr1KLxiAOBld",
        "outputId": "2a1612ff-52b2-4f7f-f334-3b0ea505e581"
      },
      "execution_count": 364,
      "outputs": [
        {
          "output_type": "execute_result",
          "data": {
            "text/plain": [
              "array(['Tetuán', 'Puente de Vallecas', 'Centro', 'Barrio de Salamanca',\n",
              "       'Chamberí', 'San Blas', 'Villaverde', 'Vicálvaro', 'Carabanchel',\n",
              "       'Fuencarral', 'Retiro', 'Chamartín', 'Arganzuela', 'Moncloa',\n",
              "       'Villa de Vallecas', 'Hortaleza', 'Latina', 'Ciudad Lineal',\n",
              "       'Usera', 'Barajas', 'Moratalaz', 'Fuencarral - El Pardo',\n",
              "       'Moncloa - Aravaca'], dtype=object)"
            ]
          },
          "metadata": {},
          "execution_count": 364
        }
      ]
    },
    {
      "cell_type": "code",
      "source": [
        "df.loc[df['district'] == 'Moncloa - Aravaca','district'] = 'Moncloa'\n",
        "df.loc[df['district'] == 'Fuencarral - El Pardo','district'] = 'Fuencarral'\n",
        "df.loc[df['district'] == 'Barrio de Salamanca','district'] = 'Salamanca'"
      ],
      "metadata": {
        "id": "wDe2ADmgOHHR"
      },
      "execution_count": 369,
      "outputs": []
    },
    {
      "cell_type": "code",
      "source": [
        "df['hasParking'] = df['hasParking'].astype('int64')\n",
        "df['roomNumber'] = df['roomNumber'].astype('int64')\n",
        "df['bathNumber'] = df['bathNumber'].astype('int64')\n",
        "df['hasSwimmingPool'] = df['hasSwimmingPool'].astype('int64')\n",
        "df['hasTerrace'] = df['hasTerrace'].astype('int64')\n",
        "df['hasGarden'] = df['hasGarden'].astype('int64')\n",
        "df['hasLift'] = df['hasLift'].astype('int64')\n",
        "df['isGoodCondition'] = df['isGoodCondition'].astype('int64')\n",
        "df['isNeedsRenovating'] = df['isNeedsRenovating'].astype('int64')\n",
        "df['isNewDevelopment'] = df['isNewDevelopment'].astype('int64')"
      ],
      "metadata": {
        "id": "sglXcJfQEpyB"
      },
      "execution_count": 370,
      "outputs": []
    },
    {
      "cell_type": "code",
      "source": [
        "price_m2_per_area = df[['district','price_m2']].groupby(['district']).median().reset_index()\n",
        "price_m2_per_area = {key:value for key,value in price_m2_per_area.values}\n",
        "\n",
        "price_m2_per_area"
      ],
      "metadata": {
        "colab": {
          "base_uri": "https://localhost:8080/"
        },
        "id": "NhjBOAIvLsdF",
        "outputId": "4d34f344-9029-4f21-ac87-818e8b068ff9"
      },
      "execution_count": 374,
      "outputs": [
        {
          "output_type": "execute_result",
          "data": {
            "text/plain": [
              "{'Arganzuela': 3860.29,\n",
              " 'Barajas': 3437.5,\n",
              " 'Carabanchel': 2500.0,\n",
              " 'Centro': 5331.715,\n",
              " 'Chamartín': 6086.96,\n",
              " 'Chamberí': 6027.355,\n",
              " 'Ciudad Lineal': 3434.8450000000003,\n",
              " 'Fuencarral': 4315.045,\n",
              " 'Hortaleza': 4166.67,\n",
              " 'Latina': 2214.29,\n",
              " 'Moncloa': 4418.6,\n",
              " 'Moratalaz': 2666.67,\n",
              " 'Puente de Vallecas': 2481.48,\n",
              " 'Retiro': 4657.995,\n",
              " 'Salamanca': 7474.595,\n",
              " 'San Blas': 2461.54,\n",
              " 'Tetuán': 4591.48,\n",
              " 'Usera': 2688.1,\n",
              " 'Vicálvaro': 2912.4700000000003,\n",
              " 'Villa de Vallecas': 2617.51,\n",
              " 'Villaverde': 2150.95}"
            ]
          },
          "metadata": {},
          "execution_count": 374
        }
      ]
    },
    {
      "cell_type": "code",
      "source": [
        "df['price_m2'] = (df['price'] / df['size']).round(2)\n",
        "\n",
        "# Idealista often suffer from fraudolent announces so it's better to aggregate \n",
        "# the price_m2_per_area using the median as it is more robust than the mean\n",
        "price_m2_per_area = df[['district','price_m2']].groupby(['district']).median().reset_index()\n",
        "price_m2_per_area = {key:value for key,value in price_m2_per_area.values}\n",
        "\n",
        "df['district_price'] = df['district'].map(price_m2_per_area).astype(float).round(2)"
      ],
      "metadata": {
        "id": "gHUIZ9DdjJln"
      },
      "execution_count": 375,
      "outputs": []
    },
    {
      "cell_type": "code",
      "source": [
        "df.info()"
      ],
      "metadata": {
        "colab": {
          "base_uri": "https://localhost:8080/"
        },
        "id": "7uR7R79MLIOs",
        "outputId": "7d81ee11-7e94-48df-8d21-e08e7d2a2f18"
      },
      "execution_count": 376,
      "outputs": [
        {
          "output_type": "stream",
          "name": "stdout",
          "text": [
            "<class 'pandas.core.frame.DataFrame'>\n",
            "RangeIndex: 24387 entries, 0 to 24386\n",
            "Data columns (total 20 columns):\n",
            " #   Column             Non-Null Count  Dtype  \n",
            "---  ------             --------------  -----  \n",
            " 0   id                 24387 non-null  object \n",
            " 1   propertyType       24387 non-null  object \n",
            " 2   price              24387 non-null  float64\n",
            " 3   size               24387 non-null  float64\n",
            " 4   hasParking         24387 non-null  int64  \n",
            " 5   roomNumber         24387 non-null  int64  \n",
            " 6   bathNumber         24387 non-null  int64  \n",
            " 7   hasSwimmingPool    24387 non-null  int64  \n",
            " 8   hasTerrace         24387 non-null  int64  \n",
            " 9   hasGarden          24387 non-null  int64  \n",
            " 10  hasLift            24387 non-null  int64  \n",
            " 11  isGoodCondition    24387 non-null  int64  \n",
            " 12  isNeedsRenovating  24387 non-null  int64  \n",
            " 13  isNewDevelopment   24387 non-null  int64  \n",
            " 14  heatingType        24387 non-null  object \n",
            " 15  floor              24387 non-null  object \n",
            " 16  origin             24387 non-null  object \n",
            " 17  district           24387 non-null  object \n",
            " 18  price_m2           24387 non-null  float64\n",
            " 19  district_price     24387 non-null  float64\n",
            "dtypes: float64(4), int64(10), object(6)\n",
            "memory usage: 3.7+ MB\n"
          ]
        }
      ]
    },
    {
      "cell_type": "code",
      "source": [
        "df"
      ],
      "metadata": {
        "colab": {
          "base_uri": "https://localhost:8080/",
          "height": 423
        },
        "id": "erEvF277LLey",
        "outputId": "e5629437-1478-4ce3-9932-aad0548c9b23"
      },
      "execution_count": 378,
      "outputs": [
        {
          "output_type": "execute_result",
          "data": {
            "text/plain": [
              "               id propertyType     price   size  hasParking  roomNumber  \\\n",
              "0      98255270.0         flat  995000.0  179.0           0           4   \n",
              "1      94343260.0         flat   99000.0   56.0           0           3   \n",
              "2      98119783.0         flat  425000.0   31.0           0           2   \n",
              "3      97132927.0         flat  136000.0   55.0           0           2   \n",
              "4      97611862.0         flat  574300.0   94.0           0           4   \n",
              "...           ...          ...       ...    ...         ...         ...   \n",
              "24382   164078866         flat  340000.0  143.0           1           3   \n",
              "24383   160436162         flat  239000.0   89.0           1           3   \n",
              "24384   164083993         flat  299999.0  105.0           0           3   \n",
              "24385   164015185         flat  750000.0  161.0           0           3   \n",
              "24386   163389966         flat  720000.0  160.0           1           4   \n",
              "\n",
              "       bathNumber  hasSwimmingPool  hasTerrace  hasGarden  hasLift  \\\n",
              "0               5                0           0          0        1   \n",
              "1               1                0           0          0        0   \n",
              "2               1                0           0          0        1   \n",
              "3               1                0           0          0        0   \n",
              "4               1                0           0          0        1   \n",
              "...           ...              ...         ...        ...      ...   \n",
              "24382           2                0           0          0        1   \n",
              "24383           2                0           0          0        1   \n",
              "24384           2                0           1          0        1   \n",
              "24385           3                1           1          1        1   \n",
              "24386           3                1           0          0        1   \n",
              "\n",
              "       isGoodCondition  isNeedsRenovating  isNewDevelopment  heatingType  \\\n",
              "0                    1                  0                 0  Gas natural   \n",
              "1                    1                  0                 0      no info   \n",
              "2                    1                  0                 0      no info   \n",
              "3                    1                  0                 0    Eléctrica   \n",
              "4                    1                  0                 0      no info   \n",
              "...                ...                ...               ...          ...   \n",
              "24382                1                  0                 0      no info   \n",
              "24383                1                  0                 0      no info   \n",
              "24384                1                  0                 0      no info   \n",
              "24385                1                  0                 0      no info   \n",
              "24386                1                  0                 0      no info   \n",
              "\n",
              "         floor     origin            district  price_m2  district_price  \n",
              "0            1  idealista              Tetuán   5558.66         4591.48  \n",
              "1      no info  idealista  Puente de Vallecas   1767.86         2481.48  \n",
              "2            5  idealista              Centro  13709.68         5331.72  \n",
              "3            3  idealista  Puente de Vallecas   2472.73         2481.48  \n",
              "4            4  idealista           Salamanca   6109.57         7474.60  \n",
              "...        ...        ...                 ...       ...             ...  \n",
              "24382        0   fotocasa          Villaverde   2377.62         2150.95  \n",
              "24383        0   fotocasa   Villa de Vallecas   2685.39         2617.51  \n",
              "24384        0   fotocasa  Puente de Vallecas   2857.13         2481.48  \n",
              "24385        0   fotocasa          Fuencarral   4658.39         4315.04  \n",
              "24386        0   fotocasa              Retiro   4500.00         4658.00  \n",
              "\n",
              "[24387 rows x 20 columns]"
            ],
            "text/html": [
              "\n",
              "  <div id=\"df-ccee5c27-46ab-4a59-b24d-c9a21533032d\">\n",
              "    <div class=\"colab-df-container\">\n",
              "      <div>\n",
              "<style scoped>\n",
              "    .dataframe tbody tr th:only-of-type {\n",
              "        vertical-align: middle;\n",
              "    }\n",
              "\n",
              "    .dataframe tbody tr th {\n",
              "        vertical-align: top;\n",
              "    }\n",
              "\n",
              "    .dataframe thead th {\n",
              "        text-align: right;\n",
              "    }\n",
              "</style>\n",
              "<table border=\"1\" class=\"dataframe\">\n",
              "  <thead>\n",
              "    <tr style=\"text-align: right;\">\n",
              "      <th></th>\n",
              "      <th>id</th>\n",
              "      <th>propertyType</th>\n",
              "      <th>price</th>\n",
              "      <th>size</th>\n",
              "      <th>hasParking</th>\n",
              "      <th>roomNumber</th>\n",
              "      <th>bathNumber</th>\n",
              "      <th>hasSwimmingPool</th>\n",
              "      <th>hasTerrace</th>\n",
              "      <th>hasGarden</th>\n",
              "      <th>hasLift</th>\n",
              "      <th>isGoodCondition</th>\n",
              "      <th>isNeedsRenovating</th>\n",
              "      <th>isNewDevelopment</th>\n",
              "      <th>heatingType</th>\n",
              "      <th>floor</th>\n",
              "      <th>origin</th>\n",
              "      <th>district</th>\n",
              "      <th>price_m2</th>\n",
              "      <th>district_price</th>\n",
              "    </tr>\n",
              "  </thead>\n",
              "  <tbody>\n",
              "    <tr>\n",
              "      <th>0</th>\n",
              "      <td>98255270.0</td>\n",
              "      <td>flat</td>\n",
              "      <td>995000.0</td>\n",
              "      <td>179.0</td>\n",
              "      <td>0</td>\n",
              "      <td>4</td>\n",
              "      <td>5</td>\n",
              "      <td>0</td>\n",
              "      <td>0</td>\n",
              "      <td>0</td>\n",
              "      <td>1</td>\n",
              "      <td>1</td>\n",
              "      <td>0</td>\n",
              "      <td>0</td>\n",
              "      <td>Gas natural</td>\n",
              "      <td>1</td>\n",
              "      <td>idealista</td>\n",
              "      <td>Tetuán</td>\n",
              "      <td>5558.66</td>\n",
              "      <td>4591.48</td>\n",
              "    </tr>\n",
              "    <tr>\n",
              "      <th>1</th>\n",
              "      <td>94343260.0</td>\n",
              "      <td>flat</td>\n",
              "      <td>99000.0</td>\n",
              "      <td>56.0</td>\n",
              "      <td>0</td>\n",
              "      <td>3</td>\n",
              "      <td>1</td>\n",
              "      <td>0</td>\n",
              "      <td>0</td>\n",
              "      <td>0</td>\n",
              "      <td>0</td>\n",
              "      <td>1</td>\n",
              "      <td>0</td>\n",
              "      <td>0</td>\n",
              "      <td>no info</td>\n",
              "      <td>no info</td>\n",
              "      <td>idealista</td>\n",
              "      <td>Puente de Vallecas</td>\n",
              "      <td>1767.86</td>\n",
              "      <td>2481.48</td>\n",
              "    </tr>\n",
              "    <tr>\n",
              "      <th>2</th>\n",
              "      <td>98119783.0</td>\n",
              "      <td>flat</td>\n",
              "      <td>425000.0</td>\n",
              "      <td>31.0</td>\n",
              "      <td>0</td>\n",
              "      <td>2</td>\n",
              "      <td>1</td>\n",
              "      <td>0</td>\n",
              "      <td>0</td>\n",
              "      <td>0</td>\n",
              "      <td>1</td>\n",
              "      <td>1</td>\n",
              "      <td>0</td>\n",
              "      <td>0</td>\n",
              "      <td>no info</td>\n",
              "      <td>5</td>\n",
              "      <td>idealista</td>\n",
              "      <td>Centro</td>\n",
              "      <td>13709.68</td>\n",
              "      <td>5331.72</td>\n",
              "    </tr>\n",
              "    <tr>\n",
              "      <th>3</th>\n",
              "      <td>97132927.0</td>\n",
              "      <td>flat</td>\n",
              "      <td>136000.0</td>\n",
              "      <td>55.0</td>\n",
              "      <td>0</td>\n",
              "      <td>2</td>\n",
              "      <td>1</td>\n",
              "      <td>0</td>\n",
              "      <td>0</td>\n",
              "      <td>0</td>\n",
              "      <td>0</td>\n",
              "      <td>1</td>\n",
              "      <td>0</td>\n",
              "      <td>0</td>\n",
              "      <td>Eléctrica</td>\n",
              "      <td>3</td>\n",
              "      <td>idealista</td>\n",
              "      <td>Puente de Vallecas</td>\n",
              "      <td>2472.73</td>\n",
              "      <td>2481.48</td>\n",
              "    </tr>\n",
              "    <tr>\n",
              "      <th>4</th>\n",
              "      <td>97611862.0</td>\n",
              "      <td>flat</td>\n",
              "      <td>574300.0</td>\n",
              "      <td>94.0</td>\n",
              "      <td>0</td>\n",
              "      <td>4</td>\n",
              "      <td>1</td>\n",
              "      <td>0</td>\n",
              "      <td>0</td>\n",
              "      <td>0</td>\n",
              "      <td>1</td>\n",
              "      <td>1</td>\n",
              "      <td>0</td>\n",
              "      <td>0</td>\n",
              "      <td>no info</td>\n",
              "      <td>4</td>\n",
              "      <td>idealista</td>\n",
              "      <td>Salamanca</td>\n",
              "      <td>6109.57</td>\n",
              "      <td>7474.60</td>\n",
              "    </tr>\n",
              "    <tr>\n",
              "      <th>...</th>\n",
              "      <td>...</td>\n",
              "      <td>...</td>\n",
              "      <td>...</td>\n",
              "      <td>...</td>\n",
              "      <td>...</td>\n",
              "      <td>...</td>\n",
              "      <td>...</td>\n",
              "      <td>...</td>\n",
              "      <td>...</td>\n",
              "      <td>...</td>\n",
              "      <td>...</td>\n",
              "      <td>...</td>\n",
              "      <td>...</td>\n",
              "      <td>...</td>\n",
              "      <td>...</td>\n",
              "      <td>...</td>\n",
              "      <td>...</td>\n",
              "      <td>...</td>\n",
              "      <td>...</td>\n",
              "      <td>...</td>\n",
              "    </tr>\n",
              "    <tr>\n",
              "      <th>24382</th>\n",
              "      <td>164078866</td>\n",
              "      <td>flat</td>\n",
              "      <td>340000.0</td>\n",
              "      <td>143.0</td>\n",
              "      <td>1</td>\n",
              "      <td>3</td>\n",
              "      <td>2</td>\n",
              "      <td>0</td>\n",
              "      <td>0</td>\n",
              "      <td>0</td>\n",
              "      <td>1</td>\n",
              "      <td>1</td>\n",
              "      <td>0</td>\n",
              "      <td>0</td>\n",
              "      <td>no info</td>\n",
              "      <td>0</td>\n",
              "      <td>fotocasa</td>\n",
              "      <td>Villaverde</td>\n",
              "      <td>2377.62</td>\n",
              "      <td>2150.95</td>\n",
              "    </tr>\n",
              "    <tr>\n",
              "      <th>24383</th>\n",
              "      <td>160436162</td>\n",
              "      <td>flat</td>\n",
              "      <td>239000.0</td>\n",
              "      <td>89.0</td>\n",
              "      <td>1</td>\n",
              "      <td>3</td>\n",
              "      <td>2</td>\n",
              "      <td>0</td>\n",
              "      <td>0</td>\n",
              "      <td>0</td>\n",
              "      <td>1</td>\n",
              "      <td>1</td>\n",
              "      <td>0</td>\n",
              "      <td>0</td>\n",
              "      <td>no info</td>\n",
              "      <td>0</td>\n",
              "      <td>fotocasa</td>\n",
              "      <td>Villa de Vallecas</td>\n",
              "      <td>2685.39</td>\n",
              "      <td>2617.51</td>\n",
              "    </tr>\n",
              "    <tr>\n",
              "      <th>24384</th>\n",
              "      <td>164083993</td>\n",
              "      <td>flat</td>\n",
              "      <td>299999.0</td>\n",
              "      <td>105.0</td>\n",
              "      <td>0</td>\n",
              "      <td>3</td>\n",
              "      <td>2</td>\n",
              "      <td>0</td>\n",
              "      <td>1</td>\n",
              "      <td>0</td>\n",
              "      <td>1</td>\n",
              "      <td>1</td>\n",
              "      <td>0</td>\n",
              "      <td>0</td>\n",
              "      <td>no info</td>\n",
              "      <td>0</td>\n",
              "      <td>fotocasa</td>\n",
              "      <td>Puente de Vallecas</td>\n",
              "      <td>2857.13</td>\n",
              "      <td>2481.48</td>\n",
              "    </tr>\n",
              "    <tr>\n",
              "      <th>24385</th>\n",
              "      <td>164015185</td>\n",
              "      <td>flat</td>\n",
              "      <td>750000.0</td>\n",
              "      <td>161.0</td>\n",
              "      <td>0</td>\n",
              "      <td>3</td>\n",
              "      <td>3</td>\n",
              "      <td>1</td>\n",
              "      <td>1</td>\n",
              "      <td>1</td>\n",
              "      <td>1</td>\n",
              "      <td>1</td>\n",
              "      <td>0</td>\n",
              "      <td>0</td>\n",
              "      <td>no info</td>\n",
              "      <td>0</td>\n",
              "      <td>fotocasa</td>\n",
              "      <td>Fuencarral</td>\n",
              "      <td>4658.39</td>\n",
              "      <td>4315.04</td>\n",
              "    </tr>\n",
              "    <tr>\n",
              "      <th>24386</th>\n",
              "      <td>163389966</td>\n",
              "      <td>flat</td>\n",
              "      <td>720000.0</td>\n",
              "      <td>160.0</td>\n",
              "      <td>1</td>\n",
              "      <td>4</td>\n",
              "      <td>3</td>\n",
              "      <td>1</td>\n",
              "      <td>0</td>\n",
              "      <td>0</td>\n",
              "      <td>1</td>\n",
              "      <td>1</td>\n",
              "      <td>0</td>\n",
              "      <td>0</td>\n",
              "      <td>no info</td>\n",
              "      <td>0</td>\n",
              "      <td>fotocasa</td>\n",
              "      <td>Retiro</td>\n",
              "      <td>4500.00</td>\n",
              "      <td>4658.00</td>\n",
              "    </tr>\n",
              "  </tbody>\n",
              "</table>\n",
              "<p>24387 rows × 20 columns</p>\n",
              "</div>\n",
              "      <button class=\"colab-df-convert\" onclick=\"convertToInteractive('df-ccee5c27-46ab-4a59-b24d-c9a21533032d')\"\n",
              "              title=\"Convert this dataframe to an interactive table.\"\n",
              "              style=\"display:none;\">\n",
              "        \n",
              "  <svg xmlns=\"http://www.w3.org/2000/svg\" height=\"24px\"viewBox=\"0 0 24 24\"\n",
              "       width=\"24px\">\n",
              "    <path d=\"M0 0h24v24H0V0z\" fill=\"none\"/>\n",
              "    <path d=\"M18.56 5.44l.94 2.06.94-2.06 2.06-.94-2.06-.94-.94-2.06-.94 2.06-2.06.94zm-11 1L8.5 8.5l.94-2.06 2.06-.94-2.06-.94L8.5 2.5l-.94 2.06-2.06.94zm10 10l.94 2.06.94-2.06 2.06-.94-2.06-.94-.94-2.06-.94 2.06-2.06.94z\"/><path d=\"M17.41 7.96l-1.37-1.37c-.4-.4-.92-.59-1.43-.59-.52 0-1.04.2-1.43.59L10.3 9.45l-7.72 7.72c-.78.78-.78 2.05 0 2.83L4 21.41c.39.39.9.59 1.41.59.51 0 1.02-.2 1.41-.59l7.78-7.78 2.81-2.81c.8-.78.8-2.07 0-2.86zM5.41 20L4 18.59l7.72-7.72 1.47 1.35L5.41 20z\"/>\n",
              "  </svg>\n",
              "      </button>\n",
              "      \n",
              "  <style>\n",
              "    .colab-df-container {\n",
              "      display:flex;\n",
              "      flex-wrap:wrap;\n",
              "      gap: 12px;\n",
              "    }\n",
              "\n",
              "    .colab-df-convert {\n",
              "      background-color: #E8F0FE;\n",
              "      border: none;\n",
              "      border-radius: 50%;\n",
              "      cursor: pointer;\n",
              "      display: none;\n",
              "      fill: #1967D2;\n",
              "      height: 32px;\n",
              "      padding: 0 0 0 0;\n",
              "      width: 32px;\n",
              "    }\n",
              "\n",
              "    .colab-df-convert:hover {\n",
              "      background-color: #E2EBFA;\n",
              "      box-shadow: 0px 1px 2px rgba(60, 64, 67, 0.3), 0px 1px 3px 1px rgba(60, 64, 67, 0.15);\n",
              "      fill: #174EA6;\n",
              "    }\n",
              "\n",
              "    [theme=dark] .colab-df-convert {\n",
              "      background-color: #3B4455;\n",
              "      fill: #D2E3FC;\n",
              "    }\n",
              "\n",
              "    [theme=dark] .colab-df-convert:hover {\n",
              "      background-color: #434B5C;\n",
              "      box-shadow: 0px 1px 3px 1px rgba(0, 0, 0, 0.15);\n",
              "      filter: drop-shadow(0px 1px 2px rgba(0, 0, 0, 0.3));\n",
              "      fill: #FFFFFF;\n",
              "    }\n",
              "  </style>\n",
              "\n",
              "      <script>\n",
              "        const buttonEl =\n",
              "          document.querySelector('#df-ccee5c27-46ab-4a59-b24d-c9a21533032d button.colab-df-convert');\n",
              "        buttonEl.style.display =\n",
              "          google.colab.kernel.accessAllowed ? 'block' : 'none';\n",
              "\n",
              "        async function convertToInteractive(key) {\n",
              "          const element = document.querySelector('#df-ccee5c27-46ab-4a59-b24d-c9a21533032d');\n",
              "          const dataTable =\n",
              "            await google.colab.kernel.invokeFunction('convertToInteractive',\n",
              "                                                     [key], {});\n",
              "          if (!dataTable) return;\n",
              "\n",
              "          const docLinkHtml = 'Like what you see? Visit the ' +\n",
              "            '<a target=\"_blank\" href=https://colab.research.google.com/notebooks/data_table.ipynb>data table notebook</a>'\n",
              "            + ' to learn more about interactive tables.';\n",
              "          element.innerHTML = '';\n",
              "          dataTable['output_type'] = 'display_data';\n",
              "          await google.colab.output.renderOutput(dataTable, element);\n",
              "          const docLink = document.createElement('div');\n",
              "          docLink.innerHTML = docLinkHtml;\n",
              "          element.appendChild(docLink);\n",
              "        }\n",
              "      </script>\n",
              "    </div>\n",
              "  </div>\n",
              "  "
            ]
          },
          "metadata": {},
          "execution_count": 378
        }
      ]
    }
  ],
  "metadata": {
    "colab": {
      "collapsed_sections": [],
      "provenance": [],
      "include_colab_link": true
    },
    "kernelspec": {
      "display_name": "Python 3",
      "name": "python3"
    },
    "language_info": {
      "name": "python"
    }
  },
  "nbformat": 4,
  "nbformat_minor": 0
}